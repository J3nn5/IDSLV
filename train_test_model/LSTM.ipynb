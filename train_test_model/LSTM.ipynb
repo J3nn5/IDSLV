{
 "cells": [
  {
   "cell_type": "markdown",
   "metadata": {},
   "source": [
    "# **1. Import library**"
   ]
  },
  {
   "cell_type": "code",
   "execution_count": 1,
   "metadata": {},
   "outputs": [],
   "source": [
    "import pandas as pd\n",
    "import numpy as np\n",
    "import tensorflow as tf\n",
    "import time\n",
    "import seaborn as sns\n",
    "import matplotlib.pyplot as plt\n",
    "\n",
    "from sklearn.model_selection import train_test_split\n",
    "from sklearn.preprocessing import StandardScaler, LabelEncoder, OneHotEncoder\n",
    "from sklearn.metrics import (\n",
    "    accuracy_score, \n",
    "    confusion_matrix,  \n",
    "    classification_report,\n",
    "    mean_absolute_error, \n",
    "    mean_squared_error, \n",
    "    explained_variance_score,\n",
    "    f1_score,\n",
    ")\n",
    "\n",
    "from tensorflow.keras.models import Sequential\n",
    "from tensorflow.keras.layers import LSTM, Dense, Dropout, BatchNormalization\n",
    "from tensorflow.keras.optimizers import SGD"
   ]
  },
  {
   "cell_type": "markdown",
   "metadata": {},
   "source": [
    "# **2. Load normalized data**"
   ]
  },
  {
   "cell_type": "code",
   "execution_count": 2,
   "metadata": {},
   "outputs": [],
   "source": [
    "normalized_data = pd.read_csv('../processed_data/normalized_data.csv')\n",
    "X = normalized_data.drop(\"attack_cat\", axis=1).values\n",
    "y = normalized_data[\"attack_cat\"].values"
   ]
  },
  {
   "cell_type": "code",
   "execution_count": 3,
   "metadata": {},
   "outputs": [
    {
     "data": {
      "text/plain": [
       "array([[2.02463370e-03, 4.69704086e-04, 3.63042294e-04, ...,\n",
       "        0.00000000e+00, 0.00000000e+00, 0.00000000e+00],\n",
       "       [1.08317020e-02, 1.22123062e-03, 3.44890180e-03, ...,\n",
       "        0.00000000e+00, 0.00000000e+00, 0.00000000e+00],\n",
       "       [2.70521550e-02, 6.57585721e-04, 1.45216918e-03, ...,\n",
       "        0.00000000e+00, 0.00000000e+00, 0.00000000e+00],\n",
       "       ...,\n",
       "       [0.00000000e+00, 0.00000000e+00, 0.00000000e+00, ...,\n",
       "        0.00000000e+00, 0.00000000e+00, 0.00000000e+00],\n",
       "       [0.00000000e+00, 0.00000000e+00, 0.00000000e+00, ...,\n",
       "        0.00000000e+00, 0.00000000e+00, 0.00000000e+00],\n",
       "       [1.50000028e-07, 9.39408173e-05, 0.00000000e+00, ...,\n",
       "        0.00000000e+00, 0.00000000e+00, 0.00000000e+00]])"
      ]
     },
     "execution_count": 3,
     "metadata": {},
     "output_type": "execute_result"
    }
   ],
   "source": [
    "X"
   ]
  },
  {
   "cell_type": "code",
   "execution_count": 4,
   "metadata": {},
   "outputs": [
    {
     "data": {
      "text/plain": [
       "array(['Normal', 'Normal', 'Normal', ..., 'Normal', 'Normal', 'Normal'],\n",
       "      dtype=object)"
      ]
     },
     "execution_count": 4,
     "metadata": {},
     "output_type": "execute_result"
    }
   ],
   "source": [
    "y"
   ]
  },
  {
   "cell_type": "code",
   "execution_count": 5,
   "metadata": {},
   "outputs": [],
   "source": [
    "# Decode label\n",
    "label_encoder = LabelEncoder()\n",
    "y_encoded = label_encoder.fit_transform(y)\n",
    "onehot_encoder = OneHotEncoder(sparse_output=False)\n",
    "y_onehot = onehot_encoder.fit_transform(y_encoded.reshape(-1, 1))"
   ]
  },
  {
   "cell_type": "code",
   "execution_count": 6,
   "metadata": {},
   "outputs": [],
   "source": [
    "# Chuẩn hóa đặc trưng\n",
    "scaler = StandardScaler()\n",
    "X_scaled = scaler.fit_transform(X)"
   ]
  },
  {
   "cell_type": "code",
   "execution_count": 7,
   "metadata": {},
   "outputs": [],
   "source": [
    "# Split data\n",
    "X_train, X_test, y_train, y_test = train_test_split(X_scaled, y_onehot, test_size=0.2, random_state=42)"
   ]
  },
  {
   "cell_type": "markdown",
   "metadata": {},
   "source": [
    "# **3. Build LSTM model**"
   ]
  },
  {
   "cell_type": "code",
   "execution_count": 8,
   "metadata": {},
   "outputs": [],
   "source": [
    "# Reshape input\n",
    "X_train = X_train.reshape((X_train.shape[0], 1, X_train.shape[1]))\n",
    "X_test = X_test.reshape((X_test.shape[0], 1, X_test.shape[1]))\n",
    "input_shape = (X_train.shape[1], X_train.shape[2])\n",
    "num_classes = y_onehot.shape[1]"
   ]
  },
  {
   "cell_type": "code",
   "execution_count": 9,
   "metadata": {},
   "outputs": [
    {
     "name": "stderr",
     "output_type": "stream",
     "text": [
      "d:\\ML\\env311\\Lib\\site-packages\\keras\\src\\layers\\rnn\\rnn.py:200: UserWarning: Do not pass an `input_shape`/`input_dim` argument to a layer. When using Sequential models, prefer using an `Input(shape)` object as the first layer in the model instead.\n",
      "  super().__init__(**kwargs)\n"
     ]
    }
   ],
   "source": [
    "# LSTM model\n",
    "model = Sequential()\n",
    "\n",
    "model.add(LSTM(256, activation='relu', return_sequences=True, input_shape=input_shape))\n",
    "model.add(BatchNormalization())\n",
    "model.add(LSTM(128, activation='relu', return_sequences=True))\n",
    "model.add(BatchNormalization())\n",
    "model.add(LSTM(64, activation='relu', return_sequences=False))\n",
    "model.add(BatchNormalization())\n",
    "\n",
    "model.add(Dropout(0.3))\n",
    "model.add(Dense(num_classes, activation='softmax'))"
   ]
  },
  {
   "cell_type": "code",
   "execution_count": 10,
   "metadata": {},
   "outputs": [
    {
     "data": {
      "text/html": [
       "<pre style=\"white-space:pre;overflow-x:auto;line-height:normal;font-family:Menlo,'DejaVu Sans Mono',consolas,'Courier New',monospace\"><span style=\"font-weight: bold\">Model: \"sequential\"</span>\n",
       "</pre>\n"
      ],
      "text/plain": [
       "\u001b[1mModel: \"sequential\"\u001b[0m\n"
      ]
     },
     "metadata": {},
     "output_type": "display_data"
    },
    {
     "data": {
      "text/html": [
       "<pre style=\"white-space:pre;overflow-x:auto;line-height:normal;font-family:Menlo,'DejaVu Sans Mono',consolas,'Courier New',monospace\">┏━━━━━━━━━━━━━━━━━━━━━━━━━━━━━━━━━┳━━━━━━━━━━━━━━━━━━━━━━━━┳━━━━━━━━━━━━━━━┓\n",
       "┃<span style=\"font-weight: bold\"> Layer (type)                    </span>┃<span style=\"font-weight: bold\"> Output Shape           </span>┃<span style=\"font-weight: bold\">       Param # </span>┃\n",
       "┡━━━━━━━━━━━━━━━━━━━━━━━━━━━━━━━━━╇━━━━━━━━━━━━━━━━━━━━━━━━╇━━━━━━━━━━━━━━━┩\n",
       "│ lstm (<span style=\"color: #0087ff; text-decoration-color: #0087ff\">LSTM</span>)                     │ (<span style=\"color: #00d7ff; text-decoration-color: #00d7ff\">None</span>, <span style=\"color: #00af00; text-decoration-color: #00af00\">1</span>, <span style=\"color: #00af00; text-decoration-color: #00af00\">256</span>)         │       <span style=\"color: #00af00; text-decoration-color: #00af00\">463,872</span> │\n",
       "├─────────────────────────────────┼────────────────────────┼───────────────┤\n",
       "│ batch_normalization             │ (<span style=\"color: #00d7ff; text-decoration-color: #00d7ff\">None</span>, <span style=\"color: #00af00; text-decoration-color: #00af00\">1</span>, <span style=\"color: #00af00; text-decoration-color: #00af00\">256</span>)         │         <span style=\"color: #00af00; text-decoration-color: #00af00\">1,024</span> │\n",
       "│ (<span style=\"color: #0087ff; text-decoration-color: #0087ff\">BatchNormalization</span>)            │                        │               │\n",
       "├─────────────────────────────────┼────────────────────────┼───────────────┤\n",
       "│ lstm_1 (<span style=\"color: #0087ff; text-decoration-color: #0087ff\">LSTM</span>)                   │ (<span style=\"color: #00d7ff; text-decoration-color: #00d7ff\">None</span>, <span style=\"color: #00af00; text-decoration-color: #00af00\">1</span>, <span style=\"color: #00af00; text-decoration-color: #00af00\">128</span>)         │       <span style=\"color: #00af00; text-decoration-color: #00af00\">197,120</span> │\n",
       "├─────────────────────────────────┼────────────────────────┼───────────────┤\n",
       "│ batch_normalization_1           │ (<span style=\"color: #00d7ff; text-decoration-color: #00d7ff\">None</span>, <span style=\"color: #00af00; text-decoration-color: #00af00\">1</span>, <span style=\"color: #00af00; text-decoration-color: #00af00\">128</span>)         │           <span style=\"color: #00af00; text-decoration-color: #00af00\">512</span> │\n",
       "│ (<span style=\"color: #0087ff; text-decoration-color: #0087ff\">BatchNormalization</span>)            │                        │               │\n",
       "├─────────────────────────────────┼────────────────────────┼───────────────┤\n",
       "│ lstm_2 (<span style=\"color: #0087ff; text-decoration-color: #0087ff\">LSTM</span>)                   │ (<span style=\"color: #00d7ff; text-decoration-color: #00d7ff\">None</span>, <span style=\"color: #00af00; text-decoration-color: #00af00\">64</span>)             │        <span style=\"color: #00af00; text-decoration-color: #00af00\">49,408</span> │\n",
       "├─────────────────────────────────┼────────────────────────┼───────────────┤\n",
       "│ batch_normalization_2           │ (<span style=\"color: #00d7ff; text-decoration-color: #00d7ff\">None</span>, <span style=\"color: #00af00; text-decoration-color: #00af00\">64</span>)             │           <span style=\"color: #00af00; text-decoration-color: #00af00\">256</span> │\n",
       "│ (<span style=\"color: #0087ff; text-decoration-color: #0087ff\">BatchNormalization</span>)            │                        │               │\n",
       "├─────────────────────────────────┼────────────────────────┼───────────────┤\n",
       "│ dropout (<span style=\"color: #0087ff; text-decoration-color: #0087ff\">Dropout</span>)               │ (<span style=\"color: #00d7ff; text-decoration-color: #00d7ff\">None</span>, <span style=\"color: #00af00; text-decoration-color: #00af00\">64</span>)             │             <span style=\"color: #00af00; text-decoration-color: #00af00\">0</span> │\n",
       "├─────────────────────────────────┼────────────────────────┼───────────────┤\n",
       "│ dense (<span style=\"color: #0087ff; text-decoration-color: #0087ff\">Dense</span>)                   │ (<span style=\"color: #00d7ff; text-decoration-color: #00d7ff\">None</span>, <span style=\"color: #00af00; text-decoration-color: #00af00\">10</span>)             │           <span style=\"color: #00af00; text-decoration-color: #00af00\">650</span> │\n",
       "└─────────────────────────────────┴────────────────────────┴───────────────┘\n",
       "</pre>\n"
      ],
      "text/plain": [
       "┏━━━━━━━━━━━━━━━━━━━━━━━━━━━━━━━━━┳━━━━━━━━━━━━━━━━━━━━━━━━┳━━━━━━━━━━━━━━━┓\n",
       "┃\u001b[1m \u001b[0m\u001b[1mLayer (type)                   \u001b[0m\u001b[1m \u001b[0m┃\u001b[1m \u001b[0m\u001b[1mOutput Shape          \u001b[0m\u001b[1m \u001b[0m┃\u001b[1m \u001b[0m\u001b[1m      Param #\u001b[0m\u001b[1m \u001b[0m┃\n",
       "┡━━━━━━━━━━━━━━━━━━━━━━━━━━━━━━━━━╇━━━━━━━━━━━━━━━━━━━━━━━━╇━━━━━━━━━━━━━━━┩\n",
       "│ lstm (\u001b[38;5;33mLSTM\u001b[0m)                     │ (\u001b[38;5;45mNone\u001b[0m, \u001b[38;5;34m1\u001b[0m, \u001b[38;5;34m256\u001b[0m)         │       \u001b[38;5;34m463,872\u001b[0m │\n",
       "├─────────────────────────────────┼────────────────────────┼───────────────┤\n",
       "│ batch_normalization             │ (\u001b[38;5;45mNone\u001b[0m, \u001b[38;5;34m1\u001b[0m, \u001b[38;5;34m256\u001b[0m)         │         \u001b[38;5;34m1,024\u001b[0m │\n",
       "│ (\u001b[38;5;33mBatchNormalization\u001b[0m)            │                        │               │\n",
       "├─────────────────────────────────┼────────────────────────┼───────────────┤\n",
       "│ lstm_1 (\u001b[38;5;33mLSTM\u001b[0m)                   │ (\u001b[38;5;45mNone\u001b[0m, \u001b[38;5;34m1\u001b[0m, \u001b[38;5;34m128\u001b[0m)         │       \u001b[38;5;34m197,120\u001b[0m │\n",
       "├─────────────────────────────────┼────────────────────────┼───────────────┤\n",
       "│ batch_normalization_1           │ (\u001b[38;5;45mNone\u001b[0m, \u001b[38;5;34m1\u001b[0m, \u001b[38;5;34m128\u001b[0m)         │           \u001b[38;5;34m512\u001b[0m │\n",
       "│ (\u001b[38;5;33mBatchNormalization\u001b[0m)            │                        │               │\n",
       "├─────────────────────────────────┼────────────────────────┼───────────────┤\n",
       "│ lstm_2 (\u001b[38;5;33mLSTM\u001b[0m)                   │ (\u001b[38;5;45mNone\u001b[0m, \u001b[38;5;34m64\u001b[0m)             │        \u001b[38;5;34m49,408\u001b[0m │\n",
       "├─────────────────────────────────┼────────────────────────┼───────────────┤\n",
       "│ batch_normalization_2           │ (\u001b[38;5;45mNone\u001b[0m, \u001b[38;5;34m64\u001b[0m)             │           \u001b[38;5;34m256\u001b[0m │\n",
       "│ (\u001b[38;5;33mBatchNormalization\u001b[0m)            │                        │               │\n",
       "├─────────────────────────────────┼────────────────────────┼───────────────┤\n",
       "│ dropout (\u001b[38;5;33mDropout\u001b[0m)               │ (\u001b[38;5;45mNone\u001b[0m, \u001b[38;5;34m64\u001b[0m)             │             \u001b[38;5;34m0\u001b[0m │\n",
       "├─────────────────────────────────┼────────────────────────┼───────────────┤\n",
       "│ dense (\u001b[38;5;33mDense\u001b[0m)                   │ (\u001b[38;5;45mNone\u001b[0m, \u001b[38;5;34m10\u001b[0m)             │           \u001b[38;5;34m650\u001b[0m │\n",
       "└─────────────────────────────────┴────────────────────────┴───────────────┘\n"
      ]
     },
     "metadata": {},
     "output_type": "display_data"
    },
    {
     "data": {
      "text/html": [
       "<pre style=\"white-space:pre;overflow-x:auto;line-height:normal;font-family:Menlo,'DejaVu Sans Mono',consolas,'Courier New',monospace\"><span style=\"font-weight: bold\"> Total params: </span><span style=\"color: #00af00; text-decoration-color: #00af00\">712,842</span> (2.72 MB)\n",
       "</pre>\n"
      ],
      "text/plain": [
       "\u001b[1m Total params: \u001b[0m\u001b[38;5;34m712,842\u001b[0m (2.72 MB)\n"
      ]
     },
     "metadata": {},
     "output_type": "display_data"
    },
    {
     "data": {
      "text/html": [
       "<pre style=\"white-space:pre;overflow-x:auto;line-height:normal;font-family:Menlo,'DejaVu Sans Mono',consolas,'Courier New',monospace\"><span style=\"font-weight: bold\"> Trainable params: </span><span style=\"color: #00af00; text-decoration-color: #00af00\">711,946</span> (2.72 MB)\n",
       "</pre>\n"
      ],
      "text/plain": [
       "\u001b[1m Trainable params: \u001b[0m\u001b[38;5;34m711,946\u001b[0m (2.72 MB)\n"
      ]
     },
     "metadata": {},
     "output_type": "display_data"
    },
    {
     "data": {
      "text/html": [
       "<pre style=\"white-space:pre;overflow-x:auto;line-height:normal;font-family:Menlo,'DejaVu Sans Mono',consolas,'Courier New',monospace\"><span style=\"font-weight: bold\"> Non-trainable params: </span><span style=\"color: #00af00; text-decoration-color: #00af00\">896</span> (3.50 KB)\n",
       "</pre>\n"
      ],
      "text/plain": [
       "\u001b[1m Non-trainable params: \u001b[0m\u001b[38;5;34m896\u001b[0m (3.50 KB)\n"
      ]
     },
     "metadata": {},
     "output_type": "display_data"
    }
   ],
   "source": [
    "# Compile model\n",
    "optimizer = SGD(learning_rate=0.01)\n",
    "model.compile(loss='categorical_crossentropy', optimizer=optimizer, metrics=['accuracy'])\n",
    "model.summary()"
   ]
  },
  {
   "cell_type": "markdown",
   "metadata": {},
   "source": [
    "# **4. Training model**"
   ]
  },
  {
   "cell_type": "code",
   "execution_count": 11,
   "metadata": {},
   "outputs": [
    {
     "name": "stdout",
     "output_type": "stream",
     "text": [
      "Epoch 1/100\n",
      "\u001b[1m1718/1718\u001b[0m \u001b[32m━━━━━━━━━━━━━━━━━━━━\u001b[0m\u001b[37m\u001b[0m \u001b[1m16s\u001b[0m 8ms/step - accuracy: 0.6896 - loss: 0.9524 - val_accuracy: 0.7638 - val_loss: 0.6318\n",
      "Epoch 2/100\n",
      "\u001b[1m1718/1718\u001b[0m \u001b[32m━━━━━━━━━━━━━━━━━━━━\u001b[0m\u001b[37m\u001b[0m \u001b[1m12s\u001b[0m 7ms/step - accuracy: 0.7527 - loss: 0.6331 - val_accuracy: 0.7726 - val_loss: 0.5912\n",
      "Epoch 3/100\n",
      "\u001b[1m1718/1718\u001b[0m \u001b[32m━━━━━━━━━━━━━━━━━━━━\u001b[0m\u001b[37m\u001b[0m \u001b[1m12s\u001b[0m 7ms/step - accuracy: 0.7639 - loss: 0.5970 - val_accuracy: 0.7777 - val_loss: 0.5779\n",
      "Epoch 4/100\n",
      "\u001b[1m1718/1718\u001b[0m \u001b[32m━━━━━━━━━━━━━━━━━━━━\u001b[0m\u001b[37m\u001b[0m \u001b[1m12s\u001b[0m 7ms/step - accuracy: 0.7731 - loss: 0.5763 - val_accuracy: 0.7897 - val_loss: 0.5572\n",
      "Epoch 5/100\n",
      "\u001b[1m1718/1718\u001b[0m \u001b[32m━━━━━━━━━━━━━━━━━━━━\u001b[0m\u001b[37m\u001b[0m \u001b[1m12s\u001b[0m 7ms/step - accuracy: 0.7775 - loss: 0.5643 - val_accuracy: 0.7907 - val_loss: 0.5492\n",
      "Epoch 6/100\n",
      "\u001b[1m1718/1718\u001b[0m \u001b[32m━━━━━━━━━━━━━━━━━━━━\u001b[0m\u001b[37m\u001b[0m \u001b[1m12s\u001b[0m 7ms/step - accuracy: 0.7831 - loss: 0.5502 - val_accuracy: 0.7927 - val_loss: 0.5467\n",
      "Epoch 7/100\n",
      "\u001b[1m1718/1718\u001b[0m \u001b[32m━━━━━━━━━━━━━━━━━━━━\u001b[0m\u001b[37m\u001b[0m \u001b[1m13s\u001b[0m 8ms/step - accuracy: 0.7845 - loss: 0.5444 - val_accuracy: 0.7939 - val_loss: 0.5463\n",
      "Epoch 8/100\n",
      "\u001b[1m1718/1718\u001b[0m \u001b[32m━━━━━━━━━━━━━━━━━━━━\u001b[0m\u001b[37m\u001b[0m \u001b[1m13s\u001b[0m 7ms/step - accuracy: 0.7884 - loss: 0.5343 - val_accuracy: 0.7919 - val_loss: 0.5435\n",
      "Epoch 9/100\n",
      "\u001b[1m1718/1718\u001b[0m \u001b[32m━━━━━━━━━━━━━━━━━━━━\u001b[0m\u001b[37m\u001b[0m \u001b[1m13s\u001b[0m 7ms/step - accuracy: 0.7904 - loss: 0.5305 - val_accuracy: 0.7979 - val_loss: 0.5241\n",
      "Epoch 10/100\n",
      "\u001b[1m1718/1718\u001b[0m \u001b[32m━━━━━━━━━━━━━━━━━━━━\u001b[0m\u001b[37m\u001b[0m \u001b[1m13s\u001b[0m 7ms/step - accuracy: 0.7930 - loss: 0.5238 - val_accuracy: 0.7961 - val_loss: 0.5165\n",
      "Epoch 11/100\n",
      "\u001b[1m1718/1718\u001b[0m \u001b[32m━━━━━━━━━━━━━━━━━━━━\u001b[0m\u001b[37m\u001b[0m \u001b[1m13s\u001b[0m 7ms/step - accuracy: 0.7940 - loss: 0.5229 - val_accuracy: 0.8013 - val_loss: 0.5132\n",
      "Epoch 12/100\n",
      "\u001b[1m1718/1718\u001b[0m \u001b[32m━━━━━━━━━━━━━━━━━━━━\u001b[0m\u001b[37m\u001b[0m \u001b[1m13s\u001b[0m 7ms/step - accuracy: 0.7955 - loss: 0.5157 - val_accuracy: 0.8033 - val_loss: 0.5062\n",
      "Epoch 13/100\n",
      "\u001b[1m1718/1718\u001b[0m \u001b[32m━━━━━━━━━━━━━━━━━━━━\u001b[0m\u001b[37m\u001b[0m \u001b[1m13s\u001b[0m 7ms/step - accuracy: 0.7973 - loss: 0.5124 - val_accuracy: 0.7950 - val_loss: 0.5299\n",
      "Epoch 14/100\n",
      "\u001b[1m1718/1718\u001b[0m \u001b[32m━━━━━━━━━━━━━━━━━━━━\u001b[0m\u001b[37m\u001b[0m \u001b[1m13s\u001b[0m 7ms/step - accuracy: 0.7980 - loss: 0.5114 - val_accuracy: 0.7992 - val_loss: 0.5083\n",
      "Epoch 15/100\n",
      "\u001b[1m1718/1718\u001b[0m \u001b[32m━━━━━━━━━━━━━━━━━━━━\u001b[0m\u001b[37m\u001b[0m \u001b[1m13s\u001b[0m 7ms/step - accuracy: 0.7994 - loss: 0.5059 - val_accuracy: 0.8021 - val_loss: 0.5064\n",
      "Epoch 16/100\n",
      "\u001b[1m1718/1718\u001b[0m \u001b[32m━━━━━━━━━━━━━━━━━━━━\u001b[0m\u001b[37m\u001b[0m \u001b[1m13s\u001b[0m 7ms/step - accuracy: 0.7996 - loss: 0.5050 - val_accuracy: 0.8045 - val_loss: 0.4993\n",
      "Epoch 17/100\n",
      "\u001b[1m1718/1718\u001b[0m \u001b[32m━━━━━━━━━━━━━━━━━━━━\u001b[0m\u001b[37m\u001b[0m \u001b[1m13s\u001b[0m 7ms/step - accuracy: 0.8015 - loss: 0.5015 - val_accuracy: 0.8048 - val_loss: 0.5019\n",
      "Epoch 18/100\n",
      "\u001b[1m1718/1718\u001b[0m \u001b[32m━━━━━━━━━━━━━━━━━━━━\u001b[0m\u001b[37m\u001b[0m \u001b[1m13s\u001b[0m 7ms/step - accuracy: 0.8022 - loss: 0.4980 - val_accuracy: 0.8053 - val_loss: 0.4974\n",
      "Epoch 19/100\n",
      "\u001b[1m1718/1718\u001b[0m \u001b[32m━━━━━━━━━━━━━━━━━━━━\u001b[0m\u001b[37m\u001b[0m \u001b[1m13s\u001b[0m 7ms/step - accuracy: 0.8038 - loss: 0.4957 - val_accuracy: 0.8064 - val_loss: 0.4954\n",
      "Epoch 20/100\n",
      "\u001b[1m1718/1718\u001b[0m \u001b[32m━━━━━━━━━━━━━━━━━━━━\u001b[0m\u001b[37m\u001b[0m \u001b[1m13s\u001b[0m 7ms/step - accuracy: 0.8043 - loss: 0.4938 - val_accuracy: 0.8087 - val_loss: 0.4960\n",
      "Epoch 21/100\n",
      "\u001b[1m1718/1718\u001b[0m \u001b[32m━━━━━━━━━━━━━━━━━━━━\u001b[0m\u001b[37m\u001b[0m \u001b[1m13s\u001b[0m 7ms/step - accuracy: 0.8035 - loss: 0.4928 - val_accuracy: 0.8081 - val_loss: 0.4888\n",
      "Epoch 22/100\n",
      "\u001b[1m1718/1718\u001b[0m \u001b[32m━━━━━━━━━━━━━━━━━━━━\u001b[0m\u001b[37m\u001b[0m \u001b[1m13s\u001b[0m 8ms/step - accuracy: 0.8031 - loss: 0.4909 - val_accuracy: 0.8079 - val_loss: 0.4885\n",
      "Epoch 23/100\n",
      "\u001b[1m1718/1718\u001b[0m \u001b[32m━━━━━━━━━━━━━━━━━━━━\u001b[0m\u001b[37m\u001b[0m \u001b[1m13s\u001b[0m 7ms/step - accuracy: 0.8045 - loss: 0.4919 - val_accuracy: 0.8070 - val_loss: 0.4906\n",
      "Epoch 24/100\n",
      "\u001b[1m1718/1718\u001b[0m \u001b[32m━━━━━━━━━━━━━━━━━━━━\u001b[0m\u001b[37m\u001b[0m \u001b[1m13s\u001b[0m 7ms/step - accuracy: 0.8057 - loss: 0.4847 - val_accuracy: 0.8088 - val_loss: 0.4896\n",
      "Epoch 25/100\n",
      "\u001b[1m1718/1718\u001b[0m \u001b[32m━━━━━━━━━━━━━━━━━━━━\u001b[0m\u001b[37m\u001b[0m \u001b[1m13s\u001b[0m 7ms/step - accuracy: 0.8027 - loss: 0.4908 - val_accuracy: 0.8084 - val_loss: 0.4877\n",
      "Epoch 26/100\n",
      "\u001b[1m1718/1718\u001b[0m \u001b[32m━━━━━━━━━━━━━━━━━━━━\u001b[0m\u001b[37m\u001b[0m \u001b[1m13s\u001b[0m 8ms/step - accuracy: 0.8049 - loss: 0.4845 - val_accuracy: 0.8055 - val_loss: 0.4915\n",
      "Epoch 27/100\n",
      "\u001b[1m1718/1718\u001b[0m \u001b[32m━━━━━━━━━━━━━━━━━━━━\u001b[0m\u001b[37m\u001b[0m \u001b[1m13s\u001b[0m 7ms/step - accuracy: 0.8070 - loss: 0.4825 - val_accuracy: 0.8086 - val_loss: 0.4893\n",
      "Epoch 28/100\n",
      "\u001b[1m1718/1718\u001b[0m \u001b[32m━━━━━━━━━━━━━━━━━━━━\u001b[0m\u001b[37m\u001b[0m \u001b[1m13s\u001b[0m 7ms/step - accuracy: 0.8091 - loss: 0.4776 - val_accuracy: 0.8089 - val_loss: 0.4861\n",
      "Epoch 29/100\n",
      "\u001b[1m1718/1718\u001b[0m \u001b[32m━━━━━━━━━━━━━━━━━━━━\u001b[0m\u001b[37m\u001b[0m \u001b[1m13s\u001b[0m 7ms/step - accuracy: 0.8078 - loss: 0.4808 - val_accuracy: 0.8067 - val_loss: 0.4882\n",
      "Epoch 30/100\n",
      "\u001b[1m1718/1718\u001b[0m \u001b[32m━━━━━━━━━━━━━━━━━━━━\u001b[0m\u001b[37m\u001b[0m \u001b[1m13s\u001b[0m 7ms/step - accuracy: 0.8090 - loss: 0.4770 - val_accuracy: 0.8117 - val_loss: 0.4747\n",
      "Epoch 31/100\n",
      "\u001b[1m1718/1718\u001b[0m \u001b[32m━━━━━━━━━━━━━━━━━━━━\u001b[0m\u001b[37m\u001b[0m \u001b[1m13s\u001b[0m 7ms/step - accuracy: 0.8088 - loss: 0.4773 - val_accuracy: 0.8061 - val_loss: 0.4820\n",
      "Epoch 32/100\n",
      "\u001b[1m1718/1718\u001b[0m \u001b[32m━━━━━━━━━━━━━━━━━━━━\u001b[0m\u001b[37m\u001b[0m \u001b[1m13s\u001b[0m 7ms/step - accuracy: 0.8076 - loss: 0.4777 - val_accuracy: 0.8102 - val_loss: 0.4825\n",
      "Epoch 33/100\n",
      "\u001b[1m1718/1718\u001b[0m \u001b[32m━━━━━━━━━━━━━━━━━━━━\u001b[0m\u001b[37m\u001b[0m \u001b[1m13s\u001b[0m 7ms/step - accuracy: 0.8086 - loss: 0.4752 - val_accuracy: 0.8087 - val_loss: 0.4929\n",
      "Epoch 34/100\n",
      "\u001b[1m1718/1718\u001b[0m \u001b[32m━━━━━━━━━━━━━━━━━━━━\u001b[0m\u001b[37m\u001b[0m \u001b[1m13s\u001b[0m 8ms/step - accuracy: 0.8093 - loss: 0.4745 - val_accuracy: 0.8083 - val_loss: 0.4830\n",
      "Epoch 35/100\n",
      "\u001b[1m1718/1718\u001b[0m \u001b[32m━━━━━━━━━━━━━━━━━━━━\u001b[0m\u001b[37m\u001b[0m \u001b[1m13s\u001b[0m 7ms/step - accuracy: 0.8092 - loss: 0.4740 - val_accuracy: 0.8127 - val_loss: 0.4771\n",
      "Epoch 36/100\n",
      "\u001b[1m1718/1718\u001b[0m \u001b[32m━━━━━━━━━━━━━━━━━━━━\u001b[0m\u001b[37m\u001b[0m \u001b[1m13s\u001b[0m 8ms/step - accuracy: 0.8114 - loss: 0.4712 - val_accuracy: 0.8119 - val_loss: 0.4798\n",
      "Epoch 37/100\n",
      "\u001b[1m1718/1718\u001b[0m \u001b[32m━━━━━━━━━━━━━━━━━━━━\u001b[0m\u001b[37m\u001b[0m \u001b[1m13s\u001b[0m 7ms/step - accuracy: 0.8104 - loss: 0.4697 - val_accuracy: 0.8037 - val_loss: 0.5003\n",
      "Epoch 38/100\n",
      "\u001b[1m1718/1718\u001b[0m \u001b[32m━━━━━━━━━━━━━━━━━━━━\u001b[0m\u001b[37m\u001b[0m \u001b[1m13s\u001b[0m 7ms/step - accuracy: 0.8108 - loss: 0.4667 - val_accuracy: 0.8151 - val_loss: 0.4671\n",
      "Epoch 39/100\n",
      "\u001b[1m1718/1718\u001b[0m \u001b[32m━━━━━━━━━━━━━━━━━━━━\u001b[0m\u001b[37m\u001b[0m \u001b[1m13s\u001b[0m 7ms/step - accuracy: 0.8125 - loss: 0.4654 - val_accuracy: 0.8128 - val_loss: 0.4715\n",
      "Epoch 40/100\n",
      "\u001b[1m1718/1718\u001b[0m \u001b[32m━━━━━━━━━━━━━━━━━━━━\u001b[0m\u001b[37m\u001b[0m \u001b[1m13s\u001b[0m 7ms/step - accuracy: 0.8113 - loss: 0.4685 - val_accuracy: 0.8113 - val_loss: 0.4716\n",
      "Epoch 41/100\n",
      "\u001b[1m1718/1718\u001b[0m \u001b[32m━━━━━━━━━━━━━━━━━━━━\u001b[0m\u001b[37m\u001b[0m \u001b[1m13s\u001b[0m 7ms/step - accuracy: 0.8123 - loss: 0.4670 - val_accuracy: 0.8137 - val_loss: 0.4793\n",
      "Epoch 42/100\n",
      "\u001b[1m1718/1718\u001b[0m \u001b[32m━━━━━━━━━━━━━━━━━━━━\u001b[0m\u001b[37m\u001b[0m \u001b[1m13s\u001b[0m 7ms/step - accuracy: 0.8108 - loss: 0.4684 - val_accuracy: 0.8129 - val_loss: 0.4781\n",
      "Epoch 43/100\n",
      "\u001b[1m1718/1718\u001b[0m \u001b[32m━━━━━━━━━━━━━━━━━━━━\u001b[0m\u001b[37m\u001b[0m \u001b[1m13s\u001b[0m 8ms/step - accuracy: 0.8128 - loss: 0.4645 - val_accuracy: 0.8149 - val_loss: 0.4670\n",
      "Epoch 44/100\n",
      "\u001b[1m1718/1718\u001b[0m \u001b[32m━━━━━━━━━━━━━━━━━━━━\u001b[0m\u001b[37m\u001b[0m \u001b[1m13s\u001b[0m 8ms/step - accuracy: 0.8122 - loss: 0.4631 - val_accuracy: 0.8068 - val_loss: 0.4920\n",
      "Epoch 45/100\n",
      "\u001b[1m1718/1718\u001b[0m \u001b[32m━━━━━━━━━━━━━━━━━━━━\u001b[0m\u001b[37m\u001b[0m \u001b[1m13s\u001b[0m 7ms/step - accuracy: 0.8127 - loss: 0.4639 - val_accuracy: 0.8111 - val_loss: 0.4684\n",
      "Epoch 46/100\n",
      "\u001b[1m1718/1718\u001b[0m \u001b[32m━━━━━━━━━━━━━━━━━━━━\u001b[0m\u001b[37m\u001b[0m \u001b[1m13s\u001b[0m 7ms/step - accuracy: 0.8121 - loss: 0.4640 - val_accuracy: 0.8153 - val_loss: 0.4704\n",
      "Epoch 47/100\n",
      "\u001b[1m1718/1718\u001b[0m \u001b[32m━━━━━━━━━━━━━━━━━━━━\u001b[0m\u001b[37m\u001b[0m \u001b[1m13s\u001b[0m 7ms/step - accuracy: 0.8153 - loss: 0.4581 - val_accuracy: 0.8147 - val_loss: 0.4632\n",
      "Epoch 48/100\n",
      "\u001b[1m1718/1718\u001b[0m \u001b[32m━━━━━━━━━━━━━━━━━━━━\u001b[0m\u001b[37m\u001b[0m \u001b[1m13s\u001b[0m 7ms/step - accuracy: 0.8133 - loss: 0.4618 - val_accuracy: 0.8140 - val_loss: 0.4659\n",
      "Epoch 49/100\n",
      "\u001b[1m1718/1718\u001b[0m \u001b[32m━━━━━━━━━━━━━━━━━━━━\u001b[0m\u001b[37m\u001b[0m \u001b[1m13s\u001b[0m 7ms/step - accuracy: 0.8136 - loss: 0.4588 - val_accuracy: 0.8137 - val_loss: 0.4693\n",
      "Epoch 50/100\n",
      "\u001b[1m1718/1718\u001b[0m \u001b[32m━━━━━━━━━━━━━━━━━━━━\u001b[0m\u001b[37m\u001b[0m \u001b[1m13s\u001b[0m 8ms/step - accuracy: 0.8133 - loss: 0.4613 - val_accuracy: 0.8126 - val_loss: 0.4647\n",
      "Epoch 51/100\n",
      "\u001b[1m1718/1718\u001b[0m \u001b[32m━━━━━━━━━━━━━━━━━━━━\u001b[0m\u001b[37m\u001b[0m \u001b[1m13s\u001b[0m 7ms/step - accuracy: 0.8150 - loss: 0.4594 - val_accuracy: 0.8128 - val_loss: 0.4733\n",
      "Epoch 52/100\n",
      "\u001b[1m1718/1718\u001b[0m \u001b[32m━━━━━━━━━━━━━━━━━━━━\u001b[0m\u001b[37m\u001b[0m \u001b[1m13s\u001b[0m 7ms/step - accuracy: 0.8140 - loss: 0.4591 - val_accuracy: 0.8149 - val_loss: 0.4720\n",
      "Epoch 53/100\n",
      "\u001b[1m1718/1718\u001b[0m \u001b[32m━━━━━━━━━━━━━━━━━━━━\u001b[0m\u001b[37m\u001b[0m \u001b[1m13s\u001b[0m 7ms/step - accuracy: 0.8148 - loss: 0.4587 - val_accuracy: 0.8151 - val_loss: 0.4613\n",
      "Epoch 54/100\n",
      "\u001b[1m1718/1718\u001b[0m \u001b[32m━━━━━━━━━━━━━━━━━━━━\u001b[0m\u001b[37m\u001b[0m \u001b[1m13s\u001b[0m 8ms/step - accuracy: 0.8168 - loss: 0.4554 - val_accuracy: 0.8153 - val_loss: 0.4637\n",
      "Epoch 55/100\n",
      "\u001b[1m1718/1718\u001b[0m \u001b[32m━━━━━━━━━━━━━━━━━━━━\u001b[0m\u001b[37m\u001b[0m \u001b[1m13s\u001b[0m 8ms/step - accuracy: 0.8153 - loss: 0.4558 - val_accuracy: 0.8140 - val_loss: 0.4694\n",
      "Epoch 56/100\n",
      "\u001b[1m1718/1718\u001b[0m \u001b[32m━━━━━━━━━━━━━━━━━━━━\u001b[0m\u001b[37m\u001b[0m \u001b[1m13s\u001b[0m 7ms/step - accuracy: 0.8137 - loss: 0.4578 - val_accuracy: 0.8173 - val_loss: 0.4573\n",
      "Epoch 57/100\n",
      "\u001b[1m1718/1718\u001b[0m \u001b[32m━━━━━━━━━━━━━━━━━━━━\u001b[0m\u001b[37m\u001b[0m \u001b[1m13s\u001b[0m 7ms/step - accuracy: 0.8155 - loss: 0.4564 - val_accuracy: 0.8178 - val_loss: 0.4627\n",
      "Epoch 58/100\n",
      "\u001b[1m1718/1718\u001b[0m \u001b[32m━━━━━━━━━━━━━━━━━━━━\u001b[0m\u001b[37m\u001b[0m \u001b[1m13s\u001b[0m 8ms/step - accuracy: 0.8187 - loss: 0.4496 - val_accuracy: 0.8161 - val_loss: 0.4632\n",
      "Epoch 59/100\n",
      "\u001b[1m1718/1718\u001b[0m \u001b[32m━━━━━━━━━━━━━━━━━━━━\u001b[0m\u001b[37m\u001b[0m \u001b[1m13s\u001b[0m 8ms/step - accuracy: 0.8161 - loss: 0.4516 - val_accuracy: 0.8167 - val_loss: 0.4601\n",
      "Epoch 60/100\n",
      "\u001b[1m1718/1718\u001b[0m \u001b[32m━━━━━━━━━━━━━━━━━━━━\u001b[0m\u001b[37m\u001b[0m \u001b[1m13s\u001b[0m 7ms/step - accuracy: 0.8151 - loss: 0.4531 - val_accuracy: 0.8142 - val_loss: 0.4687\n",
      "Epoch 61/100\n",
      "\u001b[1m1718/1718\u001b[0m \u001b[32m━━━━━━━━━━━━━━━━━━━━\u001b[0m\u001b[37m\u001b[0m \u001b[1m13s\u001b[0m 8ms/step - accuracy: 0.8156 - loss: 0.4530 - val_accuracy: 0.8094 - val_loss: 0.4722\n",
      "Epoch 62/100\n",
      "\u001b[1m1718/1718\u001b[0m \u001b[32m━━━━━━━━━━━━━━━━━━━━\u001b[0m\u001b[37m\u001b[0m \u001b[1m13s\u001b[0m 8ms/step - accuracy: 0.8173 - loss: 0.4531 - val_accuracy: 0.8144 - val_loss: 0.4638\n",
      "Epoch 63/100\n",
      "\u001b[1m1718/1718\u001b[0m \u001b[32m━━━━━━━━━━━━━━━━━━━━\u001b[0m\u001b[37m\u001b[0m \u001b[1m13s\u001b[0m 8ms/step - accuracy: 0.8161 - loss: 0.4502 - val_accuracy: 0.8176 - val_loss: 0.4601\n",
      "Epoch 64/100\n",
      "\u001b[1m1718/1718\u001b[0m \u001b[32m━━━━━━━━━━━━━━━━━━━━\u001b[0m\u001b[37m\u001b[0m \u001b[1m14s\u001b[0m 8ms/step - accuracy: 0.8172 - loss: 0.4522 - val_accuracy: 0.8159 - val_loss: 0.4627\n",
      "Epoch 65/100\n",
      "\u001b[1m1718/1718\u001b[0m \u001b[32m━━━━━━━━━━━━━━━━━━━━\u001b[0m\u001b[37m\u001b[0m \u001b[1m13s\u001b[0m 8ms/step - accuracy: 0.8170 - loss: 0.4496 - val_accuracy: 0.8122 - val_loss: 0.4739\n",
      "Epoch 66/100\n",
      "\u001b[1m1718/1718\u001b[0m \u001b[32m━━━━━━━━━━━━━━━━━━━━\u001b[0m\u001b[37m\u001b[0m \u001b[1m13s\u001b[0m 8ms/step - accuracy: 0.8175 - loss: 0.4479 - val_accuracy: 0.8147 - val_loss: 0.4609\n",
      "Epoch 67/100\n",
      "\u001b[1m1718/1718\u001b[0m \u001b[32m━━━━━━━━━━━━━━━━━━━━\u001b[0m\u001b[37m\u001b[0m \u001b[1m13s\u001b[0m 7ms/step - accuracy: 0.8190 - loss: 0.4480 - val_accuracy: 0.8136 - val_loss: 0.4642\n",
      "Epoch 68/100\n",
      "\u001b[1m1718/1718\u001b[0m \u001b[32m━━━━━━━━━━━━━━━━━━━━\u001b[0m\u001b[37m\u001b[0m \u001b[1m13s\u001b[0m 7ms/step - accuracy: 0.8177 - loss: 0.4492 - val_accuracy: 0.8159 - val_loss: 0.4569\n",
      "Epoch 69/100\n",
      "\u001b[1m1718/1718\u001b[0m \u001b[32m━━━━━━━━━━━━━━━━━━━━\u001b[0m\u001b[37m\u001b[0m \u001b[1m13s\u001b[0m 8ms/step - accuracy: 0.8173 - loss: 0.4477 - val_accuracy: 0.8125 - val_loss: 0.4752\n",
      "Epoch 70/100\n",
      "\u001b[1m1718/1718\u001b[0m \u001b[32m━━━━━━━━━━━━━━━━━━━━\u001b[0m\u001b[37m\u001b[0m \u001b[1m13s\u001b[0m 7ms/step - accuracy: 0.8172 - loss: 0.4483 - val_accuracy: 0.8154 - val_loss: 0.4586\n",
      "Epoch 71/100\n",
      "\u001b[1m1718/1718\u001b[0m \u001b[32m━━━━━━━━━━━━━━━━━━━━\u001b[0m\u001b[37m\u001b[0m \u001b[1m13s\u001b[0m 8ms/step - accuracy: 0.8172 - loss: 0.4483 - val_accuracy: 0.8185 - val_loss: 0.4573\n",
      "Epoch 72/100\n",
      "\u001b[1m1718/1718\u001b[0m \u001b[32m━━━━━━━━━━━━━━━━━━━━\u001b[0m\u001b[37m\u001b[0m \u001b[1m13s\u001b[0m 8ms/step - accuracy: 0.8182 - loss: 0.4468 - val_accuracy: 0.8183 - val_loss: 0.4538\n",
      "Epoch 73/100\n",
      "\u001b[1m1718/1718\u001b[0m \u001b[32m━━━━━━━━━━━━━━━━━━━━\u001b[0m\u001b[37m\u001b[0m \u001b[1m13s\u001b[0m 7ms/step - accuracy: 0.8174 - loss: 0.4477 - val_accuracy: 0.8183 - val_loss: 0.4541\n",
      "Epoch 74/100\n",
      "\u001b[1m1718/1718\u001b[0m \u001b[32m━━━━━━━━━━━━━━━━━━━━\u001b[0m\u001b[37m\u001b[0m \u001b[1m13s\u001b[0m 7ms/step - accuracy: 0.8178 - loss: 0.4457 - val_accuracy: 0.8151 - val_loss: 0.4614\n",
      "Epoch 75/100\n",
      "\u001b[1m1718/1718\u001b[0m \u001b[32m━━━━━━━━━━━━━━━━━━━━\u001b[0m\u001b[37m\u001b[0m \u001b[1m13s\u001b[0m 8ms/step - accuracy: 0.8183 - loss: 0.4465 - val_accuracy: 0.8178 - val_loss: 0.4553\n",
      "Epoch 76/100\n",
      "\u001b[1m1718/1718\u001b[0m \u001b[32m━━━━━━━━━━━━━━━━━━━━\u001b[0m\u001b[37m\u001b[0m \u001b[1m13s\u001b[0m 8ms/step - accuracy: 0.8188 - loss: 0.4435 - val_accuracy: 0.8173 - val_loss: 0.4539\n",
      "Epoch 77/100\n",
      "\u001b[1m1718/1718\u001b[0m \u001b[32m━━━━━━━━━━━━━━━━━━━━\u001b[0m\u001b[37m\u001b[0m \u001b[1m13s\u001b[0m 8ms/step - accuracy: 0.8181 - loss: 0.4470 - val_accuracy: 0.8117 - val_loss: 0.4692\n",
      "Epoch 78/100\n",
      "\u001b[1m1718/1718\u001b[0m \u001b[32m━━━━━━━━━━━━━━━━━━━━\u001b[0m\u001b[37m\u001b[0m \u001b[1m13s\u001b[0m 8ms/step - accuracy: 0.8184 - loss: 0.4442 - val_accuracy: 0.8186 - val_loss: 0.4542\n",
      "Epoch 79/100\n",
      "\u001b[1m1718/1718\u001b[0m \u001b[32m━━━━━━━━━━━━━━━━━━━━\u001b[0m\u001b[37m\u001b[0m \u001b[1m13s\u001b[0m 8ms/step - accuracy: 0.8190 - loss: 0.4437 - val_accuracy: 0.8166 - val_loss: 0.4588\n",
      "Epoch 80/100\n",
      "\u001b[1m1718/1718\u001b[0m \u001b[32m━━━━━━━━━━━━━━━━━━━━\u001b[0m\u001b[37m\u001b[0m \u001b[1m13s\u001b[0m 8ms/step - accuracy: 0.8196 - loss: 0.4432 - val_accuracy: 0.8079 - val_loss: 0.4806\n",
      "Epoch 81/100\n",
      "\u001b[1m1718/1718\u001b[0m \u001b[32m━━━━━━━━━━━━━━━━━━━━\u001b[0m\u001b[37m\u001b[0m \u001b[1m13s\u001b[0m 7ms/step - accuracy: 0.8195 - loss: 0.4440 - val_accuracy: 0.8186 - val_loss: 0.4498\n",
      "Epoch 82/100\n",
      "\u001b[1m1718/1718\u001b[0m \u001b[32m━━━━━━━━━━━━━━━━━━━━\u001b[0m\u001b[37m\u001b[0m \u001b[1m13s\u001b[0m 8ms/step - accuracy: 0.8212 - loss: 0.4403 - val_accuracy: 0.8191 - val_loss: 0.4512\n",
      "Epoch 83/100\n",
      "\u001b[1m1718/1718\u001b[0m \u001b[32m━━━━━━━━━━━━━━━━━━━━\u001b[0m\u001b[37m\u001b[0m \u001b[1m13s\u001b[0m 8ms/step - accuracy: 0.8192 - loss: 0.4422 - val_accuracy: 0.8169 - val_loss: 0.4556\n",
      "Epoch 84/100\n",
      "\u001b[1m1718/1718\u001b[0m \u001b[32m━━━━━━━━━━━━━━━━━━━━\u001b[0m\u001b[37m\u001b[0m \u001b[1m13s\u001b[0m 8ms/step - accuracy: 0.8175 - loss: 0.4431 - val_accuracy: 0.8186 - val_loss: 0.4607\n",
      "Epoch 85/100\n",
      "\u001b[1m1718/1718\u001b[0m \u001b[32m━━━━━━━━━━━━━━━━━━━━\u001b[0m\u001b[37m\u001b[0m \u001b[1m13s\u001b[0m 7ms/step - accuracy: 0.8192 - loss: 0.4414 - val_accuracy: 0.8179 - val_loss: 0.4577\n",
      "Epoch 86/100\n",
      "\u001b[1m1718/1718\u001b[0m \u001b[32m━━━━━━━━━━━━━━━━━━━━\u001b[0m\u001b[37m\u001b[0m \u001b[1m13s\u001b[0m 7ms/step - accuracy: 0.8193 - loss: 0.4423 - val_accuracy: 0.8159 - val_loss: 0.4563\n",
      "Epoch 87/100\n",
      "\u001b[1m1718/1718\u001b[0m \u001b[32m━━━━━━━━━━━━━━━━━━━━\u001b[0m\u001b[37m\u001b[0m \u001b[1m13s\u001b[0m 8ms/step - accuracy: 0.8210 - loss: 0.4409 - val_accuracy: 0.8167 - val_loss: 0.4628\n",
      "Epoch 88/100\n",
      "\u001b[1m1718/1718\u001b[0m \u001b[32m━━━━━━━━━━━━━━━━━━━━\u001b[0m\u001b[37m\u001b[0m \u001b[1m13s\u001b[0m 7ms/step - accuracy: 0.8204 - loss: 0.4397 - val_accuracy: 0.8129 - val_loss: 0.4705\n",
      "Epoch 89/100\n",
      "\u001b[1m1718/1718\u001b[0m \u001b[32m━━━━━━━━━━━━━━━━━━━━\u001b[0m\u001b[37m\u001b[0m \u001b[1m13s\u001b[0m 7ms/step - accuracy: 0.8209 - loss: 0.4381 - val_accuracy: 0.8190 - val_loss: 0.4508\n",
      "Epoch 90/100\n",
      "\u001b[1m1718/1718\u001b[0m \u001b[32m━━━━━━━━━━━━━━━━━━━━\u001b[0m\u001b[37m\u001b[0m \u001b[1m13s\u001b[0m 8ms/step - accuracy: 0.8203 - loss: 0.4375 - val_accuracy: 0.8207 - val_loss: 0.4492\n",
      "Epoch 91/100\n",
      "\u001b[1m1718/1718\u001b[0m \u001b[32m━━━━━━━━━━━━━━━━━━━━\u001b[0m\u001b[37m\u001b[0m \u001b[1m13s\u001b[0m 8ms/step - accuracy: 0.8201 - loss: 0.4389 - val_accuracy: 0.8179 - val_loss: 0.4544\n",
      "Epoch 92/100\n",
      "\u001b[1m1718/1718\u001b[0m \u001b[32m━━━━━━━━━━━━━━━━━━━━\u001b[0m\u001b[37m\u001b[0m \u001b[1m14s\u001b[0m 8ms/step - accuracy: 0.8198 - loss: 0.4379 - val_accuracy: 0.8173 - val_loss: 0.4578\n",
      "Epoch 93/100\n",
      "\u001b[1m1718/1718\u001b[0m \u001b[32m━━━━━━━━━━━━━━━━━━━━\u001b[0m\u001b[37m\u001b[0m \u001b[1m13s\u001b[0m 8ms/step - accuracy: 0.8206 - loss: 0.4364 - val_accuracy: 0.8159 - val_loss: 0.4596\n",
      "Epoch 94/100\n",
      "\u001b[1m1718/1718\u001b[0m \u001b[32m━━━━━━━━━━━━━━━━━━━━\u001b[0m\u001b[37m\u001b[0m \u001b[1m13s\u001b[0m 8ms/step - accuracy: 0.8194 - loss: 0.4393 - val_accuracy: 0.8171 - val_loss: 0.4558\n",
      "Epoch 95/100\n",
      "\u001b[1m1718/1718\u001b[0m \u001b[32m━━━━━━━━━━━━━━━━━━━━\u001b[0m\u001b[37m\u001b[0m \u001b[1m13s\u001b[0m 8ms/step - accuracy: 0.8204 - loss: 0.4367 - val_accuracy: 0.8176 - val_loss: 0.4647\n",
      "Epoch 96/100\n",
      "\u001b[1m1718/1718\u001b[0m \u001b[32m━━━━━━━━━━━━━━━━━━━━\u001b[0m\u001b[37m\u001b[0m \u001b[1m14s\u001b[0m 8ms/step - accuracy: 0.8209 - loss: 0.4397 - val_accuracy: 0.8192 - val_loss: 0.4518\n",
      "Epoch 97/100\n",
      "\u001b[1m1718/1718\u001b[0m \u001b[32m━━━━━━━━━━━━━━━━━━━━\u001b[0m\u001b[37m\u001b[0m \u001b[1m15s\u001b[0m 9ms/step - accuracy: 0.8215 - loss: 0.4343 - val_accuracy: 0.8088 - val_loss: 0.4745\n",
      "Epoch 98/100\n",
      "\u001b[1m1718/1718\u001b[0m \u001b[32m━━━━━━━━━━━━━━━━━━━━\u001b[0m\u001b[37m\u001b[0m \u001b[1m13s\u001b[0m 8ms/step - accuracy: 0.8222 - loss: 0.4355 - val_accuracy: 0.8141 - val_loss: 0.4676\n",
      "Epoch 99/100\n",
      "\u001b[1m1718/1718\u001b[0m \u001b[32m━━━━━━━━━━━━━━━━━━━━\u001b[0m\u001b[37m\u001b[0m \u001b[1m13s\u001b[0m 8ms/step - accuracy: 0.8221 - loss: 0.4367 - val_accuracy: 0.8196 - val_loss: 0.4521\n",
      "Epoch 100/100\n",
      "\u001b[1m1718/1718\u001b[0m \u001b[32m━━━━━━━━━━━━━━━━━━━━\u001b[0m\u001b[37m\u001b[0m \u001b[1m13s\u001b[0m 8ms/step - accuracy: 0.8222 - loss: 0.4364 - val_accuracy: 0.8111 - val_loss: 0.4712\n"
     ]
    }
   ],
   "source": [
    "# Start time\n",
    "start_time = time.time()\n",
    "\n",
    "# Training model\n",
    "model.fit(X_train, y_train, epochs=100, batch_size=120, validation_data=(X_test, y_test))\n",
    "\n",
    "# End time\n",
    "end_time = time.time()"
   ]
  },
  {
   "cell_type": "code",
   "execution_count": 12,
   "metadata": {},
   "outputs": [
    {
     "name": "stdout",
     "output_type": "stream",
     "text": [
      "\u001b[1m1611/1611\u001b[0m \u001b[32m━━━━━━━━━━━━━━━━━━━━\u001b[0m\u001b[37m\u001b[0m \u001b[1m3s\u001b[0m 1ms/step\n"
     ]
    }
   ],
   "source": [
    "# Dự đoán trên tập kiểm tra\n",
    "y_pred = model.predict(X_test)\n",
    "y_pred_labels = np.argmax(y_pred, axis=1)\n",
    "y_test_labels = np.argmax(y_test, axis=1)"
   ]
  },
  {
   "cell_type": "code",
   "execution_count": 13,
   "metadata": {},
   "outputs": [
    {
     "name": "stderr",
     "output_type": "stream",
     "text": [
      "WARNING:absl:You are saving your model as an HDF5 file via `model.save()` or `keras.saving.save_model(model)`. This file format is considered legacy. We recommend using instead the native Keras format, e.g. `model.save('my_model.keras')` or `keras.saving.save_model(model, 'my_model.keras')`. \n"
     ]
    }
   ],
   "source": [
    "# Save model\n",
    "model.save('../models/lstm.h5')"
   ]
  },
  {
   "cell_type": "markdown",
   "metadata": {},
   "source": [
    "# **5. Confusion matrix**"
   ]
  },
  {
   "cell_type": "code",
   "execution_count": 14,
   "metadata": {},
   "outputs": [
    {
     "data": {
      "text/plain": [
       "array([[   24,     0,    20,   358,    15,     0,   102,     0,     0,\n",
       "            0],\n",
       "       [    0,    29,    23,   385,    21,     3,     4,     2,     1,\n",
       "            0],\n",
       "       [    0,     8,   311,  2828,    49,    12,    62,    10,    12,\n",
       "            0],\n",
       "       [    7,    12,   254,  8332,   157,    21,   205,    68,    24,\n",
       "            0],\n",
       "       [    0,     0,    28,   602,  2672,     2,  1511,     9,     7,\n",
       "            0],\n",
       "       [    0,     0,    19,   171,    26, 11305,    11,     3,     1,\n",
       "            1],\n",
       "       [    0,     0,    15,   175,   977,     6, 17406,    21,    13,\n",
       "            0],\n",
       "       [    0,     3,    42,   765,    91,     1,   335,  1590,    25,\n",
       "            0],\n",
       "       [    0,     0,     9,    92,    28,     1,    38,    14,   127,\n",
       "            0],\n",
       "       [    0,     0,     1,    25,     1,     1,     0,     0,     0,\n",
       "            6]], dtype=int64)"
      ]
     },
     "execution_count": 14,
     "metadata": {},
     "output_type": "execute_result"
    }
   ],
   "source": [
    "# Create confusion matrix\n",
    "confusion_matrix_result = confusion_matrix(y_test_labels, y_pred_labels, labels=[0, 1, 2, 3, 4, 5, 6, 7, 8, 9])\n",
    "confusion_matrix_result"
   ]
  },
  {
   "cell_type": "code",
   "execution_count": 15,
   "metadata": {},
   "outputs": [],
   "source": [
    "# Calculate confusion matrix\n",
    "# Compute confusion matrix\n",
    "def plot_confusion_matrix(\n",
    "        cm,\n",
    "        target_names,\n",
    "        title='Confusion matrix',\n",
    "        cmap=None,\n",
    "        normalize=True\n",
    "):\n",
    "    \n",
    "    import itertools\n",
    "\n",
    "    accuracy = np.trace(cm) / float(np.sum(cm))\n",
    "    misclass = 1 - accuracy\n",
    "\n",
    "    if cmap is None:\n",
    "        cmap = plt.get_cmap('Blues')\n",
    "\n",
    "    plt.figure(figsize=(8, 6))\n",
    "    plt.imshow(cm, interpolation='nearest', cmap=cmap)\n",
    "    plt.title(title)\n",
    "    plt.colorbar()\n",
    "\n",
    "    if target_names is not None:\n",
    "        tick_marks = np.arange(len(target_names))\n",
    "        plt.xticks(tick_marks, target_names, rotation=45)\n",
    "        plt.yticks(tick_marks, target_names)\n",
    "\n",
    "    if normalize:\n",
    "        cm = cm.astype('float') / cm.sum(axis=1)[:, np.newaxis]\n",
    "\n",
    "\n",
    "    thresh = cm.max() / 1.5 if normalize else cm.max() / 2\n",
    "    for i, j in itertools.product(range(cm.shape[0]), range(cm.shape[1])):\n",
    "        if normalize:\n",
    "            plt.text(j, i, \"{:0.4f}\".format(cm[i, j]),\n",
    "                     horizontalalignment=\"center\",\n",
    "                     color=\"white\" if cm[i, j] > thresh else \"black\")\n",
    "        else:\n",
    "            plt.text(j, i, \"{:,}\".format(cm[i, j]),\n",
    "                     horizontalalignment=\"center\",\n",
    "                     color=\"white\" if cm[i, j] > thresh else \"black\")\n",
    "\n",
    "\n",
    "    plt.tight_layout()\n",
    "    plt.ylabel('True label')\n",
    "    plt.xlabel('Predicted label\\naccuracy={:0.4f}; misclass={:0.4f}'.format(accuracy, misclass))\n",
    "    plt.show()"
   ]
  },
  {
   "cell_type": "code",
   "execution_count": 16,
   "metadata": {},
   "outputs": [],
   "source": [
    "target_names=[\n",
    "    'Analysis', \n",
    "    'Backdoor', \n",
    "    'DoS', \n",
    "    'Exploits', \n",
    "    'Fuzzers', \n",
    "    'Generic', \n",
    "    'Normal', \n",
    "    'Reconnaissance', \n",
    "    'Shellcode', \n",
    "    'Worms'\n",
    "]"
   ]
  },
  {
   "cell_type": "code",
   "execution_count": 17,
   "metadata": {},
   "outputs": [
    {
     "data": {
      "image/png": "[encoded data removed]",
      "text/plain": [
       "<Figure size 800x600 with 2 Axes>"
      ]
     },
     "metadata": {},
     "output_type": "display_data"
    }
   ],
   "source": [
    "# Plot confusion matrix\n",
    "plot_confusion_matrix(\n",
    "    confusion_matrix_result, \n",
    "    normalize=False,\n",
    "    target_names=target_names, \n",
    "    title=\"Confusion Matrix LSTM\"\n",
    ")"
   ]
  },
  {
   "cell_type": "markdown",
   "metadata": {},
   "source": [
    "# **6. Calculate metrics**"
   ]
  },
  {
   "cell_type": "code",
   "execution_count": 18,
   "metadata": {},
   "outputs": [
    {
     "name": "stdout",
     "output_type": "stream",
     "text": [
      "Training time: 0.36 hours\n"
     ]
    }
   ],
   "source": [
    "# Training time\n",
    "training_time = end_time - start_time\n",
    "print(f\"Training time: {training_time/60/60:.2f} hours\")"
   ]
  },
  {
   "cell_type": "code",
   "execution_count": 19,
   "metadata": {},
   "outputs": [],
   "source": [
    "# Tính Detection Rate và False Positive Rate\n",
    "tp = np.diag(confusion_matrix_result)  # True Positives\n",
    "fn = np.sum(confusion_matrix_result, axis=1) - tp  # False Negatives\n",
    "fp = np.sum(confusion_matrix_result, axis=0) - tp  # False Positives"
   ]
  },
  {
   "cell_type": "code",
   "execution_count": 20,
   "metadata": {},
   "outputs": [
    {
     "name": "stdout",
     "output_type": "stream",
     "text": [
      "            Class  False Positive Rate  Detection Rate\n",
      "0        Analysis             0.013944        0.046243\n",
      "1        Backdoor             0.049784        0.061966\n",
      "2             DoS             0.121167        0.094471\n",
      "3        Exploits             0.878354        0.917621\n",
      "4         Fuzzers             0.387344        0.553095\n",
      "5         Generic             0.168459        0.979891\n",
      "6          Normal             0.652662        0.935153\n",
      "7  Reconnaissance             0.091433        0.557504\n",
      "8       Shellcode             0.313208        0.411003\n",
      "9           Worms             0.034483        0.176471\n"
     ]
    }
   ],
   "source": [
    "detection_rate = tp / (tp + fn)\n",
    "fpr = fp / (fp + np.sum(confusion_matrix_result, axis=1) - tp)\n",
    "df = pd.DataFrame({\"Class\": target_names, \"False Positive Rate\": fpr, \"Detection Rate\": detection_rate})\n",
    "\n",
    "# Hiển thị bảng\n",
    "print(df)"
   ]
  },
  {
   "cell_type": "code",
   "execution_count": 21,
   "metadata": {},
   "outputs": [
    {
     "name": "stdout",
     "output_type": "stream",
     "text": [
      "                precision    recall  f1-score   support\n",
      "\n",
      "      Analysis       0.77      0.05      0.09       519\n",
      "      Backdoor       0.56      0.06      0.11       468\n",
      "           DoS       0.43      0.09      0.15      3292\n",
      "      Exploits       0.61      0.92      0.73      9080\n",
      "       Fuzzers       0.66      0.55      0.60      4831\n",
      "       Generic       1.00      0.98      0.99     11537\n",
      "        Normal       0.88      0.94      0.91     18613\n",
      "Reconnaissance       0.93      0.56      0.70      2852\n",
      "     Shellcode       0.60      0.41      0.49       309\n",
      "         Worms       0.86      0.18      0.29        34\n",
      "\n",
      "      accuracy                           0.81     51535\n",
      "     macro avg       0.73      0.47      0.51     51535\n",
      "  weighted avg       0.81      0.81      0.79     51535\n",
      "\n"
     ]
    }
   ],
   "source": [
    "# Hiển thị báo cáo phân loại\n",
    "print(classification_report(y_test_labels, y_pred_labels, target_names=label_encoder.classes_))"
   ]
  },
  {
   "cell_type": "code",
   "execution_count": 22,
   "metadata": {},
   "outputs": [
    {
     "name": "stdout",
     "output_type": "stream",
     "text": [
      "Mean Absolute Error -  0.04752120238970548\n",
      "Mean Squared Error -  0.023961303853574954\n",
      "Root Mean Squared Error -  0.15479439219033406\n",
      "R2 Score -  44.34561813413662\n",
      "F1 Score (weighted):  78.81558601300766\n",
      "Accuracy -  81.11380615115941\n"
     ]
    }
   ],
   "source": [
    "print(\"Mean Absolute Error - \", mean_absolute_error(y_test, y_pred))\n",
    "print(\"Mean Squared Error - \", mean_squared_error(y_test, y_pred))\n",
    "print(\"Root Mean Squared Error - \", np.sqrt(mean_squared_error(y_test, y_pred)))\n",
    "print(\"R2 Score - \", explained_variance_score(y_test, y_pred) * 100)\n",
    "print(\"F1 Score (weighted): \", f1_score(y_test_labels, y_pred_labels, average='weighted') * 100)\n",
    "print(\"Accuracy - \",accuracy_score(y_test_labels, y_pred_labels)*100)"
   ]
  }
 ],
 "metadata": {
  "kernelspec": {
   "display_name": "env311",
   "language": "python",
   "name": "python3"
  },
  "language_info": {
   "codemirror_mode": {
    "name": "ipython",
    "version": 3
   },
   "file_extension": ".py",
   "mimetype": "text/x-python",
   "name": "python",
   "nbconvert_exporter": "python",
   "pygments_lexer": "ipython3",
   "version": "3.11.9"
  }
 },
 "nbformat": 4,
 "nbformat_minor": 2
}
