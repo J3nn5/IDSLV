{
 "cells": [
  {
   "cell_type": "markdown",
   "metadata": {},
   "source": [
    "# **Import**"
   ]
  },
  {
   "cell_type": "markdown",
   "metadata": {
    "id": "A7Ap-HGmbn6t"
   },
   "source": [
    "## **Importing Modules and Libraries**"
   ]
  },
  {
   "cell_type": "code",
   "execution_count": 1,
   "metadata": {
    "id": "ZEmlR_A8Gy30"
   },
   "outputs": [],
   "source": [
    "# importing required libraries\n",
    "import numpy as np\n",
    "import pandas as pd\n",
    "\n",
    "import seaborn as sns\n",
    "import matplotlib.pyplot as plt\n",
    "\n",
    "import pickle \n",
    "from os import path\n",
    "\n",
    "from sklearn.preprocessing import MinMaxScaler\n",
    "from sklearn.preprocessing import StandardScaler\n",
    "from sklearn.preprocessing import LabelEncoder\n",
    "\n",
    "from sklearn import metrics\n",
    "from sklearn import preprocessing\n",
    "from sklearn.model_selection import train_test_split \n",
    "from sklearn.metrics import (\n",
    "    classification_report, \n",
    "    confusion_matrix, accuracy_score, \n",
    "    mean_absolute_error, \n",
    "    mean_squared_error, \n",
    "    explained_variance_score,\n",
    "    f1_score\n",
    ")\n",
    "\n",
    "from sklearn.svm import SVC\n",
    "from sklearn.linear_model import LinearRegression\n",
    "from sklearn.linear_model import LogisticRegression\n",
    "from sklearn.tree import DecisionTreeClassifier\n",
    "from sklearn.ensemble import RandomForestClassifier\n",
    "from sklearn.neighbors import KNeighborsClassifier\n",
    "from sklearn.neural_network import MLPClassifier\n",
    "\n",
    "import time"
   ]
  },
  {
   "cell_type": "markdown",
   "metadata": {
    "id": "QE9BV5QvbtmO"
   },
   "source": [
    "## **Importing Datasets**"
   ]
  },
  {
   "cell_type": "code",
   "execution_count": 2,
   "metadata": {
    "id": "e6PZCWoDG9uO"
   },
   "outputs": [],
   "source": [
    "# data = pd.read_csv('datasets/UNSW_NB15.csv')\n",
    "# data.head(n=5)\n",
    "# data.info()\n",
    "\n",
    "normalized_data = pd.read_csv('../processed_data/normalized_data.csv')\n",
    "X = normalized_data.drop(\"attack_cat\", axis=1).values\n",
    "y = normalized_data[\"attack_cat\"].values"
   ]
  },
  {
   "cell_type": "code",
   "execution_count": 3,
   "metadata": {},
   "outputs": [
    {
     "data": {
      "text/plain": [
       "array([[2.02463370e-03, 4.69704086e-04, 3.63042294e-04, ...,\n",
       "        0.00000000e+00, 0.00000000e+00, 0.00000000e+00],\n",
       "       [1.08317020e-02, 1.22123062e-03, 3.44890180e-03, ...,\n",
       "        0.00000000e+00, 0.00000000e+00, 0.00000000e+00],\n",
       "       [2.70521550e-02, 6.57585721e-04, 1.45216918e-03, ...,\n",
       "        0.00000000e+00, 0.00000000e+00, 0.00000000e+00],\n",
       "       ...,\n",
       "       [0.00000000e+00, 0.00000000e+00, 0.00000000e+00, ...,\n",
       "        0.00000000e+00, 0.00000000e+00, 0.00000000e+00],\n",
       "       [0.00000000e+00, 0.00000000e+00, 0.00000000e+00, ...,\n",
       "        0.00000000e+00, 0.00000000e+00, 0.00000000e+00],\n",
       "       [1.50000028e-07, 9.39408173e-05, 0.00000000e+00, ...,\n",
       "        0.00000000e+00, 0.00000000e+00, 0.00000000e+00]])"
      ]
     },
     "execution_count": 3,
     "metadata": {},
     "output_type": "execute_result"
    }
   ],
   "source": [
    "X"
   ]
  },
  {
   "cell_type": "code",
   "execution_count": 4,
   "metadata": {},
   "outputs": [
    {
     "data": {
      "text/plain": [
       "array(['Normal', 'Normal', 'Normal', ..., 'Normal', 'Normal', 'Normal'],\n",
       "      dtype=object)"
      ]
     },
     "execution_count": 4,
     "metadata": {},
     "output_type": "execute_result"
    }
   ],
   "source": [
    "y"
   ]
  },
  {
   "cell_type": "markdown",
   "metadata": {},
   "source": [
    "# **Data Preprocessing**"
   ]
  },
  {
   "cell_type": "code",
   "execution_count": 5,
   "metadata": {
    "colab": {
     "base_uri": "https://localhost:8080/",
     "height": 439
    },
    "id": "1VchaJgfR7r3",
    "outputId": "ef6cbe08-bec3-4bfc-a89c-e3e9ee63160b"
   },
   "outputs": [],
   "source": [
    "# data[data['service']=='-']"
   ]
  },
  {
   "cell_type": "markdown",
   "metadata": {},
   "source": [
    "## Replace '-' with np.nan (NaN), inplace=True\n",
    "## Change on original set - no copy created"
   ]
  },
  {
   "cell_type": "code",
   "execution_count": 6,
   "metadata": {
    "id": "ySdfpAsaCabg"
   },
   "outputs": [],
   "source": [
    "# data['service'].replace('-',np.nan,inplace=True)"
   ]
  },
  {
   "cell_type": "code",
   "execution_count": 7,
   "metadata": {
    "colab": {
     "base_uri": "https://localhost:8080/"
    },
    "id": "zO7VNaGKDYDA",
    "outputId": "71d063d1-13b0-4391-cd12-5551e170c907"
   },
   "outputs": [],
   "source": [
    "# data.isnull().sum()"
   ]
  },
  {
   "cell_type": "code",
   "execution_count": 8,
   "metadata": {
    "colab": {
     "base_uri": "https://localhost:8080/"
    },
    "id": "p1rm-THJD71O",
    "outputId": "833a6478-926f-46af-e224-5a7dbf9a75fa"
   },
   "outputs": [],
   "source": [
    "# data.shape"
   ]
  },
  {
   "cell_type": "markdown",
   "metadata": {},
   "source": [
    "## Delete rows that have any field with NaN value"
   ]
  },
  {
   "cell_type": "code",
   "execution_count": 9,
   "metadata": {
    "id": "qIPIPT0PD1b_"
   },
   "outputs": [],
   "source": [
    "# data.dropna(inplace=True)"
   ]
  },
  {
   "cell_type": "code",
   "execution_count": 10,
   "metadata": {
    "colab": {
     "base_uri": "https://localhost:8080/"
    },
    "id": "PCdLLz3EEkfd",
    "outputId": "aa346e0e-2fa8-4d19-cce6-4224ec2941ab"
   },
   "outputs": [],
   "source": [
    "# data.shape"
   ]
  },
  {
   "cell_type": "code",
   "execution_count": 11,
   "metadata": {
    "colab": {
     "base_uri": "https://localhost:8080/"
    },
    "id": "sJNxMEoqbYvG",
    "outputId": "7bb21df1-c32f-4b17-f86e-fc7165b7c980"
   },
   "outputs": [],
   "source": [
    "# data['attack_cat'].value_counts()"
   ]
  },
  {
   "cell_type": "code",
   "execution_count": 12,
   "metadata": {
    "colab": {
     "base_uri": "https://localhost:8080/"
    },
    "id": "rFnIMHYxcYWW",
    "outputId": "b24711a9-6d26-468b-e724-169a758fb489"
   },
   "outputs": [],
   "source": [
    "# data['state'].value_counts()"
   ]
  },
  {
   "cell_type": "code",
   "execution_count": 13,
   "metadata": {
    "colab": {
     "base_uri": "https://localhost:8080/",
     "height": 439
    },
    "id": "O3-FL4ETdp4d",
    "outputId": "5be2c7ec-51e3-4de0-ceee-f1c2cd40ae77"
   },
   "outputs": [],
   "source": [
    "# data"
   ]
  },
  {
   "cell_type": "code",
   "execution_count": 14,
   "metadata": {
    "id": "DGfimWMVFKmr"
   },
   "outputs": [],
   "source": [
    "# features = pd.read_csv('datasets/UNSW_NB15_features.csv')"
   ]
  },
  {
   "cell_type": "code",
   "execution_count": 15,
   "metadata": {
    "colab": {
     "base_uri": "https://localhost:8080/",
     "height": 204
    },
    "id": "hrYdxinYvMP9",
    "outputId": "d0e10f0f-42f2-4edc-deee-a2fde81679cd"
   },
   "outputs": [],
   "source": [
    "# features.head()"
   ]
  },
  {
   "cell_type": "code",
   "execution_count": 16,
   "metadata": {
    "id": "jT53NXCYfQDX"
   },
   "outputs": [],
   "source": [
    "# features['Type '] = features['Type '].str.lower()"
   ]
  },
  {
   "cell_type": "code",
   "execution_count": 17,
   "metadata": {
    "id": "4UifBmzfc7Mx"
   },
   "outputs": [],
   "source": [
    "# nominal_names = features['Name'][features['Type ']=='nominal']\n",
    "# integer_names = features['Name'][features['Type ']=='integer']\n",
    "# binary_names = features['Name'][features['Type ']=='binary']\n",
    "# float_names = features['Name'][features['Type ']=='float']"
   ]
  },
  {
   "cell_type": "markdown",
   "metadata": {},
   "source": [
    "## print(nomial_names)\n",
    "0          srcip\n",
    "2          dstip\n",
    "4          proto\n",
    "5          state\n",
    "13       service\n",
    "47    attack_cat\n",
    "Name: Name, dtype: object"
   ]
  },
  {
   "cell_type": "code",
   "execution_count": 18,
   "metadata": {
    "colab": {
     "background_save": true
    },
    "id": "Sc2ttPn6r7Tz"
   },
   "outputs": [],
   "source": [
    "# # selecting common column names from dataset and feature dataset\n",
    "# cols = data.columns\n",
    "# nominal_names = cols.intersection(nominal_names)\n",
    "# integer_names = cols.intersection(integer_names)\n",
    "# binary_names = cols.intersection(binary_names)\n",
    "# float_names = cols.intersection(float_names)"
   ]
  },
  {
   "cell_type": "markdown",
   "metadata": {},
   "source": [
    "## Show columns\n",
    "Index(['id', 'dur', 'proto', 'service', 'state', 'spkts', 'dpkts', 'sbytes',\n",
    "       'dbytes', 'rate', 'sttl', 'dttl', 'sload', 'dload', 'sloss', 'dloss',\n",
    "       'sinpkt', 'dinpkt', 'sjit', 'djit', 'swin', 'stcpb', 'dtcpb', 'dwin',\n",
    "       'tcprtt', 'synack', 'ackdat', 'smean', 'dmean', 'trans_depth',\n",
    "       'response_body_len', 'ct_srv_src', 'ct_state_ttl', 'ct_dst_ltm',\n",
    "       'ct_src_dport_ltm', 'ct_dst_sport_ltm', 'ct_dst_src_ltm',\n",
    "       'is_ftp_login', 'ct_ftp_cmd', 'ct_flw_http_mthd', 'ct_src_ltm',\n",
    "       'ct_srv_dst', 'is_sm_ips_ports', 'attack_cat', 'label'],\n",
    "      dtype='object')"
   ]
  },
  {
   "cell_type": "markdown",
   "metadata": {},
   "source": [
    "## Converting integer columns to numeric\n"
   ]
  },
  {
   "cell_type": "code",
   "execution_count": 19,
   "metadata": {
    "colab": {
     "background_save": true
    },
    "id": "f-z_BVLyu0vE"
   },
   "outputs": [],
   "source": [
    "# for c in integer_names:\n",
    "#   pd.to_numeric(data[c])"
   ]
  },
  {
   "cell_type": "markdown",
   "metadata": {},
   "source": [
    "## Converting binary columns to numeric\n"
   ]
  },
  {
   "cell_type": "code",
   "execution_count": 20,
   "metadata": {
    "colab": {
     "background_save": true
    },
    "id": "hc_tnXdGvkpD"
   },
   "outputs": [],
   "source": [
    "# for c in binary_names:\n",
    "#   pd.to_numeric(data[c])"
   ]
  },
  {
   "cell_type": "markdown",
   "metadata": {},
   "source": [
    "## Converting float columns to numeric\n"
   ]
  },
  {
   "cell_type": "code",
   "execution_count": 21,
   "metadata": {
    "colab": {
     "background_save": true
    },
    "id": "M3uJUVe9vpyx"
   },
   "outputs": [],
   "source": [
    "# for c in float_names:\n",
    "#   pd.to_numeric(data[c])"
   ]
  },
  {
   "cell_type": "code",
   "execution_count": 22,
   "metadata": {
    "colab": {
     "background_save": true,
     "base_uri": "https://localhost:8080/"
    },
    "id": "JHfR566WrIr6",
    "outputId": "31a815e5-ef87-4748-c01a-0a2fe3bd85af"
   },
   "outputs": [],
   "source": [
    "# data.info()"
   ]
  },
  {
   "cell_type": "code",
   "execution_count": 23,
   "metadata": {
    "colab": {
     "background_save": true,
     "base_uri": "https://localhost:8080/",
     "height": 439
    },
    "id": "heqj3TJmv2B4",
    "outputId": "ae5525e8-c1cc-4707-aa88-9b33a16a75ab"
   },
   "outputs": [],
   "source": [
    "# data"
   ]
  },
  {
   "cell_type": "markdown",
   "metadata": {
    "id": "jExFVizROS-C"
   },
   "source": [
    "# **Data Visualization**"
   ]
  },
  {
   "cell_type": "markdown",
   "metadata": {
    "id": "UXGvReKgoN57"
   },
   "source": [
    "## **Multi-class Classification**"
   ]
  },
  {
   "cell_type": "code",
   "execution_count": 24,
   "metadata": {
    "colab": {
     "base_uri": "https://localhost:8080/",
     "height": 482
    },
    "id": "6hX-4d1dncqJ",
    "outputId": "8b260eb7-e34a-449f-8e4c-617bd59640e3"
   },
   "outputs": [
    {
     "data": {
      "image/png": "[encoded data removed]",
      "text/plain": [
       "<Figure size 800x800 with 1 Axes>"
      ]
     },
     "metadata": {},
     "output_type": "display_data"
    }
   ],
   "source": [
    "plt.figure(figsize=(8, 8))\n",
    "plt.pie(normalized_data.attack_cat.value_counts(), labels=normalized_data.attack_cat.unique(), autopct='%0.2f%%')  # Names are taken from attack types arranged from top to bottomplt.title('Pie chart distribution of multi-class labels')\n",
    "plt.legend(loc='best', bbox_to_anchor=(1, 0.5))    \n",
    "plt.savefig('../plots/Pie_chart_multi.png')\n",
    "plt.show()"
   ]
  },
  {
   "cell_type": "markdown",
   "metadata": {
    "id": "ovwkzHTyM1vB"
   },
   "source": [
    "## **One hot encoding**"
   ]
  },
  {
   "cell_type": "code",
   "execution_count": 25,
   "metadata": {
    "colab": {
     "base_uri": "https://localhost:8080/"
    },
    "id": "dZX0Je4EM5ta",
    "outputId": "fe11efcd-32e2-47dd-8a7c-529688e28712"
   },
   "outputs": [],
   "source": [
    "# # Column with value is number\n",
    "# num_col = data.select_dtypes(include='number').columns  \n",
    "\n",
    "# # selecting categorical data attributes\n",
    "# cat_col = data.columns.difference(num_col)\n",
    "# cat_col = cat_col[1:]   # Get from column 1 to end - remove attack_cat\n",
    "# cat_col"
   ]
  },
  {
   "cell_type": "code",
   "execution_count": 26,
   "metadata": {
    "colab": {
     "base_uri": "https://localhost:8080/",
     "height": 204
    },
    "id": "DxnGrVa1Odma",
    "outputId": "59215629-bfda-424e-925a-5cc49a2402b4"
   },
   "outputs": [],
   "source": [
    "# # creating a dataframe with only categorical attributes\n",
    "# data_cat = data[cat_col].copy()     \n",
    "# data_cat.head()"
   ]
  },
  {
   "cell_type": "code",
   "execution_count": 27,
   "metadata": {
    "id": "E6cnwo01NHP_"
   },
   "outputs": [],
   "source": [
    "# one-hot-encoding categorical attributes using pandas.get_dummies() function\n",
    "# data_cat = pd.get_dummies(data_cat,columns=cat_col)    # Convert all cat_col columns to binary values "
   ]
  },
  {
   "cell_type": "code",
   "execution_count": 28,
   "metadata": {
    "colab": {
     "base_uri": "https://localhost:8080/",
     "height": 241
    },
    "id": "UM8ooeRcNOoU",
    "outputId": "0d2b6495-7965-41ba-aa20-21563617411e"
   },
   "outputs": [],
   "source": [
    "# data_cat.head()"
   ]
  },
  {
   "cell_type": "code",
   "execution_count": 29,
   "metadata": {
    "colab": {
     "base_uri": "https://localhost:8080/"
    },
    "id": "cHH1hw8zNYfK",
    "outputId": "3670dcc8-37e2-4244-c41a-644e8ca3b73e"
   },
   "outputs": [],
   "source": [
    "# data.shape"
   ]
  },
  {
   "cell_type": "code",
   "execution_count": 30,
   "metadata": {
    "id": "oO6juQh4NQxL"
   },
   "outputs": [],
   "source": [
    "# data = pd.concat([data, data_cat],axis=1)   # Join 2 data tables horizontally (axis=1) - (+12 columns in data_cat)"
   ]
  },
  {
   "cell_type": "code",
   "execution_count": 31,
   "metadata": {
    "colab": {
     "base_uri": "https://localhost:8080/"
    },
    "id": "_bV3F4v9Ndo6",
    "outputId": "e12f3e3d-4ee4-4851-9374-3bfd0b3b0ba0"
   },
   "outputs": [],
   "source": [
    "# data.shape"
   ]
  },
  {
   "cell_type": "code",
   "execution_count": 32,
   "metadata": {
    "id": "C0nK7HFmNe8w"
   },
   "outputs": [],
   "source": [
    "# data.drop(columns=cat_col,inplace=True)  # Remove columns in cat_col list: proto, service, state"
   ]
  },
  {
   "cell_type": "code",
   "execution_count": 33,
   "metadata": {
    "colab": {
     "base_uri": "https://localhost:8080/"
    },
    "id": "o0s5ecSQNgGM",
    "outputId": "9fa262be-64fd-4695-df04-269f206be03f"
   },
   "outputs": [],
   "source": [
    "# data.shape"
   ]
  },
  {
   "cell_type": "markdown",
   "metadata": {
    "id": "xshMxL1Zb4hm"
   },
   "source": [
    "# **Data Normalization**"
   ]
  },
  {
   "cell_type": "code",
   "execution_count": 34,
   "metadata": {
    "colab": {
     "base_uri": "https://localhost:8080/"
    },
    "id": "7G3s0etHwGUc",
    "outputId": "441e591d-d436-4a5f-ef71-21f4a92d03b9"
   },
   "outputs": [],
   "source": [
    "# # selecting numeric attributes columns from data\n",
    "# num_col = list(data.select_dtypes(include='number').columns)  # Assign num_col as list\n",
    "# num_col.remove('id')\n",
    "# num_col.remove('label')\n",
    "# print(num_col)"
   ]
  },
  {
   "cell_type": "code",
   "execution_count": 35,
   "metadata": {
    "id": "-phVbE8yal8w"
   },
   "outputs": [],
   "source": [
    "# # using minmax scaler for normalizing data\n",
    "# minmax_scale = MinMaxScaler(feature_range=(0, 1))   # Normalize data to 0-1 format\n",
    "# def normalization(df,col):   \n",
    "#   for i in col:\n",
    "#     arr = df[i]     \n",
    "#     arr = np.array(arr) \n",
    "#     df[i] = minmax_scale.fit_transform(arr.reshape(len(arr),1))\n",
    "#   return df"
   ]
  },
  {
   "cell_type": "markdown",
   "metadata": {},
   "source": [
    "## Data before normalization\n"
   ]
  },
  {
   "cell_type": "code",
   "execution_count": 36,
   "metadata": {
    "colab": {
     "base_uri": "https://localhost:8080/",
     "height": 241
    },
    "id": "GyC-geCscBTR",
    "outputId": "4fa93447-ddf5-4431-9f11-35468442b2c8"
   },
   "outputs": [],
   "source": [
    "# data.head()"
   ]
  },
  {
   "cell_type": "markdown",
   "metadata": {},
   "source": [
    "## Calling normalization() function\n"
   ]
  },
  {
   "cell_type": "code",
   "execution_count": 37,
   "metadata": {
    "id": "nQq5bTuscFrU"
   },
   "outputs": [],
   "source": [
    "# data = normalization(data.copy(),num_col)"
   ]
  },
  {
   "cell_type": "markdown",
   "metadata": {},
   "source": [
    "## Data after normalization\n"
   ]
  },
  {
   "cell_type": "code",
   "execution_count": 38,
   "metadata": {
    "colab": {
     "base_uri": "https://localhost:8080/",
     "height": 326
    },
    "id": "jxaw2yKYcN9X",
    "outputId": "c6f0d252-e9c1-4254-c3f4-9873b483af21"
   },
   "outputs": [],
   "source": [
    "# data.head()"
   ]
  },
  {
   "cell_type": "markdown",
   "metadata": {
    "id": "qhQJSg2Ka1Qb"
   },
   "source": [
    "# **Label Encoding**"
   ]
  },
  {
   "cell_type": "markdown",
   "metadata": {
    "id": "zawDMFnntpRN"
   },
   "source": [
    "## **Multi-class Labels**"
   ]
  },
  {
   "cell_type": "markdown",
   "metadata": {},
   "source": [
    "### One-hot-encoding attack label\n"
   ]
  },
  {
   "cell_type": "code",
   "execution_count": 39,
   "metadata": {
    "id": "5WHf2Hk5i1Tr"
   },
   "outputs": [],
   "source": [
    "# multi_data = data.copy()\n",
    "# multi_label = pd.DataFrame(multi_data.attack_cat)"
   ]
  },
  {
   "cell_type": "code",
   "execution_count": 40,
   "metadata": {
    "id": "bDI2osuxCVRt"
   },
   "outputs": [],
   "source": [
    "# multi_data = pd.get_dummies(multi_data,columns=['attack_cat'])\n",
    "# multi_data.head()"
   ]
  },
  {
   "cell_type": "code",
   "execution_count": 41,
   "metadata": {
    "id": "8tuv1nDFj-z7"
   },
   "outputs": [],
   "source": [
    "# # label encoding (0,1,2,3,4,5,6,7,8) multi-class labels\n",
    "# le2 = preprocessing.LabelEncoder()\n",
    "# enc_label = multi_label.apply(le2.fit_transform)\n",
    "# multi_data['label'] = enc_label\n",
    "# multi_data['label']"
   ]
  },
  {
   "cell_type": "code",
   "execution_count": 42,
   "metadata": {
    "colab": {
     "base_uri": "https://localhost:8080/"
    },
    "id": "ASjsFfv-kK7T",
    "outputId": "f0b07a49-996e-4a08-d4f1-fed72fa91019"
   },
   "outputs": [],
   "source": [
    "# le2.classes_"
   ]
  },
  {
   "cell_type": "code",
   "execution_count": 43,
   "metadata": {
    "id": "XKoH6sN8typc"
   },
   "outputs": [],
   "source": [
    "# np.save(\"le2_classes.npy\",le2.classes_,allow_pickle=True)"
   ]
  },
  {
   "cell_type": "markdown",
   "metadata": {
    "id": "pMT074G_cb0D"
   },
   "source": [
    "# **Correlation between features of dataset**"
   ]
  },
  {
   "cell_type": "code",
   "execution_count": 44,
   "metadata": {
    "id": "lJIPk62ZiFpM"
   },
   "outputs": [],
   "source": [
    "# num_col.append('label')\n",
    "# print(num_col)"
   ]
  },
  {
   "cell_type": "markdown",
   "metadata": {
    "id": "vMadlBNw-xfy"
   },
   "source": [
    "## **Correlation Matrix for Multi-class Labels**"
   ]
  },
  {
   "cell_type": "code",
   "execution_count": 45,
   "metadata": {
    "id": "bCq2FNRbDGVJ"
   },
   "outputs": [],
   "source": [
    "# num_col = list(multi_data.select_dtypes(include='number').columns)\n",
    "# print(num_col)"
   ]
  },
  {
   "cell_type": "code",
   "execution_count": 46,
   "metadata": {},
   "outputs": [],
   "source": [
    "# multi_data.info()"
   ]
  },
  {
   "cell_type": "markdown",
   "metadata": {},
   "source": [
    "## Correlation Matrix for Multi-class Labels\n"
   ]
  },
  {
   "cell_type": "code",
   "execution_count": 47,
   "metadata": {
    "colab": {
     "base_uri": "https://localhost:8080/",
     "height": 628
    },
    "id": "GGobKJQTktZW",
    "outputId": "0e76cd3b-ab5f-4c53-afff-171293a2b9ed"
   },
   "outputs": [],
   "source": [
    "# plt.figure(figsize=(20,8))\n",
    "# corr_multi = multi_data[num_col].corr()\n",
    "# sns.heatmap(corr_multi,vmax=1.0,annot=False)\n",
    "# plt.title('Correlation Matrix for Multi Labels',fontsize=16)\n",
    "# plt.savefig('plots/correlation_matrix_multi.png')\n",
    "# plt.show()"
   ]
  },
  {
   "cell_type": "markdown",
   "metadata": {
    "id": "Xytgw98DRSyE"
   },
   "source": [
    "# **Feature Selection**"
   ]
  },
  {
   "cell_type": "markdown",
   "metadata": {
    "id": "HB3FNtTQvQYo"
   },
   "source": [
    "## **Multi-class Labels**"
   ]
  },
  {
   "cell_type": "code",
   "execution_count": 48,
   "metadata": {
    "colab": {
     "base_uri": "https://localhost:8080/"
    },
    "id": "aOdnkJblmUBH",
    "outputId": "a238f73a-5ff1-4bcf-f62d-680b67857502"
   },
   "outputs": [],
   "source": [
    "# # finding the attributes which have more than 0.3 correlation with encoded attack label attribute \n",
    "# corr_ymulti = abs(corr_multi['label'])\n",
    "# highest_corr_multi = corr_ymulti[corr_ymulti > 0.3]\n",
    "# highest_corr_multi.sort_values(ascending=True)"
   ]
  },
  {
   "cell_type": "code",
   "execution_count": 49,
   "metadata": {
    "colab": {
     "base_uri": "https://localhost:8080/"
    },
    "id": "_FAU8UNYmW8R",
    "outputId": "0c4802f5-cd8f-45ad-c64f-0e94efc210fa"
   },
   "outputs": [],
   "source": [
    "# # selecting attributes found by using pearson correlation coefficient\n",
    "# multi_cols = highest_corr_multi.index\n",
    "# multi_cols"
   ]
  },
  {
   "cell_type": "code",
   "execution_count": 50,
   "metadata": {
    "id": "xgz7owF_mz_P"
   },
   "outputs": [],
   "source": [
    "# # Multi-class labelled Dataset\n",
    "# multi_data = multi_data[multi_cols].copy()\n",
    "# multi_data"
   ]
  },
  {
   "cell_type": "markdown",
   "metadata": {
    "id": "vyCzRKuVvZnh"
   },
   "source": [
    "### **Saving Prepared Dataset to Disk**"
   ]
  },
  {
   "cell_type": "code",
   "execution_count": 51,
   "metadata": {
    "id": "1MzHTuY0vXU_"
   },
   "outputs": [],
   "source": [
    "# multi_data.to_csv('./datasets/multi_data.csv')"
   ]
  },
  {
   "cell_type": "markdown",
   "metadata": {
    "id": "dAp-zYDca51a"
   },
   "source": [
    "# **MULTI-CLASS CLASSIFICATION**"
   ]
  },
  {
   "cell_type": "markdown",
   "metadata": {
    "id": "iuVmJkcnpu43"
   },
   "source": [
    "## **Data Splitting**"
   ]
  },
  {
   "cell_type": "code",
   "execution_count": 52,
   "metadata": {
    "id": "_3N5t_lsxya-"
   },
   "outputs": [],
   "source": [
    "# X = multi_data.drop(columns=['label'],axis=1)\n",
    "# Y = multi_data['label']"
   ]
  },
  {
   "cell_type": "code",
   "execution_count": 53,
   "metadata": {
    "id": "LXynuoh1dKmS"
   },
   "outputs": [],
   "source": [
    "X_train, X_test, y_train, y_test = train_test_split(X, y, test_size=0.2, random_state=42)"
   ]
  },
  {
   "cell_type": "code",
   "execution_count": 54,
   "metadata": {},
   "outputs": [],
   "source": [
    "label_encoder = LabelEncoder()"
   ]
  },
  {
   "cell_type": "code",
   "execution_count": 55,
   "metadata": {},
   "outputs": [],
   "source": [
    "y_train_encoded = label_encoder.fit_transform(y_train)\n",
    "y_test_encoded = label_encoder.transform(y_test)"
   ]
  },
  {
   "cell_type": "code",
   "execution_count": 56,
   "metadata": {},
   "outputs": [],
   "source": [
    "# y_train.value_counts()"
   ]
  },
  {
   "cell_type": "markdown",
   "metadata": {
    "id": "GfgDLk_7p6ZF"
   },
   "source": [
    "## **Logistic Regression**"
   ]
  },
  {
   "cell_type": "code",
   "execution_count": 57,
   "metadata": {
    "colab": {
     "base_uri": "https://localhost:8080/"
    },
    "id": "nEp5BPpwzEFM",
    "outputId": "96787f20-5a78-498a-bfad-ec23dd1c2a67"
   },
   "outputs": [
    {
     "name": "stderr",
     "output_type": "stream",
     "text": [
      "d:\\ML\\env311\\Lib\\site-packages\\sklearn\\linear_model\\_logistic.py:1247: FutureWarning: 'multi_class' was deprecated in version 1.5 and will be removed in 1.7. From then on, it will always use 'multinomial'. Leave it to its default value to avoid this warning.\n",
      "  warnings.warn(\n"
     ]
    }
   ],
   "source": [
    "logr_multi = LogisticRegression(random_state=42, max_iter=5000, solver='newton-cg',multi_class='multinomial')\n",
    "\n",
    "# Start time\n",
    "start_time = time.time()\n",
    "\n",
    "logr_multi.fit(X_train, y_train_encoded)\n",
    "\n",
    "# End time\n",
    "end_time = time.time()"
   ]
  },
  {
   "cell_type": "code",
   "execution_count": 58,
   "metadata": {
    "id": "zrr8qU3tyUq4"
   },
   "outputs": [],
   "source": [
    "y_pred_encoded = logr_multi.predict(X_test)"
   ]
  },
  {
   "cell_type": "markdown",
   "metadata": {},
   "source": [
    "# **Confusion Maxtrix**"
   ]
  },
  {
   "cell_type": "code",
   "execution_count": 59,
   "metadata": {},
   "outputs": [],
   "source": [
    "target_names=[\n",
    "    'Analysis', \n",
    "    'Backdoor', \n",
    "    'DoS', \n",
    "    'Exploits', \n",
    "    'Fuzzers', \n",
    "    'Generic', \n",
    "    'Normal', \n",
    "    'Reconnaissance', \n",
    "    'Shellcode', \n",
    "    'Worms'\n",
    "]"
   ]
  },
  {
   "cell_type": "code",
   "execution_count": 60,
   "metadata": {},
   "outputs": [
    {
     "data": {
      "text/plain": [
       "array([[   18,     0,    16,   359,    48,     0,    78,     0,     0,\n",
       "            0],\n",
       "       [    0,     1,    18,   346,    63,     0,    17,    23,     0,\n",
       "            0],\n",
       "       [    0,     0,   141,  2802,   141,    25,   107,    76,     0,\n",
       "            0],\n",
       "       [    0,     1,   191,  7717,   445,    33,   473,   220,     0,\n",
       "            0],\n",
       "       [    0,     0,    19,   534,  2064,    18,  1882,   314,     0,\n",
       "            0],\n",
       "       [    0,     0,     0,   197,    61, 11238,    23,    18,     0,\n",
       "            0],\n",
       "       [    2,     0,     0,   431,   870,     1, 16898,   411,     0,\n",
       "            0],\n",
       "       [    0,     0,    32,   768,   103,     7,   265,  1677,     0,\n",
       "            0],\n",
       "       [    0,     0,     0,     3,    50,     0,    53,   203,     0,\n",
       "            0],\n",
       "       [    0,     0,     0,    21,     2,    10,     0,     1,     0,\n",
       "            0]], dtype=int64)"
      ]
     },
     "execution_count": 60,
     "metadata": {},
     "output_type": "execute_result"
    }
   ],
   "source": [
    "# Create confusion matrix\n",
    "confusion_matrix_result = confusion_matrix(y_test_encoded, y_pred_encoded, labels=np.arange(len(target_names)))\n",
    "confusion_matrix_result"
   ]
  },
  {
   "cell_type": "code",
   "execution_count": 61,
   "metadata": {},
   "outputs": [],
   "source": [
    "# Compute confusion matrix\n",
    "def plot_confusion_matrix(\n",
    "        cm,\n",
    "        target_names,\n",
    "        title='Confusion matrix',\n",
    "        cmap=None,\n",
    "        normalize=True\n",
    "):\n",
    "    \n",
    "    import itertools\n",
    "\n",
    "    accuracy = np.trace(cm) / float(np.sum(cm))\n",
    "    misclass = 1 - accuracy\n",
    "\n",
    "    if cmap is None:\n",
    "        cmap = plt.get_cmap('Blues')\n",
    "\n",
    "    plt.figure(figsize=(8, 6))\n",
    "    plt.imshow(cm, interpolation='nearest', cmap=cmap)\n",
    "    plt.title(title)\n",
    "    plt.colorbar()\n",
    "\n",
    "    if target_names is not None:\n",
    "        tick_marks = np.arange(len(target_names))\n",
    "        plt.xticks(tick_marks, target_names, rotation=45)\n",
    "        plt.yticks(tick_marks, target_names)\n",
    "\n",
    "    if normalize:\n",
    "        cm = cm.astype('float') / cm.sum(axis=1)[:, np.newaxis]\n",
    "\n",
    "\n",
    "    thresh = cm.max() / 1.5 if normalize else cm.max() / 2\n",
    "    for i, j in itertools.product(range(cm.shape[0]), range(cm.shape[1])):\n",
    "        if normalize:\n",
    "            plt.text(j, i, \"{:0.4f}\".format(cm[i, j]),\n",
    "                     horizontalalignment=\"center\",\n",
    "                     color=\"white\" if cm[i, j] > thresh else \"black\")\n",
    "        else:\n",
    "            plt.text(j, i, \"{:,}\".format(cm[i, j]),\n",
    "                     horizontalalignment=\"center\",\n",
    "                     color=\"white\" if cm[i, j] > thresh else \"black\")\n",
    "\n",
    "\n",
    "    plt.tight_layout()\n",
    "    plt.ylabel('True label')\n",
    "    plt.xlabel('Predicted label\\naccuracy={:0.4f}; misclass={:0.4f}'.format(accuracy, misclass))\n",
    "    plt.show()"
   ]
  },
  {
   "cell_type": "code",
   "execution_count": 62,
   "metadata": {},
   "outputs": [
    {
     "data": {
      "image/png": "[encoded data removed]",
      "text/plain": [
       "<Figure size 800x600 with 2 Axes>"
      ]
     },
     "metadata": {},
     "output_type": "display_data"
    }
   ],
   "source": [
    "# Plot confusion matrix\n",
    "plot_confusion_matrix(\n",
    "    confusion_matrix_result, \n",
    "    normalize=False,\n",
    "    target_names=target_names, \n",
    "    title=\"Confusion Matrix Logistic Regression\"\n",
    ")"
   ]
  },
  {
   "cell_type": "markdown",
   "metadata": {},
   "source": [
    "# **Caculate metrics**"
   ]
  },
  {
   "cell_type": "code",
   "execution_count": 63,
   "metadata": {},
   "outputs": [
    {
     "name": "stdout",
     "output_type": "stream",
     "text": [
      "Training time: 61.61 seconds\n"
     ]
    }
   ],
   "source": [
    "# Training time\n",
    "training_time = end_time - start_time\n",
    "print(f\"Training time: {training_time:.2f} seconds\")"
   ]
  },
  {
   "cell_type": "code",
   "execution_count": 64,
   "metadata": {},
   "outputs": [],
   "source": [
    "# Tính Detection Rate và False Positive Rate\n",
    "tp = np.diag(confusion_matrix_result)  # True Positives\n",
    "fn = np.sum(confusion_matrix_result, axis=1) - tp  # False Negatives\n",
    "fp = np.sum(confusion_matrix_result, axis=0) - tp  # False Positives"
   ]
  },
  {
   "cell_type": "code",
   "execution_count": 65,
   "metadata": {},
   "outputs": [
    {
     "name": "stdout",
     "output_type": "stream",
     "text": [
      "            Class  False Positive Rate  Detection Rate\n",
      "0        Analysis             0.003976        0.034682\n",
      "1        Backdoor             0.002137        0.002137\n",
      "2             DoS             0.080537        0.042831\n",
      "3        Exploits             0.800264        0.849890\n",
      "4         Fuzzers             0.391868        0.427241\n",
      "5         Generic             0.239186        0.974083\n",
      "6          Normal             0.628225        0.907860\n",
      "7  Reconnaissance             0.518640        0.588008\n",
      "8       Shellcode             0.000000        0.000000\n",
      "9           Worms             0.000000        0.000000\n"
     ]
    }
   ],
   "source": [
    "detection_rate = tp / (tp + fn)\n",
    "fpr = fp / (fp + np.sum(confusion_matrix_result, axis=1) - tp)\n",
    "df = pd.DataFrame({\"Class\": target_names, \"False Positive Rate\": fpr, \"Detection Rate\": detection_rate})\n",
    "\n",
    "# Hiển thị bảng\n",
    "print(df)"
   ]
  },
  {
   "cell_type": "code",
   "execution_count": 66,
   "metadata": {
    "colab": {
     "base_uri": "https://localhost:8080/"
    },
    "id": "WdSqI3dVxVhV",
    "outputId": "1d93d846-4b5a-4508-c51c-5fa67b75d1bd"
   },
   "outputs": [
    {
     "name": "stdout",
     "output_type": "stream",
     "text": [
      "Mean Absolute Error -  0.4589114194236926\n",
      "Mean Squared Error -  1.2065974580382264\n",
      "Root Mean Squared Error -  1.098452301212131\n",
      "R2 Score -  49.54149675627829\n",
      "F1 Score -  74.2177707778564\n",
      "Accuracy -  77.13980789754535\n"
     ]
    }
   ],
   "source": [
    "print(\"Mean Absolute Error - \" , mean_absolute_error(y_test_encoded, y_pred_encoded))\n",
    "print(\"Mean Squared Error - \" , mean_squared_error(y_test_encoded, y_pred_encoded))\n",
    "print(\"Root Mean Squared Error - \" , np.sqrt(metrics.mean_squared_error(y_test_encoded, y_pred_encoded)))\n",
    "print(\"R2 Score - \" , explained_variance_score(y_test_encoded, y_pred_encoded)*100)\n",
    "print(\"F1 Score - \", f1_score(y_test_encoded, y_pred_encoded, average='weighted') * 100)\n",
    "print(\"Accuracy - \",accuracy_score(y_test_encoded, y_pred_encoded)*100)"
   ]
  },
  {
   "cell_type": "code",
   "execution_count": 67,
   "metadata": {
    "colab": {
     "base_uri": "https://localhost:8080/"
    },
    "id": "5TUlDo1NxzX6",
    "outputId": "a3fd68f5-5770-47cf-9a39-37492c00a294"
   },
   "outputs": [
    {
     "name": "stdout",
     "output_type": "stream",
     "text": [
      "                precision    recall  f1-score   support\n",
      "\n",
      "      Analysis       0.90      0.03      0.07       519\n",
      "      Backdoor       0.50      0.00      0.00       468\n",
      "           DoS       0.34      0.04      0.08      3292\n",
      "      Exploits       0.59      0.85      0.69      9080\n",
      "       Fuzzers       0.54      0.43      0.48      4831\n",
      "       Generic       0.99      0.97      0.98     11537\n",
      "        Normal       0.85      0.91      0.88     18613\n",
      "Reconnaissance       0.57      0.59      0.58      2852\n",
      "     Shellcode       0.00      0.00      0.00       309\n",
      "         Worms       0.00      0.00      0.00        34\n",
      "\n",
      "      accuracy                           0.77     51535\n",
      "     macro avg       0.53      0.38      0.38     51535\n",
      "  weighted avg       0.75      0.77      0.74     51535\n",
      "\n"
     ]
    },
    {
     "name": "stderr",
     "output_type": "stream",
     "text": [
      "d:\\ML\\env311\\Lib\\site-packages\\sklearn\\metrics\\_classification.py:1565: UndefinedMetricWarning: Precision is ill-defined and being set to 0.0 in labels with no predicted samples. Use `zero_division` parameter to control this behavior.\n",
      "  _warn_prf(average, modifier, f\"{metric.capitalize()} is\", len(result))\n",
      "d:\\ML\\env311\\Lib\\site-packages\\sklearn\\metrics\\_classification.py:1565: UndefinedMetricWarning: Precision is ill-defined and being set to 0.0 in labels with no predicted samples. Use `zero_division` parameter to control this behavior.\n",
      "  _warn_prf(average, modifier, f\"{metric.capitalize()} is\", len(result))\n",
      "d:\\ML\\env311\\Lib\\site-packages\\sklearn\\metrics\\_classification.py:1565: UndefinedMetricWarning: Precision is ill-defined and being set to 0.0 in labels with no predicted samples. Use `zero_division` parameter to control this behavior.\n",
      "  _warn_prf(average, modifier, f\"{metric.capitalize()} is\", len(result))\n"
     ]
    }
   ],
   "source": [
    "print(classification_report(y_test_encoded, y_pred_encoded, target_names=target_names))"
   ]
  },
  {
   "cell_type": "markdown",
   "metadata": {
    "id": "Ur5ZoFg3KFxp"
   },
   "source": [
    "### **Saving Trained Model to Disk**"
   ]
  },
  {
   "cell_type": "code",
   "execution_count": 68,
   "metadata": {
    "colab": {
     "base_uri": "https://localhost:8080/"
    },
    "id": "jRzT5jK_2ZhW",
    "outputId": "3d7ce7f0-776b-4abe-9af3-30349ac7882b"
   },
   "outputs": [
    {
     "name": "stdout",
     "output_type": "stream",
     "text": [
      "Model already saved\n"
     ]
    }
   ],
   "source": [
    "pkl_filename = \"../models/logistic_regressor_multi.h5\"\n",
    "if (not path.isfile(pkl_filename)):\n",
    "  # saving the trained model to disk \n",
    "  with open(pkl_filename, 'wb') as file:\n",
    "    pickle.dump(logr_multi, file)\n",
    "  print(\"Saved model to disk\")\n",
    "else:\n",
    "  print(\"Model already saved\")"
   ]
  },
  {
   "cell_type": "markdown",
   "metadata": {
    "id": "C0xQiXc3qFkl"
   },
   "source": [
    "## **Linear Support Vector Machine**"
   ]
  },
  {
   "cell_type": "code",
   "execution_count": 69,
   "metadata": {
    "colab": {
     "base_uri": "https://localhost:8080/"
    },
    "id": "K3MWgwoGdyRN",
    "outputId": "30504463-b015-4f6f-e5c7-5c917350f138"
   },
   "outputs": [],
   "source": [
    "lsvm_multi = SVC(kernel='linear', gamma='auto')\n",
    "\n",
    "# Start time\n",
    "start_time = time.time()\n",
    "\n",
    "lsvm_multi.fit(X_train, y_train_encoded)\n",
    "\n",
    "# End time\n",
    "end_time = time.time()\n",
    "training_time = end_time -start_time"
   ]
  },
  {
   "cell_type": "code",
   "execution_count": 70,
   "metadata": {
    "id": "CtmWb8eDd3ga"
   },
   "outputs": [],
   "source": [
    "y_pred_encoded = lsvm_multi.predict(X_test)"
   ]
  },
  {
   "cell_type": "markdown",
   "metadata": {},
   "source": [
    "# **Confusion maxtrix**"
   ]
  },
  {
   "cell_type": "code",
   "execution_count": 71,
   "metadata": {},
   "outputs": [],
   "source": [
    "target_names=[\n",
    "    'Analysis', \n",
    "    'Backdoor', \n",
    "    'DoS', \n",
    "    'Exploits', \n",
    "    'Fuzzers', \n",
    "    'Generic', \n",
    "    'Normal', \n",
    "    'Reconnaissance', \n",
    "    'Shellcode', \n",
    "    'Worms'\n",
    "]"
   ]
  },
  {
   "cell_type": "code",
   "execution_count": 72,
   "metadata": {},
   "outputs": [
    {
     "data": {
      "text/plain": [
       "array([[   14,     0,     3,   423,     1,     0,    78,     0,     0,\n",
       "            0],\n",
       "       [    0,     1,     0,   421,     6,     0,    21,    19,     0,\n",
       "            0],\n",
       "       [    0,     3,    22,  3052,    49,    17,    84,    65,     0,\n",
       "            0],\n",
       "       [    0,     4,    44,  8232,   218,    22,   398,   162,     0,\n",
       "            0],\n",
       "       [    0,     0,     2,   800,  1185,    12,  2608,   224,     0,\n",
       "            0],\n",
       "       [    0,     0,     1,   216,    39, 11229,    37,    15,     0,\n",
       "            0],\n",
       "       [    1,     0,     0,   416,   421,     1, 17437,   337,     0,\n",
       "            0],\n",
       "       [    0,     0,     2,   885,    66,     7,   277,  1615,     0,\n",
       "            0],\n",
       "       [    0,     0,     0,     5,    26,     0,   101,   177,     0,\n",
       "            0],\n",
       "       [    0,     0,     0,    32,     2,     0,     0,     0,     0,\n",
       "            0]], dtype=int64)"
      ]
     },
     "execution_count": 72,
     "metadata": {},
     "output_type": "execute_result"
    }
   ],
   "source": [
    "# Create confusion matrix\n",
    "confusion_matrix_result = confusion_matrix(y_test_encoded, y_pred_encoded, labels=np.arange(len(target_names)))\n",
    "confusion_matrix_result"
   ]
  },
  {
   "cell_type": "code",
   "execution_count": 73,
   "metadata": {},
   "outputs": [],
   "source": [
    "# Compute confusion matrix\n",
    "def plot_confusion_matrix(\n",
    "        cm,\n",
    "        target_names,\n",
    "        title='Confusion matrix',\n",
    "        cmap=None,\n",
    "        normalize=True\n",
    "):\n",
    "    \n",
    "    import itertools\n",
    "\n",
    "    accuracy = np.trace(cm) / float(np.sum(cm))\n",
    "    misclass = 1 - accuracy\n",
    "\n",
    "    if cmap is None:\n",
    "        cmap = plt.get_cmap('Blues')\n",
    "\n",
    "    plt.figure(figsize=(8, 6))\n",
    "    plt.imshow(cm, interpolation='nearest', cmap=cmap)\n",
    "    plt.title(title)\n",
    "    plt.colorbar()\n",
    "\n",
    "    if target_names is not None:\n",
    "        tick_marks = np.arange(len(target_names))\n",
    "        plt.xticks(tick_marks, target_names, rotation=45)\n",
    "        plt.yticks(tick_marks, target_names)\n",
    "\n",
    "    if normalize:\n",
    "        cm = cm.astype('float') / cm.sum(axis=1)[:, np.newaxis]\n",
    "\n",
    "\n",
    "    thresh = cm.max() / 1.5 if normalize else cm.max() / 2\n",
    "    for i, j in itertools.product(range(cm.shape[0]), range(cm.shape[1])):\n",
    "        if normalize:\n",
    "            plt.text(j, i, \"{:0.4f}\".format(cm[i, j]),\n",
    "                     horizontalalignment=\"center\",\n",
    "                     color=\"white\" if cm[i, j] > thresh else \"black\")\n",
    "        else:\n",
    "            plt.text(j, i, \"{:,}\".format(cm[i, j]),\n",
    "                     horizontalalignment=\"center\",\n",
    "                     color=\"white\" if cm[i, j] > thresh else \"black\")\n",
    "\n",
    "\n",
    "    plt.tight_layout()\n",
    "    plt.ylabel('True label')\n",
    "    plt.xlabel('Predicted label\\naccuracy={:0.4f}; misclass={:0.4f}'.format(accuracy, misclass))\n",
    "    plt.show()"
   ]
  },
  {
   "cell_type": "code",
   "execution_count": 74,
   "metadata": {},
   "outputs": [
    {
     "data": {
      "image/png": "[encoded data removed]",
      "text/plain": [
       "<Figure size 800x600 with 2 Axes>"
      ]
     },
     "metadata": {},
     "output_type": "display_data"
    }
   ],
   "source": [
    "# Plot confusion matrix\n",
    "plot_confusion_matrix(\n",
    "    confusion_matrix_result, \n",
    "    normalize=False,\n",
    "    target_names=target_names, \n",
    "    title=\"Confusion Matrix LSVM\"\n",
    ")"
   ]
  },
  {
   "cell_type": "markdown",
   "metadata": {},
   "source": [
    "# **Caculate metrics**"
   ]
  },
  {
   "cell_type": "code",
   "execution_count": 75,
   "metadata": {},
   "outputs": [
    {
     "name": "stdout",
     "output_type": "stream",
     "text": [
      "Training time: 54.24 minutes\n"
     ]
    }
   ],
   "source": [
    "# Training time\n",
    "print(f\"Training time: {training_time/60:.2f} minutes\")"
   ]
  },
  {
   "cell_type": "code",
   "execution_count": 76,
   "metadata": {},
   "outputs": [],
   "source": [
    "# Tính Detection Rate và False Positive Rate\n",
    "tp = np.diag(confusion_matrix_result)  # True Positives\n",
    "fn = np.sum(confusion_matrix_result, axis=1) - tp  # False Negatives\n",
    "fp = np.sum(confusion_matrix_result, axis=0) - tp  # False Positives"
   ]
  },
  {
   "cell_type": "code",
   "execution_count": 77,
   "metadata": {},
   "outputs": [
    {
     "name": "stdout",
     "output_type": "stream",
     "text": [
      "            Class  False Positive Rate  Detection Rate\n",
      "0        Analysis             0.001976        0.026975\n",
      "1        Backdoor             0.014768        0.002137\n",
      "2             DoS             0.015653        0.006683\n",
      "3        Exploits             0.880530        0.906608\n",
      "4         Fuzzers             0.185069        0.245291\n",
      "5         Generic             0.160763        0.973303\n",
      "6          Normal             0.753975        0.936818\n",
      "7  Reconnaissance             0.446780        0.566269\n",
      "8       Shellcode             0.000000        0.000000\n",
      "9           Worms             0.000000        0.000000\n"
     ]
    }
   ],
   "source": [
    "detection_rate = tp / (tp + fn)\n",
    "fpr = fp / (fp + np.sum(confusion_matrix_result, axis=1) - tp)\n",
    "df = pd.DataFrame({\"Class\": target_names, \"False Positive Rate\": fpr, \"Detection Rate\": detection_rate})\n",
    "\n",
    "# Hiển thị bảng\n",
    "print(df)"
   ]
  },
  {
   "cell_type": "code",
   "execution_count": 78,
   "metadata": {},
   "outputs": [
    {
     "name": "stdout",
     "output_type": "stream",
     "text": [
      "                precision    recall  f1-score   support\n",
      "\n",
      "      Analysis       0.93      0.03      0.05       519\n",
      "      Backdoor       0.12      0.00      0.00       468\n",
      "           DoS       0.30      0.01      0.01      3292\n",
      "      Exploits       0.57      0.91      0.70      9080\n",
      "       Fuzzers       0.59      0.25      0.35      4831\n",
      "       Generic       0.99      0.97      0.98     11537\n",
      "        Normal       0.83      0.94      0.88     18613\n",
      "Reconnaissance       0.62      0.57      0.59      2852\n",
      "     Shellcode       0.00      0.00      0.00       309\n",
      "         Worms       0.00      0.00      0.00        34\n",
      "\n",
      "      accuracy                           0.77     51535\n",
      "     macro avg       0.50      0.37      0.36     51535\n",
      "  weighted avg       0.74      0.77      0.73     51535\n",
      "\n"
     ]
    },
    {
     "name": "stderr",
     "output_type": "stream",
     "text": [
      "d:\\ML\\env311\\Lib\\site-packages\\sklearn\\metrics\\_classification.py:1565: UndefinedMetricWarning: Precision is ill-defined and being set to 0.0 in labels with no predicted samples. Use `zero_division` parameter to control this behavior.\n",
      "  _warn_prf(average, modifier, f\"{metric.capitalize()} is\", len(result))\n",
      "d:\\ML\\env311\\Lib\\site-packages\\sklearn\\metrics\\_classification.py:1565: UndefinedMetricWarning: Precision is ill-defined and being set to 0.0 in labels with no predicted samples. Use `zero_division` parameter to control this behavior.\n",
      "  _warn_prf(average, modifier, f\"{metric.capitalize()} is\", len(result))\n",
      "d:\\ML\\env311\\Lib\\site-packages\\sklearn\\metrics\\_classification.py:1565: UndefinedMetricWarning: Precision is ill-defined and being set to 0.0 in labels with no predicted samples. Use `zero_division` parameter to control this behavior.\n",
      "  _warn_prf(average, modifier, f\"{metric.capitalize()} is\", len(result))\n"
     ]
    }
   ],
   "source": [
    "# Hiển thị báo cáo phân loại\n",
    "print(classification_report(y_test_encoded, y_pred_encoded, target_names=target_names))"
   ]
  },
  {
   "cell_type": "code",
   "execution_count": 79,
   "metadata": {
    "colab": {
     "base_uri": "https://localhost:8080/"
    },
    "id": "DJYzkOIlxYiz",
    "outputId": "d821624a-7e9f-4134-c1ef-a8d2a05445bd"
   },
   "outputs": [
    {
     "name": "stdout",
     "output_type": "stream",
     "text": [
      "Mean Absolute Error -  0.4516348112932958\n",
      "Mean Squared Error -  1.1645483651887067\n",
      "Root Mean Squared Error -  1.079142421179293\n",
      "R2 Score -  51.49486963889902\n",
      "F1 Score -  72.75824344894689\n",
      "Accuracy -  77.10293974968468\n"
     ]
    }
   ],
   "source": [
    "print(\"Mean Absolute Error - \" , mean_absolute_error(y_test_encoded, y_pred_encoded))\n",
    "print(\"Mean Squared Error - \" , mean_squared_error(y_test_encoded, y_pred_encoded))\n",
    "print(\"Root Mean Squared Error - \" , np.sqrt(mean_squared_error(y_test_encoded, y_pred_encoded)))\n",
    "print(\"R2 Score - \" , explained_variance_score(y_test_encoded, y_pred_encoded)*100)\n",
    "print(\"F1 Score - \", f1_score(y_test_encoded, y_pred_encoded, average='weighted') * 100)\n",
    "print(\"Accuracy - \", accuracy_score(y_test_encoded, y_pred_encoded)*100)"
   ]
  },
  {
   "cell_type": "code",
   "execution_count": 80,
   "metadata": {
    "colab": {
     "base_uri": "https://localhost:8080/"
    },
    "id": "E9Hdgfb9d95O",
    "outputId": "ff36d63a-e763-442a-9472-72d971624425"
   },
   "outputs": [],
   "source": [
    "# print(classification_report(y_test_encoded, y_pred_encoded, target_names=le2.classes_))"
   ]
  },
  {
   "cell_type": "markdown",
   "metadata": {
    "id": "nHEfY6S9KHy_"
   },
   "source": [
    "### **Saving Trained Model to Disk**"
   ]
  },
  {
   "cell_type": "code",
   "execution_count": 81,
   "metadata": {
    "colab": {
     "base_uri": "https://localhost:8080/"
    },
    "id": "pCjiLEtS2DmP",
    "outputId": "d51690c6-3639-46c3-a361-63129efa4a61"
   },
   "outputs": [
    {
     "name": "stdout",
     "output_type": "stream",
     "text": [
      "Saved model to disk\n"
     ]
    }
   ],
   "source": [
    "pkl_filename = \"../models/lsvm_multi.h5\"\n",
    "if (not path.isfile(pkl_filename)):\n",
    "  # saving the trained model to disk \n",
    "  with open(pkl_filename, 'wb') as file:\n",
    "    pickle.dump(lsvm_multi, file)\n",
    "  print(\"Saved model to disk\")\n",
    "else:\n",
    "  print(\"Model already saved\")"
   ]
  },
  {
   "cell_type": "markdown",
   "metadata": {
    "id": "amETgFohDwmM"
   },
   "source": [
    "## **Multi Layer Perceptron**"
   ]
  },
  {
   "cell_type": "code",
   "execution_count": 82,
   "metadata": {
    "colab": {
     "base_uri": "https://localhost:8080/"
    },
    "id": "RFXDdM37ypX9",
    "outputId": "d30c50bc-7757-40e8-fe7e-2cc15e6d808f"
   },
   "outputs": [],
   "source": [
    "mlp_multi = MLPClassifier(random_state=123, solver='adam', max_iter=8000)\n",
    "\n",
    "# Start time\n",
    "start_time = time.time()\n",
    "\n",
    "mlp_multi.fit(X_train, y_train_encoded)\n",
    "\n",
    "# End time\n",
    "end_time = time.time()\n",
    "training_time = end_time - start_time"
   ]
  },
  {
   "cell_type": "code",
   "execution_count": 83,
   "metadata": {
    "id": "T4bcnbjLx_oe"
   },
   "outputs": [],
   "source": [
    "y_pred_encoded = mlp_multi.predict(X_test)"
   ]
  },
  {
   "cell_type": "markdown",
   "metadata": {},
   "source": [
    "# **Confusion matrix**"
   ]
  },
  {
   "cell_type": "code",
   "execution_count": 84,
   "metadata": {},
   "outputs": [],
   "source": [
    "target_names=[\n",
    "    'Analysis', \n",
    "    'Backdoor', \n",
    "    'DoS', \n",
    "    'Exploits', \n",
    "    'Fuzzers', \n",
    "    'Generic', \n",
    "    'Normal', \n",
    "    'Reconnaissance', \n",
    "    'Shellcode', \n",
    "    'Worms'\n",
    "]"
   ]
  },
  {
   "cell_type": "code",
   "execution_count": 85,
   "metadata": {},
   "outputs": [
    {
     "data": {
      "text/plain": [
       "array([[   25,     1,    85,   277,    30,     0,   101,     0,     0,\n",
       "            0],\n",
       "       [    0,     6,    75,   331,    39,     0,    11,     4,     2,\n",
       "            0],\n",
       "       [    0,     7,   687,  2405,    62,    15,    83,    18,    15,\n",
       "            0],\n",
       "       [    5,     6,   830,  7487,   243,    23,   312,   137,    37,\n",
       "            0],\n",
       "       [    0,     2,    78,   504,  2078,     3,  2108,    47,    11,\n",
       "            0],\n",
       "       [    0,     0,    33,   177,    18, 11280,    23,     3,     1,\n",
       "            2],\n",
       "       [    7,     0,     1,    94,   498,     7, 17914,    76,    16,\n",
       "            0],\n",
       "       [    0,     0,   111,   565,    20,     2,    52,  2098,     4,\n",
       "            0],\n",
       "       [    0,     0,     3,    46,    13,     2,    60,    40,   145,\n",
       "            0],\n",
       "       [    0,     0,     0,    27,     0,     0,     0,     0,     0,\n",
       "            7]], dtype=int64)"
      ]
     },
     "execution_count": 85,
     "metadata": {},
     "output_type": "execute_result"
    }
   ],
   "source": [
    "# Create confusion matrix\n",
    "confusion_matrix_result = confusion_matrix(y_test_encoded, y_pred_encoded, labels=np.arange(len(target_names)))\n",
    "confusion_matrix_result"
   ]
  },
  {
   "cell_type": "code",
   "execution_count": 86,
   "metadata": {},
   "outputs": [],
   "source": [
    "# Compute confusion matrix\n",
    "def plot_confusion_matrix(\n",
    "        cm,\n",
    "        target_names,\n",
    "        title='Confusion matrix',\n",
    "        cmap=None,\n",
    "        normalize=True\n",
    "):\n",
    "    \n",
    "    import itertools\n",
    "\n",
    "    accuracy = np.trace(cm) / float(np.sum(cm))\n",
    "    misclass = 1 - accuracy\n",
    "\n",
    "    if cmap is None:\n",
    "        cmap = plt.get_cmap('Blues')\n",
    "\n",
    "    plt.figure(figsize=(8, 6))\n",
    "    plt.imshow(cm, interpolation='nearest', cmap=cmap)\n",
    "    plt.title(title)\n",
    "    plt.colorbar()\n",
    "\n",
    "    if target_names is not None:\n",
    "        tick_marks = np.arange(len(target_names))\n",
    "        plt.xticks(tick_marks, target_names, rotation=45)\n",
    "        plt.yticks(tick_marks, target_names)\n",
    "\n",
    "    if normalize:\n",
    "        cm = cm.astype('float') / cm.sum(axis=1)[:, np.newaxis]\n",
    "\n",
    "\n",
    "    thresh = cm.max() / 1.5 if normalize else cm.max() / 2\n",
    "    for i, j in itertools.product(range(cm.shape[0]), range(cm.shape[1])):\n",
    "        if normalize:\n",
    "            plt.text(j, i, \"{:0.4f}\".format(cm[i, j]),\n",
    "                     horizontalalignment=\"center\",\n",
    "                     color=\"white\" if cm[i, j] > thresh else \"black\")\n",
    "        else:\n",
    "            plt.text(j, i, \"{:,}\".format(cm[i, j]),\n",
    "                     horizontalalignment=\"center\",\n",
    "                     color=\"white\" if cm[i, j] > thresh else \"black\")\n",
    "\n",
    "\n",
    "    plt.tight_layout()\n",
    "    plt.ylabel('True label')\n",
    "    plt.xlabel('Predicted label\\naccuracy={:0.4f}; misclass={:0.4f}'.format(accuracy, misclass))\n",
    "    plt.show()"
   ]
  },
  {
   "cell_type": "code",
   "execution_count": 87,
   "metadata": {},
   "outputs": [
    {
     "data": {
      "image/png": "[encoded data removed]",
      "text/plain": [
       "<Figure size 800x600 with 2 Axes>"
      ]
     },
     "metadata": {},
     "output_type": "display_data"
    }
   ],
   "source": [
    "# Plot confusion matrix\n",
    "plot_confusion_matrix(\n",
    "    confusion_matrix_result, \n",
    "    normalize=False,\n",
    "    target_names=target_names, \n",
    "    title=\"Confusion Matrix MLP\"\n",
    ")"
   ]
  },
  {
   "cell_type": "markdown",
   "metadata": {},
   "source": [
    "# **Caculate metrics**"
   ]
  },
  {
   "cell_type": "code",
   "execution_count": 88,
   "metadata": {},
   "outputs": [
    {
     "name": "stdout",
     "output_type": "stream",
     "text": [
      "Training time: 8.52 minutes\n"
     ]
    }
   ],
   "source": [
    "# Training time\n",
    "print(f\"Training time: {training_time/60:.2f} minutes\")"
   ]
  },
  {
   "cell_type": "code",
   "execution_count": 89,
   "metadata": {},
   "outputs": [],
   "source": [
    "# Tính Detection Rate và False Positive Rate\n",
    "tp = np.diag(confusion_matrix_result)  # True Positives\n",
    "fn = np.sum(confusion_matrix_result, axis=1) - tp  # False Negatives\n",
    "fp = np.sum(confusion_matrix_result, axis=0) - tp  # False Positives"
   ]
  },
  {
   "cell_type": "code",
   "execution_count": 90,
   "metadata": {},
   "outputs": [
    {
     "name": "stdout",
     "output_type": "stream",
     "text": [
      "            Class  False Positive Rate  Detection Rate\n",
      "0        Analysis             0.023715        0.048170\n",
      "1        Backdoor             0.033473        0.012821\n",
      "2             DoS             0.318241        0.208688\n",
      "3        Exploits             0.735338        0.824559\n",
      "4         Fuzzers             0.251088        0.430139\n",
      "5         Generic             0.168285        0.977724\n",
      "6          Normal             0.797333        0.962446\n",
      "7  Reconnaissance             0.301205        0.735624\n",
      "8       Shellcode             0.344000        0.469256\n",
      "9           Worms             0.068966        0.205882\n"
     ]
    }
   ],
   "source": [
    "detection_rate = tp / (tp + fn)\n",
    "fpr = fp / (fp + np.sum(confusion_matrix_result, axis=1) - tp)\n",
    "df = pd.DataFrame({\"Class\": target_names, \"False Positive Rate\": fpr, \"Detection Rate\": detection_rate})\n",
    "\n",
    "# Hiển thị bảng\n",
    "print(df)"
   ]
  },
  {
   "cell_type": "code",
   "execution_count": 91,
   "metadata": {},
   "outputs": [
    {
     "name": "stdout",
     "output_type": "stream",
     "text": [
      "                precision    recall  f1-score   support\n",
      "\n",
      "      Analysis       0.68      0.05      0.09       519\n",
      "      Backdoor       0.27      0.01      0.02       468\n",
      "           DoS       0.36      0.21      0.26      3292\n",
      "      Exploits       0.63      0.82      0.71      9080\n",
      "       Fuzzers       0.69      0.43      0.53      4831\n",
      "       Generic       1.00      0.98      0.99     11537\n",
      "        Normal       0.87      0.96      0.91     18613\n",
      "Reconnaissance       0.87      0.74      0.80      2852\n",
      "     Shellcode       0.63      0.47      0.54       309\n",
      "         Worms       0.78      0.21      0.33        34\n",
      "\n",
      "      accuracy                           0.81     51535\n",
      "     macro avg       0.68      0.49      0.52     51535\n",
      "  weighted avg       0.80      0.81      0.79     51535\n",
      "\n"
     ]
    }
   ],
   "source": [
    "# Hiển thị báo cáo phân loại\n",
    "print(classification_report(y_test_encoded, y_pred_encoded, target_names=target_names))"
   ]
  },
  {
   "cell_type": "code",
   "execution_count": 92,
   "metadata": {
    "colab": {
     "base_uri": "https://localhost:8080/"
    },
    "id": "NbFUJ7FQxdex",
    "outputId": "b57c9fc2-c8fc-440a-b1d0-e74187ae783b"
   },
   "outputs": [
    {
     "name": "stdout",
     "output_type": "stream",
     "text": [
      "Mean Absolute Error -  0.3719025904724944\n",
      "Mean Squared Error -  0.9799941787134957\n",
      "Root Mean Squared Error -  0.9899465534631128\n",
      "R2 Score -  59.00221490761206\n",
      "F1 Score -  79.11961501887616\n",
      "Accuracy -  80.96827398855146\n"
     ]
    }
   ],
   "source": [
    "print(\"Mean Absolute Error - \" , mean_absolute_error(y_test_encoded, y_pred_encoded))\n",
    "print(\"Mean Squared Error - \" , mean_squared_error(y_test_encoded, y_pred_encoded))\n",
    "print(\"Root Mean Squared Error - \" , np.sqrt(mean_squared_error(y_test_encoded, y_pred_encoded)))\n",
    "print(\"R2 Score - \" , explained_variance_score(y_test_encoded, y_pred_encoded)*100)\n",
    "print(\"F1 Score - \", f1_score(y_test_encoded, y_pred_encoded, average='weighted')*100)\n",
    "print(\"Accuracy - \",accuracy_score(y_test_encoded, y_pred_encoded)*100)"
   ]
  },
  {
   "cell_type": "markdown",
   "metadata": {
    "id": "lw6FcY0bKNdR"
   },
   "source": [
    "### **Saving Trained Model to Disk**"
   ]
  },
  {
   "cell_type": "code",
   "execution_count": 93,
   "metadata": {
    "colab": {
     "base_uri": "https://localhost:8080/"
    },
    "id": "DEZFlsG1D3je",
    "outputId": "0ace839c-178a-43f5-c3b0-178747a30ae8"
   },
   "outputs": [
    {
     "name": "stdout",
     "output_type": "stream",
     "text": [
      "Saved model to disk\n"
     ]
    }
   ],
   "source": [
    "pkl_filename = \"../models/mlp_multi.h5\"\n",
    "if (not path.isfile(pkl_filename)):\n",
    "  # saving the trained model to disk \n",
    "  with open(pkl_filename, 'wb') as file:\n",
    "    pickle.dump(mlp_multi, file)\n",
    "  print(\"Saved model to disk\")\n",
    "else:\n",
    "  print(\"Model already saved\")"
   ]
  }
 ],
 "metadata": {
  "colab": {
   "collapsed_sections": [],
   "name": "Copy of iotml.ipynb",
   "provenance": []
  },
  "kernelspec": {
   "display_name": ".venv",
   "language": "python",
   "name": "python3"
  },
  "language_info": {
   "codemirror_mode": {
    "name": "ipython",
    "version": 3
   },
   "file_extension": ".py",
   "mimetype": "text/x-python",
   "name": "python",
   "nbconvert_exporter": "python",
   "pygments_lexer": "ipython3",
   "version": "3.12.8"
  }
 },
 "nbformat": 4,
 "nbformat_minor": 0
}
