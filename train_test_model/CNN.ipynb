{
 "cells": [
  {
   "cell_type": "markdown",
   "metadata": {},
   "source": [
    "## **1. Import library**"
   ]
  },
  {
   "cell_type": "code",
   "execution_count": null,
   "metadata": {},
   "outputs": [],
   "source": [
    "import numpy as np\n",
    "import pandas as pd\n",
    "import matplotlib.pyplot as plt\n",
    "import tensorflow as tf\n",
    "import seaborn as sns\n",
    "import time\n",
    "\n",
    "from sklearn.preprocessing import LabelEncoder\n",
    "from sklearn.model_selection import train_test_split\n",
    "from sklearn.metrics import (\n",
    "    accuracy_score, \n",
    "    confusion_matrix,  \n",
    "    classification_report,\n",
    "   # mean_absolute_error, \n",
    "   # mean_squared_error, \n",
    "    explained_variance_score,\n",
    "    f1_score,\n",
    "    precision_score,\n",
    "    recall_score\n",
    "\n",
    ")\n",
    "# from sklearn.utils.class_weight import compute_class_weight\n",
    "\n",
    "from keras.src.models import Sequential\n",
    "from keras.src.layers import (\n",
    "    Conv1D, MaxPooling1D, BatchNormalization, \n",
    "    Flatten, Dropout, Dense,\n",
    ")\n",
    "from keras.src.optimizers import SGD\n",
    "from keras.src.callbacks import LearningRateScheduler\n",
    "from keras.src.callbacks import EarlyStopping"
   ]
  },
  {
   "cell_type": "markdown",
   "metadata": {},
   "source": [
    "## **2. Load normalized data**"
   ]
  },
  {
   "cell_type": "code",
   "execution_count": 2,
   "metadata": {},
   "outputs": [],
   "source": [
    "normalized_data = pd.read_csv('../processed_data/normalized_data.csv')\n",
    "X = normalized_data.drop(\"attack_cat\", axis=1).values\n",
    "y = normalized_data[\"attack_cat\"].values"
   ]
  },
  {
   "cell_type": "code",
   "execution_count": 3,
   "metadata": {},
   "outputs": [
    {
     "data": {
      "text/plain": [
       "array([[2.02463370e-03, 4.69704086e-04, 3.63042294e-04, ...,\n",
       "        0.00000000e+00, 0.00000000e+00, 0.00000000e+00],\n",
       "       [1.08317020e-02, 1.22123062e-03, 3.44890180e-03, ...,\n",
       "        0.00000000e+00, 0.00000000e+00, 0.00000000e+00],\n",
       "       [2.70521550e-02, 6.57585721e-04, 1.45216918e-03, ...,\n",
       "        0.00000000e+00, 0.00000000e+00, 0.00000000e+00],\n",
       "       ...,\n",
       "       [0.00000000e+00, 0.00000000e+00, 0.00000000e+00, ...,\n",
       "        0.00000000e+00, 0.00000000e+00, 0.00000000e+00],\n",
       "       [0.00000000e+00, 0.00000000e+00, 0.00000000e+00, ...,\n",
       "        0.00000000e+00, 0.00000000e+00, 0.00000000e+00],\n",
       "       [1.50000028e-07, 9.39408173e-05, 0.00000000e+00, ...,\n",
       "        0.00000000e+00, 0.00000000e+00, 0.00000000e+00]])"
      ]
     },
     "execution_count": 3,
     "metadata": {},
     "output_type": "execute_result"
    }
   ],
   "source": [
    "X"
   ]
  },
  {
   "cell_type": "code",
   "execution_count": 4,
   "metadata": {},
   "outputs": [
    {
     "data": {
      "text/plain": [
       "array(['Normal', 'Normal', 'Normal', ..., 'Normal', 'Normal', 'Normal'],\n",
       "      dtype=object)"
      ]
     },
     "execution_count": 4,
     "metadata": {},
     "output_type": "execute_result"
    }
   ],
   "source": [
    "y"
   ]
  },
  {
   "cell_type": "code",
   "execution_count": 5,
   "metadata": {},
   "outputs": [],
   "source": [
    "# Split data\n",
    "X_train, X_test, y_train, y_test = train_test_split(X, y, test_size=0.2, random_state=42)"
   ]
  },
  {
   "cell_type": "code",
   "execution_count": 6,
   "metadata": {},
   "outputs": [],
   "source": [
    "# Reshape data to match CNN input requirements\n",
    "input_shape = (X.shape[1], 1)\n",
    "num_classes =  len(np.unique(y))\n",
    "X_train = X_train.reshape(-1, X.shape[1], 1)\n",
    "X_test = X_test.reshape(-1, X.shape[1], 1)"
   ]
  },
  {
   "cell_type": "code",
   "execution_count": 7,
   "metadata": {},
   "outputs": [],
   "source": [
    "# Encoder y\n",
    "label_encoder = LabelEncoder()\n",
    "y_train = label_encoder.fit_transform(y_train)\n",
    "y_test = label_encoder.fit_transform(y_test)"
   ]
  },
  {
   "cell_type": "markdown",
   "metadata": {},
   "source": [
    "## **3. Building CNN Model**"
   ]
  },
  {
   "cell_type": "code",
   "execution_count": 8,
   "metadata": {},
   "outputs": [],
   "source": [
    "# Hàm giảm learning rate theo epoch\n",
    "def lr_schedule(epoch):\n",
    "    return 0.01 if epoch < 30 else 0.001"
   ]
  },
  {
   "cell_type": "code",
   "execution_count": 9,
   "metadata": {},
   "outputs": [
    {
     "name": "stderr",
     "output_type": "stream",
     "text": [
      "d:\\ML\\env311\\Lib\\site-packages\\keras\\src\\layers\\convolutional\\base_conv.py:107: UserWarning: Do not pass an `input_shape`/`input_dim` argument to a layer. When using Sequential models, prefer using an `Input(shape)` object as the first layer in the model instead.\n",
      "  super().__init__(activity_regularizer=activity_regularizer, **kwargs)\n"
     ]
    }
   ],
   "source": [
    "# CNN Model\n",
    "model = Sequential()\n",
    "\n",
    "model.add(Conv1D(64, kernel_size=3, padding='same', activation='relu', input_shape=input_shape))\n",
    "model.add(MaxPooling1D(pool_size=2))\n",
    "model.add(BatchNormalization())\n",
    "\n",
    "model.add(Conv1D(128, kernel_size=3, padding=\"same\", activation=\"relu\"))\n",
    "model.add(MaxPooling1D(pool_size=2))\n",
    "model.add(BatchNormalization())\n",
    "\n",
    "model.add(Flatten())\n",
    "model.add(Dense(256, activation='relu'))\n",
    "model.add(Dropout(0.4))  # Dropout 0.4\n",
    "model.add(Dense(num_classes, activation='softmax'))"
   ]
  },
  {
   "cell_type": "code",
   "execution_count": 10,
   "metadata": {},
   "outputs": [
    {
     "data": {
      "text/html": [
       "<pre style=\"white-space:pre;overflow-x:auto;line-height:normal;font-family:Menlo,'DejaVu Sans Mono',consolas,'Courier New',monospace\"><span style=\"font-weight: bold\">Model: \"sequential\"</span>\n",
       "</pre>\n"
      ],
      "text/plain": [
       "\u001b[1mModel: \"sequential\"\u001b[0m\n"
      ]
     },
     "metadata": {},
     "output_type": "display_data"
    },
    {
     "data": {
      "text/html": [
       "<pre style=\"white-space:pre;overflow-x:auto;line-height:normal;font-family:Menlo,'DejaVu Sans Mono',consolas,'Courier New',monospace\">┏━━━━━━━━━━━━━━━━━━━━━━━━━━━━━━━━━┳━━━━━━━━━━━━━━━━━━━━━━━━┳━━━━━━━━━━━━━━━┓\n",
       "┃<span style=\"font-weight: bold\"> Layer (type)                    </span>┃<span style=\"font-weight: bold\"> Output Shape           </span>┃<span style=\"font-weight: bold\">       Param # </span>┃\n",
       "┡━━━━━━━━━━━━━━━━━━━━━━━━━━━━━━━━━╇━━━━━━━━━━━━━━━━━━━━━━━━╇━━━━━━━━━━━━━━━┩\n",
       "│ conv1d (<span style=\"color: #0087ff; text-decoration-color: #0087ff\">Conv1D</span>)                 │ (<span style=\"color: #00d7ff; text-decoration-color: #00d7ff\">None</span>, <span style=\"color: #00af00; text-decoration-color: #00af00\">196</span>, <span style=\"color: #00af00; text-decoration-color: #00af00\">64</span>)        │           <span style=\"color: #00af00; text-decoration-color: #00af00\">256</span> │\n",
       "├─────────────────────────────────┼────────────────────────┼───────────────┤\n",
       "│ max_pooling1d (<span style=\"color: #0087ff; text-decoration-color: #0087ff\">MaxPooling1D</span>)    │ (<span style=\"color: #00d7ff; text-decoration-color: #00d7ff\">None</span>, <span style=\"color: #00af00; text-decoration-color: #00af00\">98</span>, <span style=\"color: #00af00; text-decoration-color: #00af00\">64</span>)         │             <span style=\"color: #00af00; text-decoration-color: #00af00\">0</span> │\n",
       "├─────────────────────────────────┼────────────────────────┼───────────────┤\n",
       "│ batch_normalization             │ (<span style=\"color: #00d7ff; text-decoration-color: #00d7ff\">None</span>, <span style=\"color: #00af00; text-decoration-color: #00af00\">98</span>, <span style=\"color: #00af00; text-decoration-color: #00af00\">64</span>)         │           <span style=\"color: #00af00; text-decoration-color: #00af00\">256</span> │\n",
       "│ (<span style=\"color: #0087ff; text-decoration-color: #0087ff\">BatchNormalization</span>)            │                        │               │\n",
       "├─────────────────────────────────┼────────────────────────┼───────────────┤\n",
       "│ conv1d_1 (<span style=\"color: #0087ff; text-decoration-color: #0087ff\">Conv1D</span>)               │ (<span style=\"color: #00d7ff; text-decoration-color: #00d7ff\">None</span>, <span style=\"color: #00af00; text-decoration-color: #00af00\">98</span>, <span style=\"color: #00af00; text-decoration-color: #00af00\">128</span>)        │        <span style=\"color: #00af00; text-decoration-color: #00af00\">24,704</span> │\n",
       "├─────────────────────────────────┼────────────────────────┼───────────────┤\n",
       "│ max_pooling1d_1 (<span style=\"color: #0087ff; text-decoration-color: #0087ff\">MaxPooling1D</span>)  │ (<span style=\"color: #00d7ff; text-decoration-color: #00d7ff\">None</span>, <span style=\"color: #00af00; text-decoration-color: #00af00\">49</span>, <span style=\"color: #00af00; text-decoration-color: #00af00\">128</span>)        │             <span style=\"color: #00af00; text-decoration-color: #00af00\">0</span> │\n",
       "├─────────────────────────────────┼────────────────────────┼───────────────┤\n",
       "│ batch_normalization_1           │ (<span style=\"color: #00d7ff; text-decoration-color: #00d7ff\">None</span>, <span style=\"color: #00af00; text-decoration-color: #00af00\">49</span>, <span style=\"color: #00af00; text-decoration-color: #00af00\">128</span>)        │           <span style=\"color: #00af00; text-decoration-color: #00af00\">512</span> │\n",
       "│ (<span style=\"color: #0087ff; text-decoration-color: #0087ff\">BatchNormalization</span>)            │                        │               │\n",
       "├─────────────────────────────────┼────────────────────────┼───────────────┤\n",
       "│ flatten (<span style=\"color: #0087ff; text-decoration-color: #0087ff\">Flatten</span>)               │ (<span style=\"color: #00d7ff; text-decoration-color: #00d7ff\">None</span>, <span style=\"color: #00af00; text-decoration-color: #00af00\">6272</span>)           │             <span style=\"color: #00af00; text-decoration-color: #00af00\">0</span> │\n",
       "├─────────────────────────────────┼────────────────────────┼───────────────┤\n",
       "│ dense (<span style=\"color: #0087ff; text-decoration-color: #0087ff\">Dense</span>)                   │ (<span style=\"color: #00d7ff; text-decoration-color: #00d7ff\">None</span>, <span style=\"color: #00af00; text-decoration-color: #00af00\">256</span>)            │     <span style=\"color: #00af00; text-decoration-color: #00af00\">1,605,888</span> │\n",
       "├─────────────────────────────────┼────────────────────────┼───────────────┤\n",
       "│ dropout (<span style=\"color: #0087ff; text-decoration-color: #0087ff\">Dropout</span>)               │ (<span style=\"color: #00d7ff; text-decoration-color: #00d7ff\">None</span>, <span style=\"color: #00af00; text-decoration-color: #00af00\">256</span>)            │             <span style=\"color: #00af00; text-decoration-color: #00af00\">0</span> │\n",
       "├─────────────────────────────────┼────────────────────────┼───────────────┤\n",
       "│ dense_1 (<span style=\"color: #0087ff; text-decoration-color: #0087ff\">Dense</span>)                 │ (<span style=\"color: #00d7ff; text-decoration-color: #00d7ff\">None</span>, <span style=\"color: #00af00; text-decoration-color: #00af00\">10</span>)             │         <span style=\"color: #00af00; text-decoration-color: #00af00\">2,570</span> │\n",
       "└─────────────────────────────────┴────────────────────────┴───────────────┘\n",
       "</pre>\n"
      ],
      "text/plain": [
       "┏━━━━━━━━━━━━━━━━━━━━━━━━━━━━━━━━━┳━━━━━━━━━━━━━━━━━━━━━━━━┳━━━━━━━━━━━━━━━┓\n",
       "┃\u001b[1m \u001b[0m\u001b[1mLayer (type)                   \u001b[0m\u001b[1m \u001b[0m┃\u001b[1m \u001b[0m\u001b[1mOutput Shape          \u001b[0m\u001b[1m \u001b[0m┃\u001b[1m \u001b[0m\u001b[1m      Param #\u001b[0m\u001b[1m \u001b[0m┃\n",
       "┡━━━━━━━━━━━━━━━━━━━━━━━━━━━━━━━━━╇━━━━━━━━━━━━━━━━━━━━━━━━╇━━━━━━━━━━━━━━━┩\n",
       "│ conv1d (\u001b[38;5;33mConv1D\u001b[0m)                 │ (\u001b[38;5;45mNone\u001b[0m, \u001b[38;5;34m196\u001b[0m, \u001b[38;5;34m64\u001b[0m)        │           \u001b[38;5;34m256\u001b[0m │\n",
       "├─────────────────────────────────┼────────────────────────┼───────────────┤\n",
       "│ max_pooling1d (\u001b[38;5;33mMaxPooling1D\u001b[0m)    │ (\u001b[38;5;45mNone\u001b[0m, \u001b[38;5;34m98\u001b[0m, \u001b[38;5;34m64\u001b[0m)         │             \u001b[38;5;34m0\u001b[0m │\n",
       "├─────────────────────────────────┼────────────────────────┼───────────────┤\n",
       "│ batch_normalization             │ (\u001b[38;5;45mNone\u001b[0m, \u001b[38;5;34m98\u001b[0m, \u001b[38;5;34m64\u001b[0m)         │           \u001b[38;5;34m256\u001b[0m │\n",
       "│ (\u001b[38;5;33mBatchNormalization\u001b[0m)            │                        │               │\n",
       "├─────────────────────────────────┼────────────────────────┼───────────────┤\n",
       "│ conv1d_1 (\u001b[38;5;33mConv1D\u001b[0m)               │ (\u001b[38;5;45mNone\u001b[0m, \u001b[38;5;34m98\u001b[0m, \u001b[38;5;34m128\u001b[0m)        │        \u001b[38;5;34m24,704\u001b[0m │\n",
       "├─────────────────────────────────┼────────────────────────┼───────────────┤\n",
       "│ max_pooling1d_1 (\u001b[38;5;33mMaxPooling1D\u001b[0m)  │ (\u001b[38;5;45mNone\u001b[0m, \u001b[38;5;34m49\u001b[0m, \u001b[38;5;34m128\u001b[0m)        │             \u001b[38;5;34m0\u001b[0m │\n",
       "├─────────────────────────────────┼────────────────────────┼───────────────┤\n",
       "│ batch_normalization_1           │ (\u001b[38;5;45mNone\u001b[0m, \u001b[38;5;34m49\u001b[0m, \u001b[38;5;34m128\u001b[0m)        │           \u001b[38;5;34m512\u001b[0m │\n",
       "│ (\u001b[38;5;33mBatchNormalization\u001b[0m)            │                        │               │\n",
       "├─────────────────────────────────┼────────────────────────┼───────────────┤\n",
       "│ flatten (\u001b[38;5;33mFlatten\u001b[0m)               │ (\u001b[38;5;45mNone\u001b[0m, \u001b[38;5;34m6272\u001b[0m)           │             \u001b[38;5;34m0\u001b[0m │\n",
       "├─────────────────────────────────┼────────────────────────┼───────────────┤\n",
       "│ dense (\u001b[38;5;33mDense\u001b[0m)                   │ (\u001b[38;5;45mNone\u001b[0m, \u001b[38;5;34m256\u001b[0m)            │     \u001b[38;5;34m1,605,888\u001b[0m │\n",
       "├─────────────────────────────────┼────────────────────────┼───────────────┤\n",
       "│ dropout (\u001b[38;5;33mDropout\u001b[0m)               │ (\u001b[38;5;45mNone\u001b[0m, \u001b[38;5;34m256\u001b[0m)            │             \u001b[38;5;34m0\u001b[0m │\n",
       "├─────────────────────────────────┼────────────────────────┼───────────────┤\n",
       "│ dense_1 (\u001b[38;5;33mDense\u001b[0m)                 │ (\u001b[38;5;45mNone\u001b[0m, \u001b[38;5;34m10\u001b[0m)             │         \u001b[38;5;34m2,570\u001b[0m │\n",
       "└─────────────────────────────────┴────────────────────────┴───────────────┘\n"
      ]
     },
     "metadata": {},
     "output_type": "display_data"
    },
    {
     "data": {
      "text/html": [
       "<pre style=\"white-space:pre;overflow-x:auto;line-height:normal;font-family:Menlo,'DejaVu Sans Mono',consolas,'Courier New',monospace\"><span style=\"font-weight: bold\"> Total params: </span><span style=\"color: #00af00; text-decoration-color: #00af00\">1,634,186</span> (6.23 MB)\n",
       "</pre>\n"
      ],
      "text/plain": [
       "\u001b[1m Total params: \u001b[0m\u001b[38;5;34m1,634,186\u001b[0m (6.23 MB)\n"
      ]
     },
     "metadata": {},
     "output_type": "display_data"
    },
    {
     "data": {
      "text/html": [
       "<pre style=\"white-space:pre;overflow-x:auto;line-height:normal;font-family:Menlo,'DejaVu Sans Mono',consolas,'Courier New',monospace\"><span style=\"font-weight: bold\"> Trainable params: </span><span style=\"color: #00af00; text-decoration-color: #00af00\">1,633,802</span> (6.23 MB)\n",
       "</pre>\n"
      ],
      "text/plain": [
       "\u001b[1m Trainable params: \u001b[0m\u001b[38;5;34m1,633,802\u001b[0m (6.23 MB)\n"
      ]
     },
     "metadata": {},
     "output_type": "display_data"
    },
    {
     "data": {
      "text/html": [
       "<pre style=\"white-space:pre;overflow-x:auto;line-height:normal;font-family:Menlo,'DejaVu Sans Mono',consolas,'Courier New',monospace\"><span style=\"font-weight: bold\"> Non-trainable params: </span><span style=\"color: #00af00; text-decoration-color: #00af00\">384</span> (1.50 KB)\n",
       "</pre>\n"
      ],
      "text/plain": [
       "\u001b[1m Non-trainable params: \u001b[0m\u001b[38;5;34m384\u001b[0m (1.50 KB)\n"
      ]
     },
     "metadata": {},
     "output_type": "display_data"
    }
   ],
   "source": [
    "# Compile model\n",
    "optimizer = SGD(learning_rate=0.01)  # Learning rate ban đầu 0.01\n",
    "model.compile(\n",
    "    optimizer=optimizer,\n",
    "    loss='sparse_categorical_crossentropy',\n",
    "    metrics=['accuracy'],\n",
    ")\n",
    "model.summary()"
   ]
  },
  {
   "cell_type": "markdown",
   "metadata": {},
   "source": [
    "## **4. Training model**"
   ]
  },
  {
   "cell_type": "code",
   "execution_count": 11,
   "metadata": {},
   "outputs": [
    {
     "name": "stdout",
     "output_type": "stream",
     "text": [
      "Epoch 1/100\n",
      "\u001b[1m2577/2577\u001b[0m \u001b[32m━━━━━━━━━━━━━━━━━━━━\u001b[0m\u001b[37m\u001b[0m \u001b[1m53s\u001b[0m 20ms/step - accuracy: 0.7207 - loss: 0.7441 - val_accuracy: 0.7671 - val_loss: 0.5730 - learning_rate: 0.0100\n",
      "Epoch 2/100\n",
      "\u001b[1m2577/2577\u001b[0m \u001b[32m━━━━━━━━━━━━━━━━━━━━\u001b[0m\u001b[37m\u001b[0m \u001b[1m49s\u001b[0m 19ms/step - accuracy: 0.7625 - loss: 0.5936 - val_accuracy: 0.7746 - val_loss: 0.5549 - learning_rate: 0.0100\n",
      "Epoch 3/100\n",
      "\u001b[1m2577/2577\u001b[0m \u001b[32m━━━━━━━━━━━━━━━━━━━━\u001b[0m\u001b[37m\u001b[0m \u001b[1m50s\u001b[0m 19ms/step - accuracy: 0.7737 - loss: 0.5666 - val_accuracy: 0.7775 - val_loss: 0.5506 - learning_rate: 0.0100\n",
      "Epoch 4/100\n",
      "\u001b[1m2577/2577\u001b[0m \u001b[32m━━━━━━━━━━━━━━━━━━━━\u001b[0m\u001b[37m\u001b[0m \u001b[1m49s\u001b[0m 19ms/step - accuracy: 0.7811 - loss: 0.5512 - val_accuracy: 0.7836 - val_loss: 0.5465 - learning_rate: 0.0100\n",
      "Epoch 5/100\n",
      "\u001b[1m2577/2577\u001b[0m \u001b[32m━━━━━━━━━━━━━━━━━━━━\u001b[0m\u001b[37m\u001b[0m \u001b[1m50s\u001b[0m 19ms/step - accuracy: 0.7856 - loss: 0.5409 - val_accuracy: 0.7847 - val_loss: 0.5381 - learning_rate: 0.0100\n",
      "Epoch 6/100\n",
      "\u001b[1m2577/2577\u001b[0m \u001b[32m━━━━━━━━━━━━━━━━━━━━\u001b[0m\u001b[37m\u001b[0m \u001b[1m52s\u001b[0m 20ms/step - accuracy: 0.7896 - loss: 0.5346 - val_accuracy: 0.7906 - val_loss: 0.5309 - learning_rate: 0.0100\n",
      "Epoch 7/100\n",
      "\u001b[1m2577/2577\u001b[0m \u001b[32m━━━━━━━━━━━━━━━━━━━━\u001b[0m\u001b[37m\u001b[0m \u001b[1m49s\u001b[0m 19ms/step - accuracy: 0.7896 - loss: 0.5261 - val_accuracy: 0.7931 - val_loss: 0.5159 - learning_rate: 0.0100\n",
      "Epoch 8/100\n",
      "\u001b[1m2577/2577\u001b[0m \u001b[32m━━━━━━━━━━━━━━━━━━━━\u001b[0m\u001b[37m\u001b[0m \u001b[1m49s\u001b[0m 19ms/step - accuracy: 0.7931 - loss: 0.5189 - val_accuracy: 0.8011 - val_loss: 0.5065 - learning_rate: 0.0100\n",
      "Epoch 9/100\n",
      "\u001b[1m2577/2577\u001b[0m \u001b[32m━━━━━━━━━━━━━━━━━━━━\u001b[0m\u001b[37m\u001b[0m \u001b[1m50s\u001b[0m 19ms/step - accuracy: 0.7940 - loss: 0.5142 - val_accuracy: 0.7893 - val_loss: 0.5293 - learning_rate: 0.0100\n",
      "Epoch 10/100\n",
      "\u001b[1m2577/2577\u001b[0m \u001b[32m━━━━━━━━━━━━━━━━━━━━\u001b[0m\u001b[37m\u001b[0m \u001b[1m50s\u001b[0m 19ms/step - accuracy: 0.7970 - loss: 0.5088 - val_accuracy: 0.7934 - val_loss: 0.5125 - learning_rate: 0.0100\n",
      "Epoch 11/100\n",
      "\u001b[1m2577/2577\u001b[0m \u001b[32m━━━━━━━━━━━━━━━━━━━━\u001b[0m\u001b[37m\u001b[0m \u001b[1m50s\u001b[0m 19ms/step - accuracy: 0.7974 - loss: 0.5061 - val_accuracy: 0.7968 - val_loss: 0.4987 - learning_rate: 0.0100\n",
      "Epoch 12/100\n",
      "\u001b[1m2577/2577\u001b[0m \u001b[32m━━━━━━━━━━━━━━━━━━━━\u001b[0m\u001b[37m\u001b[0m \u001b[1m50s\u001b[0m 19ms/step - accuracy: 0.7983 - loss: 0.5010 - val_accuracy: 0.7932 - val_loss: 0.5137 - learning_rate: 0.0100\n",
      "Epoch 13/100\n",
      "\u001b[1m2577/2577\u001b[0m \u001b[32m━━━━━━━━━━━━━━━━━━━━\u001b[0m\u001b[37m\u001b[0m \u001b[1m50s\u001b[0m 19ms/step - accuracy: 0.7968 - loss: 0.5036 - val_accuracy: 0.7894 - val_loss: 0.5211 - learning_rate: 0.0100\n",
      "Epoch 14/100\n",
      "\u001b[1m2577/2577\u001b[0m \u001b[32m━━━━━━━━━━━━━━━━━━━━\u001b[0m\u001b[37m\u001b[0m \u001b[1m50s\u001b[0m 20ms/step - accuracy: 0.8004 - loss: 0.4996 - val_accuracy: 0.7971 - val_loss: 0.5098 - learning_rate: 0.0100\n",
      "Epoch 15/100\n",
      "\u001b[1m2577/2577\u001b[0m \u001b[32m━━━━━━━━━━━━━━━━━━━━\u001b[0m\u001b[37m\u001b[0m \u001b[1m51s\u001b[0m 20ms/step - accuracy: 0.7996 - loss: 0.4992 - val_accuracy: 0.7888 - val_loss: 0.5318 - learning_rate: 0.0100\n",
      "Epoch 16/100\n",
      "\u001b[1m2577/2577\u001b[0m \u001b[32m━━━━━━━━━━━━━━━━━━━━\u001b[0m\u001b[37m\u001b[0m \u001b[1m50s\u001b[0m 19ms/step - accuracy: 0.8008 - loss: 0.4973 - val_accuracy: 0.7903 - val_loss: 0.5235 - learning_rate: 0.0100\n",
      "Epoch 17/100\n",
      "\u001b[1m2577/2577\u001b[0m \u001b[32m━━━━━━━━━━━━━━━━━━━━\u001b[0m\u001b[37m\u001b[0m \u001b[1m51s\u001b[0m 20ms/step - accuracy: 0.8005 - loss: 0.4943 - val_accuracy: 0.7760 - val_loss: 0.5930 - learning_rate: 0.0100\n",
      "Epoch 18/100\n",
      "\u001b[1m2577/2577\u001b[0m \u001b[32m━━━━━━━━━━━━━━━━━━━━\u001b[0m\u001b[37m\u001b[0m \u001b[1m50s\u001b[0m 19ms/step - accuracy: 0.8022 - loss: 0.4933 - val_accuracy: 0.8067 - val_loss: 0.4813 - learning_rate: 0.0100\n",
      "Epoch 19/100\n",
      "\u001b[1m2577/2577\u001b[0m \u001b[32m━━━━━━━━━━━━━━━━━━━━\u001b[0m\u001b[37m\u001b[0m \u001b[1m51s\u001b[0m 20ms/step - accuracy: 0.8035 - loss: 0.4885 - val_accuracy: 0.8063 - val_loss: 0.4767 - learning_rate: 0.0100\n",
      "Epoch 20/100\n",
      "\u001b[1m2577/2577\u001b[0m \u001b[32m━━━━━━━━━━━━━━━━━━━━\u001b[0m\u001b[37m\u001b[0m \u001b[1m50s\u001b[0m 19ms/step - accuracy: 0.8043 - loss: 0.4859 - val_accuracy: 0.7892 - val_loss: 0.5231 - learning_rate: 0.0100\n",
      "Epoch 21/100\n",
      "\u001b[1m2577/2577\u001b[0m \u001b[32m━━━━━━━━━━━━━━━━━━━━\u001b[0m\u001b[37m\u001b[0m \u001b[1m51s\u001b[0m 20ms/step - accuracy: 0.8033 - loss: 0.4868 - val_accuracy: 0.7944 - val_loss: 0.4983 - learning_rate: 0.0100\n",
      "Epoch 22/100\n",
      "\u001b[1m2577/2577\u001b[0m \u001b[32m━━━━━━━━━━━━━━━━━━━━\u001b[0m\u001b[37m\u001b[0m \u001b[1m50s\u001b[0m 19ms/step - accuracy: 0.8040 - loss: 0.4828 - val_accuracy: 0.7942 - val_loss: 0.5030 - learning_rate: 0.0100\n",
      "Epoch 23/100\n",
      "\u001b[1m2577/2577\u001b[0m \u001b[32m━━━━━━━━━━━━━━━━━━━━\u001b[0m\u001b[37m\u001b[0m \u001b[1m51s\u001b[0m 20ms/step - accuracy: 0.8070 - loss: 0.4776 - val_accuracy: 0.8037 - val_loss: 0.4830 - learning_rate: 0.0100\n",
      "Epoch 24/100\n",
      "\u001b[1m2577/2577\u001b[0m \u001b[32m━━━━━━━━━━━━━━━━━━━━\u001b[0m\u001b[37m\u001b[0m \u001b[1m51s\u001b[0m 20ms/step - accuracy: 0.8051 - loss: 0.4795 - val_accuracy: 0.8017 - val_loss: 0.5007 - learning_rate: 0.0100\n",
      "Epoch 25/100\n",
      "\u001b[1m2577/2577\u001b[0m \u001b[32m━━━━━━━━━━━━━━━━━━━━\u001b[0m\u001b[37m\u001b[0m \u001b[1m51s\u001b[0m 20ms/step - accuracy: 0.8066 - loss: 0.4752 - val_accuracy: 0.7866 - val_loss: 0.5149 - learning_rate: 0.0100\n",
      "Epoch 26/100\n",
      "\u001b[1m2577/2577\u001b[0m \u001b[32m━━━━━━━━━━━━━━━━━━━━\u001b[0m\u001b[37m\u001b[0m \u001b[1m51s\u001b[0m 20ms/step - accuracy: 0.8056 - loss: 0.4750 - val_accuracy: 0.8022 - val_loss: 0.4764 - learning_rate: 0.0100\n",
      "Epoch 27/100\n",
      "\u001b[1m2577/2577\u001b[0m \u001b[32m━━━━━━━━━━━━━━━━━━━━\u001b[0m\u001b[37m\u001b[0m \u001b[1m51s\u001b[0m 20ms/step - accuracy: 0.8084 - loss: 0.4729 - val_accuracy: 0.8086 - val_loss: 0.4738 - learning_rate: 0.0100\n",
      "Epoch 28/100\n",
      "\u001b[1m2577/2577\u001b[0m \u001b[32m━━━━━━━━━━━━━━━━━━━━\u001b[0m\u001b[37m\u001b[0m \u001b[1m50s\u001b[0m 19ms/step - accuracy: 0.8075 - loss: 0.4732 - val_accuracy: 0.8097 - val_loss: 0.4635 - learning_rate: 0.0100\n",
      "Epoch 29/100\n",
      "\u001b[1m2577/2577\u001b[0m \u001b[32m━━━━━━━━━━━━━━━━━━━━\u001b[0m\u001b[37m\u001b[0m \u001b[1m51s\u001b[0m 20ms/step - accuracy: 0.8077 - loss: 0.4697 - val_accuracy: 0.8119 - val_loss: 0.4669 - learning_rate: 0.0100\n",
      "Epoch 30/100\n",
      "\u001b[1m2577/2577\u001b[0m \u001b[32m━━━━━━━━━━━━━━━━━━━━\u001b[0m\u001b[37m\u001b[0m \u001b[1m50s\u001b[0m 20ms/step - accuracy: 0.8100 - loss: 0.4677 - val_accuracy: 0.7702 - val_loss: 0.6105 - learning_rate: 0.0100\n",
      "Epoch 31/100\n",
      "\u001b[1m2577/2577\u001b[0m \u001b[32m━━━━━━━━━━━━━━━━━━━━\u001b[0m\u001b[37m\u001b[0m \u001b[1m50s\u001b[0m 20ms/step - accuracy: 0.8124 - loss: 0.4635 - val_accuracy: 0.8136 - val_loss: 0.4510 - learning_rate: 0.0010\n",
      "Epoch 32/100\n",
      "\u001b[1m2577/2577\u001b[0m \u001b[32m━━━━━━━━━━━━━━━━━━━━\u001b[0m\u001b[37m\u001b[0m \u001b[1m50s\u001b[0m 20ms/step - accuracy: 0.8145 - loss: 0.4545 - val_accuracy: 0.8148 - val_loss: 0.4501 - learning_rate: 0.0010\n",
      "Epoch 33/100\n",
      "\u001b[1m2577/2577\u001b[0m \u001b[32m━━━━━━━━━━━━━━━━━━━━\u001b[0m\u001b[37m\u001b[0m \u001b[1m51s\u001b[0m 20ms/step - accuracy: 0.8148 - loss: 0.4546 - val_accuracy: 0.8153 - val_loss: 0.4510 - learning_rate: 0.0010\n",
      "Epoch 34/100\n",
      "\u001b[1m2577/2577\u001b[0m \u001b[32m━━━━━━━━━━━━━━━━━━━━\u001b[0m\u001b[37m\u001b[0m \u001b[1m50s\u001b[0m 20ms/step - accuracy: 0.8151 - loss: 0.4543 - val_accuracy: 0.8160 - val_loss: 0.4503 - learning_rate: 0.0010\n",
      "Epoch 35/100\n",
      "\u001b[1m2577/2577\u001b[0m \u001b[32m━━━━━━━━━━━━━━━━━━━━\u001b[0m\u001b[37m\u001b[0m \u001b[1m51s\u001b[0m 20ms/step - accuracy: 0.8153 - loss: 0.4523 - val_accuracy: 0.8160 - val_loss: 0.4524 - learning_rate: 0.0010\n",
      "Epoch 36/100\n",
      "\u001b[1m2577/2577\u001b[0m \u001b[32m━━━━━━━━━━━━━━━━━━━━\u001b[0m\u001b[37m\u001b[0m \u001b[1m51s\u001b[0m 20ms/step - accuracy: 0.8165 - loss: 0.4531 - val_accuracy: 0.8156 - val_loss: 0.4496 - learning_rate: 0.0010\n",
      "Epoch 37/100\n",
      "\u001b[1m2577/2577\u001b[0m \u001b[32m━━━━━━━━━━━━━━━━━━━━\u001b[0m\u001b[37m\u001b[0m \u001b[1m51s\u001b[0m 20ms/step - accuracy: 0.8169 - loss: 0.4509 - val_accuracy: 0.8153 - val_loss: 0.4486 - learning_rate: 0.0010\n",
      "Epoch 38/100\n",
      "\u001b[1m2577/2577\u001b[0m \u001b[32m━━━━━━━━━━━━━━━━━━━━\u001b[0m\u001b[37m\u001b[0m \u001b[1m51s\u001b[0m 20ms/step - accuracy: 0.8148 - loss: 0.4546 - val_accuracy: 0.8157 - val_loss: 0.4485 - learning_rate: 0.0010\n",
      "Epoch 39/100\n",
      "\u001b[1m2577/2577\u001b[0m \u001b[32m━━━━━━━━━━━━━━━━━━━━\u001b[0m\u001b[37m\u001b[0m \u001b[1m51s\u001b[0m 20ms/step - accuracy: 0.8168 - loss: 0.4505 - val_accuracy: 0.8098 - val_loss: 0.4632 - learning_rate: 0.0010\n",
      "Epoch 40/100\n",
      "\u001b[1m2577/2577\u001b[0m \u001b[32m━━━━━━━━━━━━━━━━━━━━\u001b[0m\u001b[37m\u001b[0m \u001b[1m51s\u001b[0m 20ms/step - accuracy: 0.8169 - loss: 0.4537 - val_accuracy: 0.8156 - val_loss: 0.4476 - learning_rate: 0.0010\n",
      "Epoch 41/100\n",
      "\u001b[1m2577/2577\u001b[0m \u001b[32m━━━━━━━━━━━━━━━━━━━━\u001b[0m\u001b[37m\u001b[0m \u001b[1m51s\u001b[0m 20ms/step - accuracy: 0.8162 - loss: 0.4538 - val_accuracy: 0.8157 - val_loss: 0.4485 - learning_rate: 0.0010\n",
      "Epoch 42/100\n",
      "\u001b[1m2577/2577\u001b[0m \u001b[32m━━━━━━━━━━━━━━━━━━━━\u001b[0m\u001b[37m\u001b[0m \u001b[1m51s\u001b[0m 20ms/step - accuracy: 0.8150 - loss: 0.4521 - val_accuracy: 0.8168 - val_loss: 0.4490 - learning_rate: 0.0010\n",
      "Epoch 43/100\n",
      "\u001b[1m2577/2577\u001b[0m \u001b[32m━━━━━━━━━━━━━━━━━━━━\u001b[0m\u001b[37m\u001b[0m \u001b[1m51s\u001b[0m 20ms/step - accuracy: 0.8165 - loss: 0.4508 - val_accuracy: 0.8162 - val_loss: 0.4482 - learning_rate: 0.0010\n",
      "Epoch 44/100\n",
      "\u001b[1m2577/2577\u001b[0m \u001b[32m━━━━━━━━━━━━━━━━━━━━\u001b[0m\u001b[37m\u001b[0m \u001b[1m51s\u001b[0m 20ms/step - accuracy: 0.8185 - loss: 0.4466 - val_accuracy: 0.8159 - val_loss: 0.4466 - learning_rate: 0.0010\n",
      "Epoch 45/100\n",
      "\u001b[1m2577/2577\u001b[0m \u001b[32m━━━━━━━━━━━━━━━━━━━━\u001b[0m\u001b[37m\u001b[0m \u001b[1m51s\u001b[0m 20ms/step - accuracy: 0.8179 - loss: 0.4485 - val_accuracy: 0.8165 - val_loss: 0.4473 - learning_rate: 0.0010\n",
      "Epoch 46/100\n",
      "\u001b[1m2577/2577\u001b[0m \u001b[32m━━━━━━━━━━━━━━━━━━━━\u001b[0m\u001b[37m\u001b[0m \u001b[1m51s\u001b[0m 20ms/step - accuracy: 0.8172 - loss: 0.4511 - val_accuracy: 0.8156 - val_loss: 0.4525 - learning_rate: 0.0010\n",
      "Epoch 47/100\n",
      "\u001b[1m2577/2577\u001b[0m \u001b[32m━━━━━━━━━━━━━━━━━━━━\u001b[0m\u001b[37m\u001b[0m \u001b[1m51s\u001b[0m 20ms/step - accuracy: 0.8152 - loss: 0.4542 - val_accuracy: 0.8161 - val_loss: 0.4515 - learning_rate: 0.0010\n",
      "Epoch 48/100\n",
      "\u001b[1m2577/2577\u001b[0m \u001b[32m━━━━━━━━━━━━━━━━━━━━\u001b[0m\u001b[37m\u001b[0m \u001b[1m51s\u001b[0m 20ms/step - accuracy: 0.8179 - loss: 0.4509 - val_accuracy: 0.8145 - val_loss: 0.4512 - learning_rate: 0.0010\n",
      "Epoch 49/100\n",
      "\u001b[1m2577/2577\u001b[0m \u001b[32m━━━━━━━━━━━━━━━━━━━━\u001b[0m\u001b[37m\u001b[0m \u001b[1m51s\u001b[0m 20ms/step - accuracy: 0.8182 - loss: 0.4473 - val_accuracy: 0.8167 - val_loss: 0.4470 - learning_rate: 0.0010\n",
      "Epoch 50/100\n",
      "\u001b[1m2577/2577\u001b[0m \u001b[32m━━━━━━━━━━━━━━━━━━━━\u001b[0m\u001b[37m\u001b[0m \u001b[1m51s\u001b[0m 20ms/step - accuracy: 0.8164 - loss: 0.4535 - val_accuracy: 0.8164 - val_loss: 0.4480 - learning_rate: 0.0010\n",
      "Epoch 51/100\n",
      "\u001b[1m2577/2577\u001b[0m \u001b[32m━━━━━━━━━━━━━━━━━━━━\u001b[0m\u001b[37m\u001b[0m \u001b[1m51s\u001b[0m 20ms/step - accuracy: 0.8148 - loss: 0.4547 - val_accuracy: 0.8171 - val_loss: 0.4467 - learning_rate: 0.0010\n",
      "Epoch 52/100\n",
      "\u001b[1m2577/2577\u001b[0m \u001b[32m━━━━━━━━━━━━━━━━━━━━\u001b[0m\u001b[37m\u001b[0m \u001b[1m52s\u001b[0m 20ms/step - accuracy: 0.8159 - loss: 0.4501 - val_accuracy: 0.8168 - val_loss: 0.4479 - learning_rate: 0.0010\n",
      "Epoch 53/100\n",
      "\u001b[1m2577/2577\u001b[0m \u001b[32m━━━━━━━━━━━━━━━━━━━━\u001b[0m\u001b[37m\u001b[0m \u001b[1m51s\u001b[0m 20ms/step - accuracy: 0.8175 - loss: 0.4505 - val_accuracy: 0.8127 - val_loss: 0.4573 - learning_rate: 0.0010\n",
      "Epoch 54/100\n",
      "\u001b[1m2577/2577\u001b[0m \u001b[32m━━━━━━━━━━━━━━━━━━━━\u001b[0m\u001b[37m\u001b[0m \u001b[1m51s\u001b[0m 20ms/step - accuracy: 0.8153 - loss: 0.4520 - val_accuracy: 0.8160 - val_loss: 0.4464 - learning_rate: 0.0010\n",
      "Epoch 55/100\n",
      "\u001b[1m2577/2577\u001b[0m \u001b[32m━━━━━━━━━━━━━━━━━━━━\u001b[0m\u001b[37m\u001b[0m \u001b[1m51s\u001b[0m 20ms/step - accuracy: 0.8176 - loss: 0.4490 - val_accuracy: 0.8167 - val_loss: 0.4464 - learning_rate: 0.0010\n",
      "Epoch 56/100\n",
      "\u001b[1m2577/2577\u001b[0m \u001b[32m━━━━━━━━━━━━━━━━━━━━\u001b[0m\u001b[37m\u001b[0m \u001b[1m51s\u001b[0m 20ms/step - accuracy: 0.8168 - loss: 0.4481 - val_accuracy: 0.8146 - val_loss: 0.4541 - learning_rate: 0.0010\n",
      "Epoch 57/100\n",
      "\u001b[1m2577/2577\u001b[0m \u001b[32m━━━━━━━━━━━━━━━━━━━━\u001b[0m\u001b[37m\u001b[0m \u001b[1m51s\u001b[0m 20ms/step - accuracy: 0.8172 - loss: 0.4510 - val_accuracy: 0.8165 - val_loss: 0.4448 - learning_rate: 0.0010\n",
      "Epoch 58/100\n",
      "\u001b[1m2577/2577\u001b[0m \u001b[32m━━━━━━━━━━━━━━━━━━━━\u001b[0m\u001b[37m\u001b[0m \u001b[1m51s\u001b[0m 20ms/step - accuracy: 0.8172 - loss: 0.4489 - val_accuracy: 0.8132 - val_loss: 0.4591 - learning_rate: 0.0010\n",
      "Epoch 59/100\n",
      "\u001b[1m2577/2577\u001b[0m \u001b[32m━━━━━━━━━━━━━━━━━━━━\u001b[0m\u001b[37m\u001b[0m \u001b[1m51s\u001b[0m 20ms/step - accuracy: 0.8172 - loss: 0.4479 - val_accuracy: 0.8178 - val_loss: 0.4492 - learning_rate: 0.0010\n",
      "Epoch 60/100\n",
      "\u001b[1m2577/2577\u001b[0m \u001b[32m━━━━━━━━━━━━━━━━━━━━\u001b[0m\u001b[37m\u001b[0m \u001b[1m52s\u001b[0m 20ms/step - accuracy: 0.8181 - loss: 0.4482 - val_accuracy: 0.8152 - val_loss: 0.4524 - learning_rate: 0.0010\n",
      "Epoch 61/100\n",
      "\u001b[1m2577/2577\u001b[0m \u001b[32m━━━━━━━━━━━━━━━━━━━━\u001b[0m\u001b[37m\u001b[0m \u001b[1m51s\u001b[0m 20ms/step - accuracy: 0.8187 - loss: 0.4466 - val_accuracy: 0.8176 - val_loss: 0.4459 - learning_rate: 0.0010\n",
      "Epoch 62/100\n",
      "\u001b[1m2577/2577\u001b[0m \u001b[32m━━━━━━━━━━━━━━━━━━━━\u001b[0m\u001b[37m\u001b[0m \u001b[1m51s\u001b[0m 20ms/step - accuracy: 0.8179 - loss: 0.4472 - val_accuracy: 0.8170 - val_loss: 0.4459 - learning_rate: 0.0010\n",
      "Epoch 63/100\n",
      "\u001b[1m2577/2577\u001b[0m \u001b[32m━━━━━━━━━━━━━━━━━━━━\u001b[0m\u001b[37m\u001b[0m \u001b[1m51s\u001b[0m 20ms/step - accuracy: 0.8173 - loss: 0.4506 - val_accuracy: 0.8123 - val_loss: 0.4581 - learning_rate: 0.0010\n",
      "Epoch 64/100\n",
      "\u001b[1m2577/2577\u001b[0m \u001b[32m━━━━━━━━━━━━━━━━━━━━\u001b[0m\u001b[37m\u001b[0m \u001b[1m51s\u001b[0m 20ms/step - accuracy: 0.8195 - loss: 0.4468 - val_accuracy: 0.8137 - val_loss: 0.4533 - learning_rate: 0.0010\n",
      "Epoch 65/100\n",
      "\u001b[1m2577/2577\u001b[0m \u001b[32m━━━━━━━━━━━━━━━━━━━━\u001b[0m\u001b[37m\u001b[0m \u001b[1m52s\u001b[0m 20ms/step - accuracy: 0.8167 - loss: 0.4465 - val_accuracy: 0.8178 - val_loss: 0.4467 - learning_rate: 0.0010\n",
      "Epoch 66/100\n",
      "\u001b[1m2577/2577\u001b[0m \u001b[32m━━━━━━━━━━━━━━━━━━━━\u001b[0m\u001b[37m\u001b[0m \u001b[1m51s\u001b[0m 20ms/step - accuracy: 0.8169 - loss: 0.4490 - val_accuracy: 0.8143 - val_loss: 0.4511 - learning_rate: 0.0010\n",
      "Epoch 67/100\n",
      "\u001b[1m2577/2577\u001b[0m \u001b[32m━━━━━━━━━━━━━━━━━━━━\u001b[0m\u001b[37m\u001b[0m \u001b[1m51s\u001b[0m 20ms/step - accuracy: 0.8174 - loss: 0.4472 - val_accuracy: 0.8172 - val_loss: 0.4446 - learning_rate: 0.0010\n",
      "Epoch 68/100\n",
      "\u001b[1m2577/2577\u001b[0m \u001b[32m━━━━━━━━━━━━━━━━━━━━\u001b[0m\u001b[37m\u001b[0m \u001b[1m51s\u001b[0m 20ms/step - accuracy: 0.8186 - loss: 0.4488 - val_accuracy: 0.8167 - val_loss: 0.4479 - learning_rate: 0.0010\n",
      "Epoch 69/100\n",
      "\u001b[1m2577/2577\u001b[0m \u001b[32m━━━━━━━━━━━━━━━━━━━━\u001b[0m\u001b[37m\u001b[0m \u001b[1m52s\u001b[0m 20ms/step - accuracy: 0.8177 - loss: 0.4470 - val_accuracy: 0.8162 - val_loss: 0.4455 - learning_rate: 0.0010\n",
      "Epoch 70/100\n",
      "\u001b[1m2577/2577\u001b[0m \u001b[32m━━━━━━━━━━━━━━━━━━━━\u001b[0m\u001b[37m\u001b[0m \u001b[1m51s\u001b[0m 20ms/step - accuracy: 0.8193 - loss: 0.4455 - val_accuracy: 0.8172 - val_loss: 0.4475 - learning_rate: 0.0010\n",
      "Epoch 71/100\n",
      "\u001b[1m2577/2577\u001b[0m \u001b[32m━━━━━━━━━━━━━━━━━━━━\u001b[0m\u001b[37m\u001b[0m \u001b[1m52s\u001b[0m 20ms/step - accuracy: 0.8177 - loss: 0.4476 - val_accuracy: 0.8185 - val_loss: 0.4432 - learning_rate: 0.0010\n",
      "Epoch 72/100\n",
      "\u001b[1m2577/2577\u001b[0m \u001b[32m━━━━━━━━━━━━━━━━━━━━\u001b[0m\u001b[37m\u001b[0m \u001b[1m51s\u001b[0m 20ms/step - accuracy: 0.8188 - loss: 0.4440 - val_accuracy: 0.8169 - val_loss: 0.4438 - learning_rate: 0.0010\n",
      "Epoch 73/100\n",
      "\u001b[1m2577/2577\u001b[0m \u001b[32m━━━━━━━━━━━━━━━━━━━━\u001b[0m\u001b[37m\u001b[0m \u001b[1m52s\u001b[0m 20ms/step - accuracy: 0.8171 - loss: 0.4462 - val_accuracy: 0.8140 - val_loss: 0.4573 - learning_rate: 0.0010\n",
      "Epoch 74/100\n",
      "\u001b[1m2577/2577\u001b[0m \u001b[32m━━━━━━━━━━━━━━━━━━━━\u001b[0m\u001b[37m\u001b[0m \u001b[1m52s\u001b[0m 20ms/step - accuracy: 0.8165 - loss: 0.4490 - val_accuracy: 0.8157 - val_loss: 0.4485 - learning_rate: 0.0010\n",
      "Epoch 75/100\n",
      "\u001b[1m2577/2577\u001b[0m \u001b[32m━━━━━━━━━━━━━━━━━━━━\u001b[0m\u001b[37m\u001b[0m \u001b[1m52s\u001b[0m 20ms/step - accuracy: 0.8187 - loss: 0.4449 - val_accuracy: 0.8172 - val_loss: 0.4434 - learning_rate: 0.0010\n",
      "Epoch 76/100\n",
      "\u001b[1m2577/2577\u001b[0m \u001b[32m━━━━━━━━━━━━━━━━━━━━\u001b[0m\u001b[37m\u001b[0m \u001b[1m51s\u001b[0m 20ms/step - accuracy: 0.8193 - loss: 0.4437 - val_accuracy: 0.8177 - val_loss: 0.4470 - learning_rate: 0.0010\n",
      "Epoch 77/100\n",
      "\u001b[1m2577/2577\u001b[0m \u001b[32m━━━━━━━━━━━━━━━━━━━━\u001b[0m\u001b[37m\u001b[0m \u001b[1m52s\u001b[0m 20ms/step - accuracy: 0.8192 - loss: 0.4434 - val_accuracy: 0.8160 - val_loss: 0.4478 - learning_rate: 0.0010\n",
      "Epoch 78/100\n",
      "\u001b[1m2577/2577\u001b[0m \u001b[32m━━━━━━━━━━━━━━━━━━━━\u001b[0m\u001b[37m\u001b[0m \u001b[1m51s\u001b[0m 20ms/step - accuracy: 0.8199 - loss: 0.4445 - val_accuracy: 0.8171 - val_loss: 0.4441 - learning_rate: 0.0010\n",
      "Epoch 79/100\n",
      "\u001b[1m2577/2577\u001b[0m \u001b[32m━━━━━━━━━━━━━━━━━━━━\u001b[0m\u001b[37m\u001b[0m \u001b[1m51s\u001b[0m 20ms/step - accuracy: 0.8187 - loss: 0.4451 - val_accuracy: 0.8180 - val_loss: 0.4454 - learning_rate: 0.0010\n",
      "Epoch 80/100\n",
      "\u001b[1m2577/2577\u001b[0m \u001b[32m━━━━━━━━━━━━━━━━━━━━\u001b[0m\u001b[37m\u001b[0m \u001b[1m51s\u001b[0m 20ms/step - accuracy: 0.8205 - loss: 0.4431 - val_accuracy: 0.8159 - val_loss: 0.4512 - learning_rate: 0.0010\n",
      "Epoch 81/100\n",
      "\u001b[1m2577/2577\u001b[0m \u001b[32m━━━━━━━━━━━━━━━━━━━━\u001b[0m\u001b[37m\u001b[0m \u001b[1m52s\u001b[0m 20ms/step - accuracy: 0.8192 - loss: 0.4447 - val_accuracy: 0.8188 - val_loss: 0.4451 - learning_rate: 0.0010\n",
      "Epoch 82/100\n",
      "\u001b[1m2577/2577\u001b[0m \u001b[32m━━━━━━━━━━━━━━━━━━━━\u001b[0m\u001b[37m\u001b[0m \u001b[1m51s\u001b[0m 20ms/step - accuracy: 0.8181 - loss: 0.4473 - val_accuracy: 0.8173 - val_loss: 0.4439 - learning_rate: 0.0010\n",
      "Epoch 83/100\n",
      "\u001b[1m2577/2577\u001b[0m \u001b[32m━━━━━━━━━━━━━━━━━━━━\u001b[0m\u001b[37m\u001b[0m \u001b[1m52s\u001b[0m 20ms/step - accuracy: 0.8187 - loss: 0.4437 - val_accuracy: 0.8166 - val_loss: 0.4484 - learning_rate: 0.0010\n",
      "Epoch 84/100\n",
      "\u001b[1m2577/2577\u001b[0m \u001b[32m━━━━━━━━━━━━━━━━━━━━\u001b[0m\u001b[37m\u001b[0m \u001b[1m51s\u001b[0m 20ms/step - accuracy: 0.8206 - loss: 0.4411 - val_accuracy: 0.8068 - val_loss: 0.4679 - learning_rate: 0.0010\n",
      "Epoch 85/100\n",
      "\u001b[1m2577/2577\u001b[0m \u001b[32m━━━━━━━━━━━━━━━━━━━━\u001b[0m\u001b[37m\u001b[0m \u001b[1m51s\u001b[0m 20ms/step - accuracy: 0.8172 - loss: 0.4462 - val_accuracy: 0.8143 - val_loss: 0.4551 - learning_rate: 0.0010\n",
      "Epoch 86/100\n",
      "\u001b[1m2577/2577\u001b[0m \u001b[32m━━━━━━━━━━━━━━━━━━━━\u001b[0m\u001b[37m\u001b[0m \u001b[1m51s\u001b[0m 20ms/step - accuracy: 0.8198 - loss: 0.4407 - val_accuracy: 0.8173 - val_loss: 0.4479 - learning_rate: 0.0010\n",
      "Epoch 87/100\n",
      "\u001b[1m2577/2577\u001b[0m \u001b[32m━━━━━━━━━━━━━━━━━━━━\u001b[0m\u001b[37m\u001b[0m \u001b[1m52s\u001b[0m 20ms/step - accuracy: 0.8207 - loss: 0.4418 - val_accuracy: 0.8169 - val_loss: 0.4435 - learning_rate: 0.0010\n",
      "Epoch 88/100\n",
      "\u001b[1m2577/2577\u001b[0m \u001b[32m━━━━━━━━━━━━━━━━━━━━\u001b[0m\u001b[37m\u001b[0m \u001b[1m51s\u001b[0m 20ms/step - accuracy: 0.8199 - loss: 0.4430 - val_accuracy: 0.8163 - val_loss: 0.4463 - learning_rate: 0.0010\n",
      "Epoch 89/100\n",
      "\u001b[1m2577/2577\u001b[0m \u001b[32m━━━━━━━━━━━━━━━━━━━━\u001b[0m\u001b[37m\u001b[0m \u001b[1m52s\u001b[0m 20ms/step - accuracy: 0.8193 - loss: 0.4440 - val_accuracy: 0.8186 - val_loss: 0.4427 - learning_rate: 0.0010\n",
      "Epoch 90/100\n",
      "\u001b[1m2577/2577\u001b[0m \u001b[32m━━━━━━━━━━━━━━━━━━━━\u001b[0m\u001b[37m\u001b[0m \u001b[1m51s\u001b[0m 20ms/step - accuracy: 0.8185 - loss: 0.4469 - val_accuracy: 0.8171 - val_loss: 0.4461 - learning_rate: 0.0010\n",
      "Epoch 91/100\n",
      "\u001b[1m2577/2577\u001b[0m \u001b[32m━━━━━━━━━━━━━━━━━━━━\u001b[0m\u001b[37m\u001b[0m \u001b[1m52s\u001b[0m 20ms/step - accuracy: 0.8195 - loss: 0.4452 - val_accuracy: 0.8184 - val_loss: 0.4466 - learning_rate: 0.0010\n",
      "Epoch 92/100\n",
      "\u001b[1m2577/2577\u001b[0m \u001b[32m━━━━━━━━━━━━━━━━━━━━\u001b[0m\u001b[37m\u001b[0m \u001b[1m51s\u001b[0m 20ms/step - accuracy: 0.8197 - loss: 0.4452 - val_accuracy: 0.8164 - val_loss: 0.4484 - learning_rate: 0.0010\n",
      "Epoch 93/100\n",
      "\u001b[1m2577/2577\u001b[0m \u001b[32m━━━━━━━━━━━━━━━━━━━━\u001b[0m\u001b[37m\u001b[0m \u001b[1m52s\u001b[0m 20ms/step - accuracy: 0.8209 - loss: 0.4424 - val_accuracy: 0.8165 - val_loss: 0.4455 - learning_rate: 0.0010\n",
      "Epoch 94/100\n",
      "\u001b[1m2577/2577\u001b[0m \u001b[32m━━━━━━━━━━━━━━━━━━━━\u001b[0m\u001b[37m\u001b[0m \u001b[1m52s\u001b[0m 20ms/step - accuracy: 0.8195 - loss: 0.4451 - val_accuracy: 0.8174 - val_loss: 0.4441 - learning_rate: 0.0010\n",
      "Epoch 95/100\n",
      "\u001b[1m2577/2577\u001b[0m \u001b[32m━━━━━━━━━━━━━━━━━━━━\u001b[0m\u001b[37m\u001b[0m \u001b[1m52s\u001b[0m 20ms/step - accuracy: 0.8201 - loss: 0.4426 - val_accuracy: 0.8183 - val_loss: 0.4429 - learning_rate: 0.0010\n",
      "Epoch 96/100\n",
      "\u001b[1m2577/2577\u001b[0m \u001b[32m━━━━━━━━━━━━━━━━━━━━\u001b[0m\u001b[37m\u001b[0m \u001b[1m51s\u001b[0m 20ms/step - accuracy: 0.8181 - loss: 0.4450 - val_accuracy: 0.8180 - val_loss: 0.4441 - learning_rate: 0.0010\n",
      "Epoch 97/100\n",
      "\u001b[1m2577/2577\u001b[0m \u001b[32m━━━━━━━━━━━━━━━━━━━━\u001b[0m\u001b[37m\u001b[0m \u001b[1m53s\u001b[0m 20ms/step - accuracy: 0.8194 - loss: 0.4440 - val_accuracy: 0.8184 - val_loss: 0.4437 - learning_rate: 0.0010\n",
      "Epoch 98/100\n",
      "\u001b[1m2577/2577\u001b[0m \u001b[32m━━━━━━━━━━━━━━━━━━━━\u001b[0m\u001b[37m\u001b[0m \u001b[1m51s\u001b[0m 20ms/step - accuracy: 0.8213 - loss: 0.4423 - val_accuracy: 0.8175 - val_loss: 0.4468 - learning_rate: 0.0010\n",
      "Epoch 99/100\n",
      "\u001b[1m2577/2577\u001b[0m \u001b[32m━━━━━━━━━━━━━━━━━━━━\u001b[0m\u001b[37m\u001b[0m \u001b[1m52s\u001b[0m 20ms/step - accuracy: 0.8198 - loss: 0.4427 - val_accuracy: 0.8164 - val_loss: 0.4461 - learning_rate: 0.0010\n",
      "Epoch 100/100\n",
      "\u001b[1m2577/2577\u001b[0m \u001b[32m━━━━━━━━━━━━━━━━━━━━\u001b[0m\u001b[37m\u001b[0m \u001b[1m51s\u001b[0m 20ms/step - accuracy: 0.8184 - loss: 0.4465 - val_accuracy: 0.8191 - val_loss: 0.4428 - learning_rate: 0.0010\n"
     ]
    }
   ],
   "source": [
    "# Training CNN model\n",
    "start_time = time.time()\n",
    "\n",
    "# Training với Learning Rate Scheduler\n",
    "lr_scheduler = LearningRateScheduler(lr_schedule)\n",
    "model.fit(X_train, y_train, epochs=100, batch_size=64, validation_split=0.2, callbacks=[lr_scheduler])\n",
    "\n",
    "end_time = time.time()"
   ]
  },
  {
   "cell_type": "code",
   "execution_count": 12,
   "metadata": {},
   "outputs": [
    {
     "name": "stdout",
     "output_type": "stream",
     "text": [
      "\u001b[1m1611/1611\u001b[0m \u001b[32m━━━━━━━━━━━━━━━━━━━━\u001b[0m\u001b[37m\u001b[0m \u001b[1m5s\u001b[0m 3ms/step\n"
     ]
    }
   ],
   "source": [
    "# Dự đoán nhãn của tập test\n",
    "y_pred = model.predict(X_test)\n",
    "y_pred = np.argmax(y_pred, axis=1)  # Chuyển kết quả thành class dự đoán"
   ]
  },
  {
   "cell_type": "code",
   "execution_count": 13,
   "metadata": {},
   "outputs": [
    {
     "name": "stderr",
     "output_type": "stream",
     "text": [
      "WARNING:absl:You are saving your model as an HDF5 file via `model.save()` or `keras.saving.save_model(model)`. This file format is considered legacy. We recommend using instead the native Keras format, e.g. `model.save('my_model.keras')` or `keras.saving.save_model(model, 'my_model.keras')`. \n"
     ]
    }
   ],
   "source": [
    "# Save model\n",
    "model.save(\"../models/cnn.h5\")"
   ]
  },
  {
   "cell_type": "markdown",
   "metadata": {},
   "source": [
    "## **5. Confusion matrix**"
   ]
  },
  {
   "cell_type": "code",
   "execution_count": 14,
   "metadata": {},
   "outputs": [],
   "source": [
    "# Decode y \n",
    "y_test_labels = label_encoder.inverse_transform(y_test)\n",
    "y_pred_labels = label_encoder.inverse_transform(y_pred)"
   ]
  },
  {
   "cell_type": "code",
   "execution_count": 15,
   "metadata": {},
   "outputs": [
    {
     "data": {
      "text/plain": [
       "array([[   27,     0,     2,   366,    24,     0,   100,     0,     0,\n",
       "            0],\n",
       "       [    0,     3,     4,   416,    33,     0,     7,     5,     0,\n",
       "            0],\n",
       "       [    0,     5,   147,  2966,    72,     7,    68,    16,    11,\n",
       "            0],\n",
       "       [    3,     2,    72,  8379,   206,     8,   271,   121,    18,\n",
       "            0],\n",
       "       [    0,     0,     2,   580,  2512,     0,  1703,    28,     6,\n",
       "            0],\n",
       "       [    0,     0,    32,   192,    28, 11266,    15,     3,     1,\n",
       "            0],\n",
       "       [    1,     0,     4,   109,   825,     7, 17612,    43,    12,\n",
       "            0],\n",
       "       [    0,     0,     5,   689,    25,     1,    45,  2087,     0,\n",
       "            0],\n",
       "       [    0,     0,     0,    84,    26,     1,    52,    36,   110,\n",
       "            0],\n",
       "       [    0,     0,     0,    29,     1,     2,     1,     1,     0,\n",
       "            0]], dtype=int64)"
      ]
     },
     "execution_count": 15,
     "metadata": {},
     "output_type": "execute_result"
    }
   ],
   "source": [
    "# Create confusion matrix\n",
    "confusion_matrix_result = confusion_matrix(y_test, y_pred, labels=[0, 1, 2, 3, 4, 5, 6, 7, 8, 9])\n",
    "confusion_matrix_result"
   ]
  },
  {
   "cell_type": "code",
   "execution_count": 16,
   "metadata": {},
   "outputs": [],
   "source": [
    "# Compute confusion matrix\n",
    "def plot_confusion_matrix(\n",
    "        cm,\n",
    "        target_names,\n",
    "        title='Confusion matrix',\n",
    "        cmap=None,\n",
    "        normalize=True\n",
    "):\n",
    "    \n",
    "    import itertools\n",
    "\n",
    "    accuracy = np.trace(cm) / float(np.sum(cm))\n",
    "    misclass = 1 - accuracy\n",
    "\n",
    "    if cmap is None:\n",
    "        cmap = plt.get_cmap('Blues')\n",
    "\n",
    "    plt.figure(figsize=(8, 6))\n",
    "    plt.imshow(cm, interpolation='nearest', cmap=cmap)\n",
    "    plt.title(title)\n",
    "    plt.colorbar()\n",
    "\n",
    "    if target_names is not None:\n",
    "        tick_marks = np.arange(len(target_names))\n",
    "        plt.xticks(tick_marks, target_names, rotation=45)\n",
    "        plt.yticks(tick_marks, target_names)\n",
    "\n",
    "    if normalize:\n",
    "        cm = cm.astype('float') / cm.sum(axis=1)[:, np.newaxis]\n",
    "\n",
    "\n",
    "    thresh = cm.max() / 1.5 if normalize else cm.max() / 2\n",
    "    for i, j in itertools.product(range(cm.shape[0]), range(cm.shape[1])):\n",
    "        if normalize:\n",
    "            plt.text(j, i, \"{:0.4f}\".format(cm[i, j]),\n",
    "                     horizontalalignment=\"center\",\n",
    "                     color=\"white\" if cm[i, j] > thresh else \"black\")\n",
    "        else:\n",
    "            plt.text(j, i, \"{:,}\".format(cm[i, j]),\n",
    "                     horizontalalignment=\"center\",\n",
    "                     color=\"white\" if cm[i, j] > thresh else \"black\")\n",
    "\n",
    "\n",
    "    plt.tight_layout()\n",
    "    plt.ylabel('True label')\n",
    "    plt.xlabel('Predicted label\\naccuracy={:0.4f}; misclass={:0.4f}'.format(accuracy, misclass))\n",
    "    plt.show()"
   ]
  },
  {
   "cell_type": "code",
   "execution_count": 17,
   "metadata": {},
   "outputs": [],
   "source": [
    "target_names=[\n",
    "    'Analysis', \n",
    "    'Backdoor', \n",
    "    'DoS', \n",
    "    'Exploits', \n",
    "    'Fuzzers', \n",
    "    'Generic', \n",
    "    'Normal', \n",
    "    'Reconnaissance', \n",
    "    'Shellcode', \n",
    "    'Worms'\n",
    "]"
   ]
  },
  {
   "cell_type": "code",
   "execution_count": 18,
   "metadata": {},
   "outputs": [
    {
     "data": {
      "image/png": "[encoded data removed]",
      "text/plain": [
       "<Figure size 800x600 with 2 Axes>"
      ]
     },
     "metadata": {},
     "output_type": "display_data"
    }
   ],
   "source": [
    "# Plot confusion matrix\n",
    "plot_confusion_matrix(\n",
    "    confusion_matrix_result, \n",
    "    normalize=False,\n",
    "    target_names=target_names, \n",
    "    title=\"Confusion Matrix CNN\"\n",
    ")"
   ]
  },
  {
   "cell_type": "markdown",
   "metadata": {},
   "source": [
    "## **6. Caculate metrics**"
   ]
  },
  {
   "cell_type": "code",
   "execution_count": 19,
   "metadata": {},
   "outputs": [
    {
     "name": "stdout",
     "output_type": "stream",
     "text": [
      "Training time: 1.42 hours\n"
     ]
    }
   ],
   "source": [
    "# Training time\n",
    "training_time = end_time -start_time\n",
    "print(f\"Training time: {training_time/60/60:.2f} hours\")"
   ]
  },
  {
   "cell_type": "code",
   "execution_count": 20,
   "metadata": {},
   "outputs": [],
   "source": [
    "# Tính Detection Rate và False Positive Rate\n",
    "tp = np.diag(confusion_matrix_result)  # True Positives\n",
    "fn = np.sum(confusion_matrix_result, axis=1) - tp  # False Negatives\n",
    "fp = np.sum(confusion_matrix_result, axis=0) - tp  # False Positives"
   ]
  },
  {
   "cell_type": "code",
   "execution_count": 21,
   "metadata": {},
   "outputs": [
    {
     "name": "stdout",
     "output_type": "stream",
     "text": [
      "            Class  False Positive Rate  Detection Rate\n",
      "0        Analysis             0.008065        0.052023\n",
      "1        Backdoor             0.014831        0.006410\n",
      "2             DoS             0.037048        0.044654\n",
      "3        Exploits             0.885682        0.922797\n",
      "4         Fuzzers             0.348412        0.519975\n",
      "5         Generic             0.087542        0.976510\n",
      "6          Normal             0.693227        0.946220\n",
      "7  Reconnaissance             0.248527        0.731767\n",
      "8       Shellcode             0.194332        0.355987\n",
      "9           Worms             0.000000        0.000000\n"
     ]
    }
   ],
   "source": [
    "detection_rate = tp / (tp + fn)\n",
    "fpr = fp / (fp + np.sum(confusion_matrix_result, axis=1) - tp)\n",
    "df = pd.DataFrame({\"Class\": target_names, \"False Positive Rate\": fpr, \"Detection Rate\": detection_rate})\n",
    "\n",
    "# Hiển thị bảng\n",
    "print(df)"
   ]
  },
  {
   "cell_type": "code",
   "execution_count": 22,
   "metadata": {},
   "outputs": [
    {
     "name": "stdout",
     "output_type": "stream",
     "text": [
      "                precision    recall  f1-score   support\n",
      "\n",
      "      Analysis       0.87      0.05      0.10       519\n",
      "      Backdoor       0.30      0.01      0.01       468\n",
      "           DoS       0.55      0.04      0.08      3292\n",
      "      Exploits       0.61      0.92      0.73      9080\n",
      "       Fuzzers       0.67      0.52      0.59      4831\n",
      "       Generic       1.00      0.98      0.99     11537\n",
      "        Normal       0.89      0.95      0.92     18613\n",
      "Reconnaissance       0.89      0.73      0.80      2852\n",
      "     Shellcode       0.70      0.36      0.47       309\n",
      "         Worms       0.00      0.00      0.00        34\n",
      "\n",
      "      accuracy                           0.82     51535\n",
      "     macro avg       0.65      0.46      0.47     51535\n",
      "  weighted avg       0.81      0.82      0.79     51535\n",
      "\n"
     ]
    },
    {
     "name": "stderr",
     "output_type": "stream",
     "text": [
      "d:\\ML\\env311\\Lib\\site-packages\\sklearn\\metrics\\_classification.py:1565: UndefinedMetricWarning: Precision is ill-defined and being set to 0.0 in labels with no predicted samples. Use `zero_division` parameter to control this behavior.\n",
      "  _warn_prf(average, modifier, f\"{metric.capitalize()} is\", len(result))\n",
      "d:\\ML\\env311\\Lib\\site-packages\\sklearn\\metrics\\_classification.py:1565: UndefinedMetricWarning: Precision is ill-defined and being set to 0.0 in labels with no predicted samples. Use `zero_division` parameter to control this behavior.\n",
      "  _warn_prf(average, modifier, f\"{metric.capitalize()} is\", len(result))\n",
      "d:\\ML\\env311\\Lib\\site-packages\\sklearn\\metrics\\_classification.py:1565: UndefinedMetricWarning: Precision is ill-defined and being set to 0.0 in labels with no predicted samples. Use `zero_division` parameter to control this behavior.\n",
      "  _warn_prf(average, modifier, f\"{metric.capitalize()} is\", len(result))\n"
     ]
    }
   ],
   "source": [
    "# Hiển thị báo cáo phân loại\n",
    "print(classification_report(y_test_labels, y_pred_labels, target_names=label_encoder.classes_))"
   ]
  },
  {
   "cell_type": "code",
   "execution_count": null,
   "metadata": {},
   "outputs": [
    {
     "name": "stdout",
     "output_type": "stream",
     "text": [
      "Mean Absolute Error -  0.35919278160473467\n",
      "Mean Squared Error -  0.943727563791598\n",
      "Root Mean Squared Error -  0.9714564137374347\n",
      "R2 Score -  60.413434821197896\n",
      "F1 Score (weighted):  78.90615132407812\n",
      "Accuracy -  81.77549238381683\n"
     ]
    }
   ],
   "source": [
    "# print(\"Mean Absolute Error - \", mean_absolute_error(y_test, y_pred))\n",
    "# print(\"Mean Squared Error - \", mean_squared_error(y_test, y_pred))\n",
    "# print(\"Root Mean Squared Error - \", np.sqrt(mean_squared_error(y_test, y_pred)))\n",
    "# print(\"R2 Score - \", explained_variance_score(y_test, y_pred) * 100)\n",
    "print(\"F1 Score (weighted): \", f1_score(y_test, y_pred, average='weighted') * 100)\n",
    "print(\"Accuracy - \",accuracy_score(y_test, y_pred, average='weighted') * 100)\n",
    "print(\"Precision - \",precision_score(y_test, y_pred, average='weighted') * 100)\n",
    "print(\"Recall - \", recall_score(y_test, y_pred, average='weighted') * 100)"
   ]
  }
 ],
 "metadata": {
  "kernelspec": {
   "display_name": "vevn",
   "language": "python",
   "name": "python3"
  },
  "language_info": {
   "codemirror_mode": {
    "name": "ipython",
    "version": 3
   },
   "file_extension": ".py",
   "mimetype": "text/x-python",
   "name": "python",
   "nbconvert_exporter": "python",
   "pygments_lexer": "ipython3",
   "version": "3.12.7"
  }
 },
 "nbformat": 4,
 "nbformat_minor": 2
}
