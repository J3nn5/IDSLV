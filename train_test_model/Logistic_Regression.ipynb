{
 "cells": [
  {
   "cell_type": "markdown",
   "metadata": {},
   "source": [
    "# **1. Import library**"
   ]
  },
  {
   "cell_type": "code",
   "execution_count": 1,
   "metadata": {},
   "outputs": [
    {
     "name": "stdout",
     "output_type": "stream",
     "text": [
      "c:\\Users\\ADMIN\\Documents\\Jupyter Notebook\\IDS-develop\\vevn\\Scripts\\python.exe\n"
     ]
    }
   ],
   "source": [
    "import sys\n",
    "print(sys.executable)\n"
   ]
  },
  {
   "cell_type": "code",
   "execution_count": null,
   "metadata": {},
   "outputs": [],
   "source": [
    "import pandas as pd\n",
    "import numpy as np\n",
    "import tensorflow as tf\n",
    "import time\n",
    "import seaborn as sns\n",
    "import matplotlib.pyplot as plt\n",
    "from sklearn.model_selection import StratifiedKFold\n",
    "import pickle\n",
    "from os import path\n",
    "\n",
    "from sklearn.linear_model import LogisticRegression\n",
    "from sklearn.model_selection import train_test_split\n",
    "from sklearn.preprocessing import StandardScaler, LabelEncoder, OneHotEncoder\n",
    "from sklearn.metrics import (\n",
    "    accuracy_score, \n",
    "    confusion_matrix,  \n",
    "    classification_report,\n",
    "    mean_absolute_error, \n",
    "    mean_squared_error, \n",
    "    explained_variance_score,\n",
    "    f1_score,\n",
    ")\n",
    "\n",
    "from keras.src.models import Sequential\n",
    "from keras.src.layers import (LSTM, Dense, Dropout, BatchNormalization)\n",
    "\n",
    "from keras.src.optimizers import SGD"
   ]
  },
  {
   "cell_type": "markdown",
   "metadata": {},
   "source": [
    "# **2. Load normalized data**"
   ]
  },
  {
   "cell_type": "code",
   "execution_count": 3,
   "metadata": {},
   "outputs": [],
   "source": [
    "normalized_data = pd.read_csv('../processed_data/normalized_data.csv')\n",
    "X = normalized_data.drop(\"attack_cat\", axis=1).values\n",
    "y = normalized_data[\"attack_cat\"].values"
   ]
  },
  {
   "cell_type": "code",
   "execution_count": 4,
   "metadata": {},
   "outputs": [
    {
     "data": {
      "text/plain": [
       "array([[2.02463370e-03, 4.69704086e-04, 3.63042294e-04, ...,\n",
       "        0.00000000e+00, 0.00000000e+00, 0.00000000e+00],\n",
       "       [1.08317020e-02, 1.22123062e-03, 3.44890180e-03, ...,\n",
       "        0.00000000e+00, 0.00000000e+00, 0.00000000e+00],\n",
       "       [2.70521550e-02, 6.57585721e-04, 1.45216918e-03, ...,\n",
       "        0.00000000e+00, 0.00000000e+00, 0.00000000e+00],\n",
       "       ...,\n",
       "       [0.00000000e+00, 0.00000000e+00, 0.00000000e+00, ...,\n",
       "        0.00000000e+00, 0.00000000e+00, 0.00000000e+00],\n",
       "       [0.00000000e+00, 0.00000000e+00, 0.00000000e+00, ...,\n",
       "        0.00000000e+00, 0.00000000e+00, 0.00000000e+00],\n",
       "       [1.50000028e-07, 9.39408173e-05, 0.00000000e+00, ...,\n",
       "        0.00000000e+00, 0.00000000e+00, 0.00000000e+00]])"
      ]
     },
     "execution_count": 4,
     "metadata": {},
     "output_type": "execute_result"
    }
   ],
   "source": [
    "X"
   ]
  },
  {
   "cell_type": "code",
   "execution_count": 5,
   "metadata": {},
   "outputs": [
    {
     "data": {
      "text/plain": [
       "array(['Normal', 'Normal', 'Normal', ..., 'Normal', 'Normal', 'Normal'],\n",
       "      dtype=object)"
      ]
     },
     "execution_count": 5,
     "metadata": {},
     "output_type": "execute_result"
    }
   ],
   "source": [
    "y"
   ]
  },
  {
   "cell_type": "code",
   "execution_count": null,
   "metadata": {},
   "outputs": [],
   "source": [
    "# Splitting data into Train and Test\n",
    "X_train, X_test, y_train, y_test = train_test_split(X, y, test_size=0.2, random_state=42)"
   ]
  },
  {
   "cell_type": "code",
   "execution_count": null,
   "metadata": {},
   "outputs": [],
   "source": [
    "#Encoding y\n",
    "\n",
    "label_encoder = LabelEncoder()\n",
    "y_train_encoded = label_encoder.fit_transform(y_train)\n",
    "y_test_encoded = label_encoder.transform(y_test)"
   ]
  },
  {
   "cell_type": "markdown",
   "metadata": {},
   "source": [
    "# **3. Balance the Dataset and Initialize Cross-Validation technique Build the CNN model**"
   ]
  },
  {
   "cell_type": "code",
   "execution_count": null,
   "metadata": {},
   "outputs": [],
   "source": [
    "# Balance the dataset using SMOTE\n",
    "from imblearn.over_sampling import SMOTE\n",
    "smote = SMOTE(random_state=42)\n",
    "X_train_resampled, y_train_resampled = smote.fit_resample(X_train, y_train)"
   ]
  },
  {
   "cell_type": "code",
   "execution_count": null,
   "metadata": {},
   "outputs": [],
   "source": [
    "# Split the data into 6 parts while maintaining the label ratio\n",
    "# Early Stopping during each fold when validation loss stops improving\n",
    "\n",
    "# Define KFold\n",
    "kfold = StratifiedKFold(n_splits=3, shuffle=True, random_state=42)\n",
    "kfold.get_n_splits(X, y)\n",
    "\n"
   ]
  },
  {
   "cell_type": "markdown",
   "metadata": {},
   "source": [
    "# **3. Training Logistic Regression model**"
   ]
  },
  {
   "cell_type": "code",
   "execution_count": 9,
   "metadata": {},
   "outputs": [
    {
     "name": "stderr",
     "output_type": "stream",
     "text": [
      "c:\\Users\\ADMIN\\Documents\\Jupyter Notebook\\IDS-develop\\vevn\\Lib\\site-packages\\sklearn\\linear_model\\_logistic.py:1247: FutureWarning: 'multi_class' was deprecated in version 1.5 and will be removed in 1.7. From then on, it will always use 'multinomial'. Leave it to its default value to avoid this warning.\n",
      "  warnings.warn(\n"
     ]
    }
   ],
   "source": [
    "logr = LogisticRegression(random_state=42, max_iter=5000, solver='newton-cg',multi_class='multinomial')\n",
    "\n",
    "# Start time\n",
    "start_time = time.time()\n",
    "\n",
    "logr.fit(X_train, y_train_encoded)\n",
    "\n",
    "# End time\n",
    "end_time = time.time()"
   ]
  },
  {
   "cell_type": "code",
   "execution_count": 10,
   "metadata": {},
   "outputs": [],
   "source": [
    "y_pred_encoded = logr.predict(X_test)"
   ]
  },
  {
   "cell_type": "code",
   "execution_count": 11,
   "metadata": {},
   "outputs": [],
   "source": [
    "# Save model\n",
    "pkl_filename = \"../models/logistic_regressor_multi.h5\"\n",
    "with open(pkl_filename, 'wb') as file:\n",
    "    pickle.dump(logr, file)"
   ]
  },
  {
   "cell_type": "markdown",
   "metadata": {},
   "source": [
    "# **4. Confusion maxtrix**"
   ]
  },
  {
   "cell_type": "code",
   "execution_count": 12,
   "metadata": {},
   "outputs": [],
   "source": [
    "target_names=[\n",
    "    'Analysis', \n",
    "    'Backdoor', \n",
    "    'DoS', \n",
    "    'Exploits', \n",
    "    'Fuzzers', \n",
    "    'Generic', \n",
    "    'Normal', \n",
    "    'Reconnaissance', \n",
    "    'Shellcode', \n",
    "    'Worms'\n",
    "]"
   ]
  },
  {
   "cell_type": "code",
   "execution_count": 13,
   "metadata": {},
   "outputs": [
    {
     "data": {
      "text/plain": [
       "array([[   18,     0,    16,   359,    48,     0,    78,     0,     0,\n",
       "            0],\n",
       "       [    0,     1,    18,   346,    63,     0,    17,    23,     0,\n",
       "            0],\n",
       "       [    0,     0,   141,  2802,   141,    25,   107,    76,     0,\n",
       "            0],\n",
       "       [    0,     1,   191,  7717,   445,    33,   473,   220,     0,\n",
       "            0],\n",
       "       [    0,     0,    19,   534,  2064,    18,  1882,   314,     0,\n",
       "            0],\n",
       "       [    0,     0,     0,   197,    61, 11238,    23,    18,     0,\n",
       "            0],\n",
       "       [    2,     0,     0,   431,   870,     1, 16898,   411,     0,\n",
       "            0],\n",
       "       [    0,     0,    32,   768,   103,     7,   265,  1677,     0,\n",
       "            0],\n",
       "       [    0,     0,     0,     3,    50,     0,    53,   203,     0,\n",
       "            0],\n",
       "       [    0,     0,     0,    21,     2,    10,     0,     1,     0,\n",
       "            0]])"
      ]
     },
     "execution_count": 13,
     "metadata": {},
     "output_type": "execute_result"
    }
   ],
   "source": [
    "# Create confusion matrix\n",
    "confusion_matrix_result = confusion_matrix(y_test_encoded, y_pred_encoded, labels=np.arange(len(target_names)))\n",
    "confusion_matrix_result"
   ]
  },
  {
   "cell_type": "code",
   "execution_count": 14,
   "metadata": {},
   "outputs": [],
   "source": [
    "# Compute confusion matrix\n",
    "def plot_confusion_matrix(\n",
    "        cm,\n",
    "        target_names,\n",
    "        title='Confusion matrix',\n",
    "        cmap=None,\n",
    "        normalize=True\n",
    "):\n",
    "    \n",
    "    import itertools\n",
    "\n",
    "    accuracy = np.trace(cm) / float(np.sum(cm))\n",
    "    misclass = 1 - accuracy\n",
    "\n",
    "    if cmap is None:\n",
    "        cmap = plt.get_cmap('Blues')\n",
    "\n",
    "    plt.figure(figsize=(8, 6))\n",
    "    plt.imshow(cm, interpolation='nearest', cmap=cmap)\n",
    "    plt.title(title)\n",
    "    plt.colorbar()\n",
    "\n",
    "    if target_names is not None:\n",
    "        tick_marks = np.arange(len(target_names))\n",
    "        plt.xticks(tick_marks, target_names, rotation=45)\n",
    "        plt.yticks(tick_marks, target_names)\n",
    "\n",
    "    if normalize:\n",
    "        cm = cm.astype('float') / cm.sum(axis=1)[:, np.newaxis]\n",
    "\n",
    "\n",
    "    thresh = cm.max() / 1.5 if normalize else cm.max() / 2\n",
    "    for i, j in itertools.product(range(cm.shape[0]), range(cm.shape[1])):\n",
    "        if normalize:\n",
    "            plt.text(j, i, \"{:0.4f}\".format(cm[i, j]),\n",
    "                     horizontalalignment=\"center\",\n",
    "                     color=\"white\" if cm[i, j] > thresh else \"black\")\n",
    "        else:\n",
    "            plt.text(j, i, \"{:,}\".format(cm[i, j]),\n",
    "                     horizontalalignment=\"center\",\n",
    "                     color=\"white\" if cm[i, j] > thresh else \"black\")\n",
    "\n",
    "\n",
    "    plt.tight_layout()\n",
    "    plt.ylabel('True label')\n",
    "    plt.xlabel('Predicted label\\naccuracy={:0.4f}; misclass={:0.4f}'.format(accuracy, misclass))\n",
    "    plt.show()"
   ]
  },
  {
   "cell_type": "code",
   "execution_count": 15,
   "metadata": {},
   "outputs": [
    {
     "data": {
      "image/png": "[encoded data removed]",
      "text/plain": [
       "<Figure size 800x600 with 2 Axes>"
      ]
     },
     "metadata": {},
     "output_type": "display_data"
    }
   ],
   "source": [
    "# Plot confusion matrix\n",
    "plot_confusion_matrix(\n",
    "    confusion_matrix_result, \n",
    "    normalize=False,\n",
    "    target_names=target_names, \n",
    "    title=\"Confusion Matrix Logistic Regression\"\n",
    ")"
   ]
  },
  {
   "cell_type": "markdown",
   "metadata": {},
   "source": [
    "# **5. Calculate metrics**"
   ]
  },
  {
   "cell_type": "code",
   "execution_count": 16,
   "metadata": {},
   "outputs": [
    {
     "name": "stdout",
     "output_type": "stream",
     "text": [
      "Training time: 34.99 seconds\n"
     ]
    }
   ],
   "source": [
    "# Training time\n",
    "training_time = end_time - start_time\n",
    "print(f\"Training time: {training_time:.2f} seconds\")"
   ]
  },
  {
   "cell_type": "code",
   "execution_count": null,
   "metadata": {},
   "outputs": [],
   "source": [
    "# Tính Detection Rate và False Positive Rate\n",
    "tp = np.diag(confusion_matrix_result)  # True Positives\n",
    "fn = np.sum(confusion_matrix_result, axis=1) - tp  # False Negatives\n",
    "fp = np.sum(confusion_matrix_result, axis=0) - tp  # False Positives"
   ]
  },
  {
   "cell_type": "code",
   "execution_count": 20,
   "metadata": {},
   "outputs": [
    {
     "name": "stdout",
     "output_type": "stream",
     "text": [
      "            Class  False Positive Rate  Detection Rate\n",
      "0        Analysis             0.003976        0.034682\n",
      "1        Backdoor             0.002137        0.002137\n",
      "2             DoS             0.080537        0.042831\n",
      "3        Exploits             0.800264        0.849890\n",
      "4         Fuzzers             0.391868        0.427241\n",
      "5         Generic             0.239186        0.974083\n",
      "6          Normal             0.628225        0.907860\n",
      "7  Reconnaissance             0.518640        0.588008\n",
      "8       Shellcode             0.000000        0.000000\n",
      "9           Worms             0.000000        0.000000\n"
     ]
    }
   ],
   "source": [
    "detection_rate = tp / (tp + fn)\n",
    "fpr = fp / (fp + np.sum(confusion_matrix_result, axis=1) - tp)\n",
    "df = pd.DataFrame({\"Class\": target_names, \"False Positive Rate\": fpr, \"Detection Rate\": detection_rate})\n",
    "\n",
    "# Hiển thị bảng\n",
    "print(df)"
   ]
  },
  {
   "cell_type": "code",
   "execution_count": 21,
   "metadata": {},
   "outputs": [
    {
     "name": "stdout",
     "output_type": "stream",
     "text": [
      "Mean Absolute Error -  0.4589114194236926\n",
      "Mean Squared Error -  1.2065974580382264\n",
      "Root Mean Squared Error -  1.098452301212131\n",
      "R2 Score -  49.54149675627829\n",
      "F1 Score -  74.2177707778564\n",
      "Accuracy -  77.13980789754535\n"
     ]
    }
   ],
   "source": [
    "print(\"Mean Absolute Error - \" , mean_absolute_error(y_test_encoded, y_pred_encoded))\n",
    "print(\"Mean Squared Error - \" , mean_squared_error(y_test_encoded, y_pred_encoded))\n",
    "print(\"Root Mean Squared Error - \" , np.sqrt(mean_squared_error(y_test_encoded, y_pred_encoded)))\n",
    "print(\"R2 Score - \" , explained_variance_score(y_test_encoded, y_pred_encoded)*100)\n",
    "print(\"F1 Score - \", f1_score(y_test_encoded, y_pred_encoded, average='weighted') * 100)\n",
    "print(\"Accuracy - \",accuracy_score(y_test_encoded, y_pred_encoded)*100)"
   ]
  },
  {
   "cell_type": "code",
   "execution_count": 22,
   "metadata": {},
   "outputs": [
    {
     "name": "stdout",
     "output_type": "stream",
     "text": [
      "                precision    recall  f1-score   support\n",
      "\n",
      "      Analysis       0.90      0.03      0.07       519\n",
      "      Backdoor       0.50      0.00      0.00       468\n",
      "           DoS       0.34      0.04      0.08      3292\n",
      "      Exploits       0.59      0.85      0.69      9080\n",
      "       Fuzzers       0.54      0.43      0.48      4831\n",
      "       Generic       0.99      0.97      0.98     11537\n",
      "        Normal       0.85      0.91      0.88     18613\n",
      "Reconnaissance       0.57      0.59      0.58      2852\n",
      "     Shellcode       0.00      0.00      0.00       309\n",
      "         Worms       0.00      0.00      0.00        34\n",
      "\n",
      "      accuracy                           0.77     51535\n",
      "     macro avg       0.53      0.38      0.38     51535\n",
      "  weighted avg       0.75      0.77      0.74     51535\n",
      "\n"
     ]
    },
    {
     "name": "stderr",
     "output_type": "stream",
     "text": [
      "c:\\Users\\ADMIN\\Documents\\Jupyter Notebook\\IDS-develop\\vevn\\Lib\\site-packages\\sklearn\\metrics\\_classification.py:1565: UndefinedMetricWarning: Precision is ill-defined and being set to 0.0 in labels with no predicted samples. Use `zero_division` parameter to control this behavior.\n",
      "  _warn_prf(average, modifier, f\"{metric.capitalize()} is\", len(result))\n",
      "c:\\Users\\ADMIN\\Documents\\Jupyter Notebook\\IDS-develop\\vevn\\Lib\\site-packages\\sklearn\\metrics\\_classification.py:1565: UndefinedMetricWarning: Precision is ill-defined and being set to 0.0 in labels with no predicted samples. Use `zero_division` parameter to control this behavior.\n",
      "  _warn_prf(average, modifier, f\"{metric.capitalize()} is\", len(result))\n",
      "c:\\Users\\ADMIN\\Documents\\Jupyter Notebook\\IDS-develop\\vevn\\Lib\\site-packages\\sklearn\\metrics\\_classification.py:1565: UndefinedMetricWarning: Precision is ill-defined and being set to 0.0 in labels with no predicted samples. Use `zero_division` parameter to control this behavior.\n",
      "  _warn_prf(average, modifier, f\"{metric.capitalize()} is\", len(result))\n"
     ]
    }
   ],
   "source": [
    "print(classification_report(y_test_encoded, y_pred_encoded, target_names=target_names))"
   ]
  },
  {
   "cell_type": "code",
   "execution_count": null,
   "metadata": {},
   "outputs": [],
   "source": [
    "import numpy as np\n",
    "\n",
    "classes = np.unique(y_test_encoded)\n",
    "\n",
    "for cls in classes:\n",
    "    idx = np.where(np.array(y_test_encoded) == cls)[0]\n",
    "    correct = np.sum(np.array(y_pred_encoded)[idx] == cls)\n",
    "    total = len(idx)\n",
    "    accuracy = correct / total if total != 0 else 0\n",
    "    print(f\"Class {cls}: {correct}/{total} = {accuracy:.2%} accuracy\")\n"
   ]
  }
 ],
 "metadata": {
  "kernelspec": {
   "display_name": "vevn",
   "language": "python",
   "name": "python3"
  },
  "language_info": {
   "codemirror_mode": {
    "name": "ipython",
    "version": 3
   },
   "file_extension": ".py",
   "mimetype": "text/x-python",
   "name": "python",
   "nbconvert_exporter": "python",
   "pygments_lexer": "ipython3",
   "version": "3.12.7"
  }
 },
 "nbformat": 4,
 "nbformat_minor": 4
}
